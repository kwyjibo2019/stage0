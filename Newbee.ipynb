{
 "cells": [
  {
   "cell_type": "code",
   "execution_count": 1,
   "metadata": {},
   "outputs": [
    {
     "name": "stdout",
     "output_type": "stream",
     "text": [
      "Adding 145 sources from C:\\splat-master/resources/Data/Public/LRIS-RED/ to spectral database\n"
     ]
    }
   ],
   "source": [
    "from astropy import units as u\n",
    "from astropy import coordinates as coord\n",
    "from astropy import coordinates as coord\n",
    "from astropy import units as u\n",
    "from astropy.table import Table\n",
    "from time import process_time\n",
    "\n",
    "import astroquery\n",
    "from astroquery.simbad import Simbad\n",
    "from astroquery.vo_conesearch import conf, conesearch, vos_catalog\n",
    "\n",
    "import matplotlib.pyplot as plt\n",
    "%matplotlib inline\n",
    "\n",
    "import numpy as np\n",
    "import pandas as pd\n",
    "\n",
    "import splat"
   ]
  },
  {
   "cell_type": "markdown",
   "metadata": {},
   "source": [
    "# Preparing the Data"
   ]
  },
  {
   "cell_type": "markdown",
   "metadata": {},
   "source": [
    "## Functions"
   ]
  },
  {
   "cell_type": "code",
   "execution_count": 2,
   "metadata": {},
   "outputs": [],
   "source": [
    "def prep_data(path):\n",
    "    df = pd.read_excel(path)\n",
    "    df['COORD'] = df['NAME'].apply(lambda x: x.split('I')[1])\n",
    "    # kast.to_excel('kast_stage1.xlsx', index=False)\n",
    "    df['COORD'] = df['COORD'].apply(lambda x: x[0:2] + ':' + x[2:4] + '.' + x[4] + ' ' + x[5:8] + ':' + x[8:10]) # Reformat of the coordinates into \"hh:mm:ss +hh:mm:ss\"\n",
    "    df['ra'] = df['COORD'].apply(lambda x: coord.SkyCoord(x, unit=(u.hourangle, u.deg)).to_string('decimal').split(' ')[0]) # Setting up 'ra' and 'dec' columns (deg)\n",
    "    df['dec'] = df['COORD'].apply(lambda x: coord.SkyCoord(x, unit=(u.hourangle, u.deg)).to_string('decimal').split(' ')[1])\n",
    "    df['SKYCOORD'] = df['COORD'].apply(lambda x: coord.SkyCoord(x, unit=(u.hourangle, u.deg))) # \"SKYCOORD\" stores astropy SkyCoord objects for convenience\n",
    "    return df"
   ]
  },
  {
   "cell_type": "markdown",
   "metadata": {},
   "source": [
    "## Working Area"
   ]
  },
  {
   "cell_type": "code",
   "execution_count": 3,
   "metadata": {},
   "outputs": [],
   "source": [
    "kast = prep_data('./kast_stage0.xlsx')\n",
    "kast['LSPN_SPT'] = kast['CLASS'] + kast['SUBTYPE'].astype('str')"
   ]
  },
  {
   "cell_type": "markdown",
   "metadata": {},
   "source": [
    "# Customize the SIMBAD"
   ]
  },
  {
   "cell_type": "markdown",
   "metadata": {},
   "source": [
    "## Functions"
   ]
  },
  {
   "cell_type": "code",
   "execution_count": 4,
   "metadata": {},
   "outputs": [],
   "source": [
    "def my_simbad(path):\n",
    "    fields_to_add = pd.read_excel(path) # read in the fields we want from the excel sheet\n",
    "    fields_to_add = fields_to_add.where(fields_to_add['output name'] != '[drop]').dropna(how='all') # drop the unwanted fields\n",
    "\n",
    "    fields_to_add['input name'] = fields_to_add['input name'].apply(lambda x: x[:-2] + '(' + x[-1] + ')' if 'FLUX' in x else x) # reformat from \"FLUX_U\" to \"FLUX(U)\"\n",
    "    fields_to_add['input name'] = fields_to_add['input name'].apply(lambda x: x.split('(')[0].lower() + '(' + x.split('(')[1]  if '(' in x else x) # reformat from \"FLUX(U)\" to \"flux(U)\" This way we preserve the captial and lower cases inside the parentheses\n",
    "    fields_to_add['input name'] = fields_to_add['input name'].apply(lambda x: x if '(' in x else x.lower()) # reformat: convert all others to lower cases.\n",
    "\n",
    "    fields_to_add['input name'] = fields_to_add['input name'].replace({'plx_value':'plx', 'mk_spectral_type':'mk', 'sp_type':'sptype'}) # reformat some other fields\n",
    "\n",
    "    fields_to_add.drop(index=0, axis=1, inplace=True) # drop the row 'main_id' to avoid repeated fields. 'main_id' is already included as default.\n",
    "\n",
    "    fields_to_add.reset_index(inplace=True) # reset index which was messed up when we drop the unwanted fields.\n",
    "    fields_to_add.drop(columns='index', axis=0, inplace=True)\n",
    "\n",
    "    fields_list = list(fields_to_add['input name']) # create a list to add to the search fields\n",
    "    fields_list.append('otype')\n",
    "    \n",
    "    customSimbad = Simbad()\n",
    "    \n",
    "    for item in fields_list:\n",
    "        try:\n",
    "            customSimbad.add_votable_fields(item)\n",
    "        except:\n",
    "            continue\n",
    "    \n",
    "    print('\"customSimbad\" is ready')\n",
    "    return customSimbad\n",
    "    "
   ]
  },
  {
   "cell_type": "markdown",
   "metadata": {},
   "source": [
    "## Working Area"
   ]
  },
  {
   "cell_type": "code",
   "execution_count": 5,
   "metadata": {},
   "outputs": [
    {
     "name": "stdout",
     "output_type": "stream",
     "text": [
      "\"customSimbad\" is ready\n"
     ]
    }
   ],
   "source": [
    "customSimbad = my_simbad('./Catalogs and columns.xlsx')"
   ]
  },
  {
   "cell_type": "code",
   "execution_count": 18,
   "metadata": {},
   "outputs": [],
   "source": [
    "# WIP"
   ]
  },
  {
   "cell_type": "code",
   "execution_count": 23,
   "metadata": {},
   "outputs": [
    {
     "data": {
      "text/plain": [
       "'00h02m03s +41d04m30s'"
      ]
     },
     "execution_count": 23,
     "metadata": {},
     "output_type": "execute_result"
    }
   ],
   "source": [
    "c = splat.properCoordinates('00:02.0 +41:04')\n",
    "c = coord.SkyCoord(c.ra + 0.75*u.arcmin, c.dec + 30*u.arcsec)\n",
    "c.to_string('hmsdms')"
   ]
  },
  {
   "cell_type": "code",
   "execution_count": 55,
   "metadata": {
    "collapsed": true,
    "jupyter": {
     "outputs_hidden": true
    }
   },
   "outputs": [
    {
     "ename": "TypeError",
     "evalue": "Can only get separation to another SkyCoord or a coordinate frame with data",
     "output_type": "error",
     "traceback": [
      "\u001b[1;31m---------------------------------------------------------------------------\u001b[0m",
      "\u001b[1;31mTypeError\u001b[0m                                 Traceback (most recent call last)",
      "\u001b[1;32m<ipython-input-55-904303606ff3>\u001b[0m in \u001b[0;36m<module>\u001b[1;34m\u001b[0m\n\u001b[1;32m----> 1\u001b[1;33m \u001b[0mc\u001b[0m\u001b[1;33m.\u001b[0m\u001b[0mmatch_to_catalog_sky\u001b[0m\u001b[1;33m(\u001b[0m\u001b[0mcatalogcoord\u001b[0m\u001b[1;33m=\u001b[0m\u001b[1;34m'00:02.0 +41:04'\u001b[0m\u001b[1;33m)\u001b[0m\u001b[1;33m\u001b[0m\u001b[1;33m\u001b[0m\u001b[0m\n\u001b[0m",
      "\u001b[1;32mC:\\Anaconda\\lib\\site-packages\\astropy\\coordinates\\sky_coordinate.py\u001b[0m in \u001b[0;36mmatch_to_catalog_sky\u001b[1;34m(self, catalogcoord, nthneighbor)\u001b[0m\n\u001b[0;32m   1042\u001b[0m             \u001b[0mself_in_catalog_frame\u001b[0m \u001b[1;33m=\u001b[0m \u001b[0mself\u001b[0m\u001b[1;33m.\u001b[0m\u001b[0mtransform_to\u001b[0m\u001b[1;33m(\u001b[0m\u001b[0mcatalogcoord\u001b[0m\u001b[1;33m)\u001b[0m\u001b[1;33m\u001b[0m\u001b[1;33m\u001b[0m\u001b[0m\n\u001b[0;32m   1043\u001b[0m         \u001b[1;32melse\u001b[0m\u001b[1;33m:\u001b[0m\u001b[1;33m\u001b[0m\u001b[1;33m\u001b[0m\u001b[0m\n\u001b[1;32m-> 1044\u001b[1;33m             raise TypeError('Can only get separation to another SkyCoord or a '\n\u001b[0m\u001b[0;32m   1045\u001b[0m                             'coordinate frame with data')\n\u001b[0;32m   1046\u001b[0m \u001b[1;33m\u001b[0m\u001b[0m\n",
      "\u001b[1;31mTypeError\u001b[0m: Can only get separation to another SkyCoord or a coordinate frame with data"
     ]
    }
   ],
   "source": [
    "def adjust_coord(c):\n",
    "    if '+' in c.to_string('hmsdms'):\n",
    "        result = coord.SkyCoord(c.ra + 0.75*u.arcmin, c.dec + 30*u.arcsec)\n",
    "    \n",
    "    "
   ]
  },
  {
   "cell_type": "code",
   "execution_count": 10,
   "metadata": {},
   "outputs": [],
   "source": [
    "from astroquery.vizier import Vizier\n",
    "from astropy.coordinates import Angle"
   ]
  },
  {
   "cell_type": "code",
   "execution_count": 20,
   "metadata": {},
   "outputs": [],
   "source": [
    "v = Vizier(columns=[\"*\", \"+_r\"], catalog=\"II/246\")\n",
    "result = v.query_region(c, radius=Angle(1.5, \"arcmin\"))\n",
    "result['II/246/out']"
   ]
  },
  {
   "cell_type": "code",
   "execution_count": 7,
   "metadata": {},
   "outputs": [],
   "source": [
    "# WIP"
   ]
  },
  {
   "cell_type": "markdown",
   "metadata": {},
   "source": [
    "# Query"
   ]
  },
  {
   "cell_type": "markdown",
   "metadata": {},
   "source": [
    "## Functions"
   ]
  },
  {
   "cell_type": "code",
   "execution_count": 6,
   "metadata": {},
   "outputs": [],
   "source": [
    "unwanted_otypes = ['X','QSO', 'Galaxy', 'Blue', 'Radio', 'WD*', 'SN', 'Candidate_RGB*', 'Planet', 'Planet?', 'GroupG', 'Unknown', 'RadioG', 'GinCl','BClG', 'Compact_Gr_G','ClG', 'LINER', 'Seyfert_1','AGN', 'EmG', 'GinGroup', 'V*', \n",
    "                   'Inexistent', 'Radio(mm)', 'S*', 'HB*', 'Seyfert_2', 'MolCld', 'DkNeb', 'gammaBurst', 'RGB*', 'UV', 'C*', 'YSO', 'GiC','IR>30um']\n",
    "\n",
    "unwanted_spt = ['IV', 'III', 'II', 'G', 'F', 'A', 'B', 'O']\n",
    "\n",
    "favorite_otypes = ['low-mass*', 'BYDra', 'brownD*', 'PM*', 'BY*', 'Fl*', 'Flare*', 'SB*', 'Ro*','LM*', 'RotV*','Candidate_brownD*','Candidate_Hsd','Er*']\n",
    "\n",
    "bibcode_list = ['2013AJ....145..102L', '2007ApJ...669.1235L', '2020AJ....159...30H']\n",
    "\n",
    "def o_filter(df,extra=[],olist=unwanted_otypes):\n",
    "    if len(extra) ==0:\n",
    "        result = df.drop(index = df[df['OTYPE'].str.decode('ascii').isin(olist)].index)\n",
    "        return result\n",
    "    else:\n",
    "        olist.extend(extra)\n",
    "        result = df.drop(index = df[df['OTYPE'].str.decode('ascii').isin(olist)].index)\n",
    "        return result\n",
    "\n",
    "def s_filter(df):\n",
    "    result = df.drop(index = df[df['SP_TYPE'].str.decode('ascii').apply(lambda x: 'y' if any(ele in x for ele in unwanted_spt) else '') == 'y'].index)\n",
    "    return result\n",
    "\n",
    "def take_favorite(df):\n",
    "    if any(ele in list(df['OTYPE'].str.decode('ascii').unique()) for ele in favorite_otypes):\n",
    "        result = df[df['OTYPE'].str.decode('ascii').isin(favorite_otypes)]\n",
    "    else:\n",
    "        result = df\n",
    "    return result\n",
    "\n",
    "def magnet_V(df):\n",
    "    if any(('V' or 'M') in x for x in df['SP_TYPE'].str.decode('ascii')):\n",
    "        df = df[[('V' or 'M') in x for x in df['SP_TYPE'].str.decode('ascii')]]\n",
    "        return df\n",
    "    else:\n",
    "        return df\n",
    "\n",
    "def compare_spt(df, index, diff=3):\n",
    "    temp = df[df['SP_TYPE'].str.decode('ascii').apply(lambda x: abs(splat.typeToNum(x) - splat.typeToNum(kast['LSPN_SPT'][index]))) <= diff].copy()\n",
    "    if len(temp) == 0:\n",
    "        return df\n",
    "    else:\n",
    "        return temp\n",
    "\n",
    "def filter_z(df):\n",
    "    result = magnet_V(take_favorite(s_filter(o_filter(temp,['**']))))\n",
    "    return result\n",
    "\n",
    "def go_query(length=25):\n",
    "    t1 = process_time()\n",
    "    raw_result = customSimbad.query_region(kast['SKYCOORD'][0], radius = 2*u.arcmin).to_pandas()\n",
    "    for i in range(1, length):\n",
    "        try:\n",
    "            temp = customSimbad.query_region(kast['SKYCOORD'][i], radius = 2*u.arcmin).to_pandas()\n",
    "            temp = s_filter(o_filter(temp))\n",
    "            temp = compare_spt(temp,i)\n",
    "            temp = take_favorite(temp)\n",
    "            temp = magnet_V(temp)\n",
    "            raw_result = raw_result.append(temp.iloc[0])\n",
    "        except:\n",
    "            raw_result = raw_result.append(pd.Series(dtype='str'), ignore_index=True)\n",
    "    t2 = process_time()\n",
    "    raw_result.reset_index(inplace=True)\n",
    "    raw_result.drop('index', axis=1, inplace=True)\n",
    "    # For some reason SIMBAD returns some columns twice. Below I manually dropped those.\n",
    "    raw_result = raw_result.drop(columns=['RA_PREC', 'DEC_PREC', 'COO_ERR_MAJA',\n",
    "       'COO_ERR_MINA', 'COO_ERR_ANGLE', 'COO_QUAL', 'COO_WAVELENGTH','MK_ds', 'MK_mss','SP_QUAL','RA_2','DEC_2','COO_BIBCODE_2','SP_BIBCODE_2'], axis=0)\n",
    "    raw_result['FLAG'] = ''\n",
    "    print(str((t2-t1)/60) + ' mins')\n",
    "    return raw_result\n",
    "\n",
    "def single_query(x, r=2, extra_filter=[], extra_fav=[], verbose=False):\n",
    "    x = splat.properCoordinates(x)\n",
    "    try:\n",
    "        temp = customSimbad.query_region(x, radius = r*u.arcmin).to_pandas()\n",
    "        temp = take_favorite(s_filter(o_filter(temp, extra_filter)))\n",
    "        temp = magnet_V(temp)\n",
    "        raw_result = temp\n",
    "    except:\n",
    "        if verbose==True:\n",
    "            print('no result found')\n",
    "    \n",
    "    raw_result.reset_index(inplace=True)\n",
    "    raw_result.drop('index', axis=1, inplace=True)\n",
    "    # For some reason SIMBAD returns some columns twice. Below I manually dropped those.\n",
    "    raw_result = raw_result.drop(columns=['RA_PREC', 'DEC_PREC', 'COO_ERR_MAJA',\n",
    "       'COO_ERR_MINA', 'COO_ERR_ANGLE', 'COO_QUAL', 'COO_WAVELENGTH','MK_ds', 'MK_mss','SP_QUAL','RA_2','DEC_2','COO_BIBCODE_2','SP_BIBCODE_2'], axis=0)\n",
    "    return raw_result\n",
    "\n",
    "def go_querybib(bibs):\n",
    "    temp = []\n",
    "    for i in bibs:\n",
    "        temp.append(Simbad.query_bibobj(i).to_pandas())\n",
    "    result = pd.concat(temp, ignore_index=True)\n",
    "    return result\n",
    "\n",
    "def decode(item):\n",
    "    try:\n",
    "        return item.decode('ascii')\n",
    "    except:\n",
    "        return item\n",
    "    \n",
    "def diff_spt(df, verbose=False):\n",
    "    df['diff_mk'] = abs(raw['MK_Spectral_type'].str.decode('ascii').apply(lambda x: splat.typeToNum(x)) - kast['LSPN_SPT'].apply(lambda x: splat.typeToNum(x)))\n",
    "    df['diff_simbad'] = abs(raw['SP_TYPE'].str.decode('ascii').apply(lambda x: splat.typeToNum(x)) - kast['LSPN_SPT'].apply(lambda x: splat.typeToNum(x)))\n",
    "    df['DIFF_SPT'] = df[['diff_mk','diff_simbad']].min(axis=1)\n",
    "    if verbose:\n",
    "        return df\n",
    "    else:\n",
    "        df.drop(columns=['diff_mk','diff_simbad'], axis=0, inplace=True)\n",
    "        return df"
   ]
  },
  {
   "cell_type": "code",
   "execution_count": 20,
   "metadata": {},
   "outputs": [],
   "source": [
    "# Ryan"
   ]
  },
  {
   "cell_type": "code",
   "execution_count": 17,
   "metadata": {},
   "outputs": [],
   "source": [
    "def query_ryan(length=25):\n",
    "    t1 = process_time()\n",
    "    raw_result = customSimbad.query_region(splat.properCoordinates(kast['COORD'][0]), radius = 1*u.arcmin).to_pandas()\n",
    "    raw_result.drop(index=[1], inplace=True)\n",
    "    for i in range(1, length):\n",
    "        try:\n",
    "            temp = customSimbad.query_region(splat.properCoordinates(kast['COORD'][i]), radius = 1*u.arcmin).to_pandas()\n",
    "            temp = s_filter(o_filter(temp))\n",
    "            temp = compare_spt(temp,i)\n",
    "            temp = take_favorite(temp)\n",
    "            temp = magnet_V(temp)\n",
    "            raw_result = raw_result.append(temp.iloc[0])\n",
    "        except:\n",
    "            raw_result = raw_result.append(pd.Series(dtype='str'), ignore_index=True)\n",
    "    t2 = process_time()\n",
    "    raw_result.reset_index(inplace=True)\n",
    "    raw_result.drop('index', axis=1, inplace=True)\n",
    "    # For some reason SIMBAD returns some columns twice. Below I manually dropped those.\n",
    "    raw_result = raw_result.drop(columns=['RA_PREC', 'DEC_PREC', 'COO_ERR_MAJA',\n",
    "       'COO_ERR_MINA', 'COO_ERR_ANGLE', 'COO_QUAL', 'COO_WAVELENGTH','MK_ds', 'MK_mss','SP_QUAL','RA_2','DEC_2','COO_BIBCODE_2','SP_BIBCODE_2'], axis=0)\n",
    "    raw_result['FLAG'] = ''\n",
    "    print(str((t2-t1)/60) + ' mins')\n",
    "    return raw_result\n",
    "\n",
    "def compare_spt(df, index, diff=3):\n",
    "    temp = df[df['SP_TYPE'].str.decode('ascii').apply(lambda x: abs(splat.typeToNum(x) - splat.typeToNum(kast['spt'][index]))) <= diff].copy()\n",
    "    if len(temp) == 0:\n",
    "        return df\n",
    "    else:\n",
    "        return temp\n",
    "\n",
    "def diff_spt(df, verbose=False):\n",
    "    df['diff_mk'] = abs(raw['MK_Spectral_type'].str.decode('ascii').apply(lambda x: splat.typeToNum(x)) - kast['spt'].apply(lambda x: splat.typeToNum(x)))\n",
    "    df['diff_simbad'] = abs(raw['SP_TYPE'].str.decode('ascii').apply(lambda x: splat.typeToNum(x)) - kast['spt'].apply(lambda x: splat.typeToNum(x)))\n",
    "    df['DIFF_SPT'] = df[['diff_mk','diff_simbad']].min(axis=1)\n",
    "    if verbose:\n",
    "        return df\n",
    "    else:\n",
    "        df.drop(columns=['diff_mk','diff_simbad'], axis=0, inplace=True)\n",
    "        return df"
   ]
  },
  {
   "cell_type": "code",
   "execution_count": 18,
   "metadata": {},
   "outputs": [],
   "source": [
    "kast = pd.read_csv('./Kastclassify_spectra_calculations_20200716 - Kastclassify_spectra_calculations_20200716.csv')"
   ]
  },
  {
   "cell_type": "code",
   "execution_count": 10,
   "metadata": {},
   "outputs": [],
   "source": [
    "kast['COORD'] = kast['RA'] + ' ' +kast['DEC']"
   ]
  },
  {
   "cell_type": "code",
   "execution_count": 10,
   "metadata": {
    "collapsed": true,
    "jupyter": {
     "outputs_hidden": true
    }
   },
   "outputs": [
    {
     "name": "stdout",
     "output_type": "stream",
     "text": [
      "0.38645833333333335 mins\n"
     ]
    },
    {
     "data": {
      "text/html": [
       "<div>\n",
       "<style scoped>\n",
       "    .dataframe tbody tr th:only-of-type {\n",
       "        vertical-align: middle;\n",
       "    }\n",
       "\n",
       "    .dataframe tbody tr th {\n",
       "        vertical-align: top;\n",
       "    }\n",
       "\n",
       "    .dataframe thead th {\n",
       "        text-align: right;\n",
       "    }\n",
       "</style>\n",
       "<table border=\"1\" class=\"dataframe\">\n",
       "  <thead>\n",
       "    <tr style=\"text-align: right;\">\n",
       "      <th></th>\n",
       "      <th>MAIN_ID</th>\n",
       "      <th>RA</th>\n",
       "      <th>DEC</th>\n",
       "      <th>COO_BIBCODE</th>\n",
       "      <th>DISTANCE_RESULT</th>\n",
       "      <th>MK_Spectral_type</th>\n",
       "      <th>MK_bibcode</th>\n",
       "      <th>SP_TYPE</th>\n",
       "      <th>SP_BIBCODE</th>\n",
       "      <th>PLX_VALUE</th>\n",
       "      <th>...</th>\n",
       "      <th>FLUX_ERROR_H</th>\n",
       "      <th>FLUX_SYSTEM_H</th>\n",
       "      <th>FLUX_BIBCODE_H</th>\n",
       "      <th>FLUX_K</th>\n",
       "      <th>FLUX_ERROR_K</th>\n",
       "      <th>FLUX_SYSTEM_K</th>\n",
       "      <th>FLUX_BIBCODE_K</th>\n",
       "      <th>OTYPE</th>\n",
       "      <th>FLAG</th>\n",
       "      <th>DIFF_SPT</th>\n",
       "    </tr>\n",
       "  </thead>\n",
       "  <tbody>\n",
       "    <tr>\n",
       "      <th>0</th>\n",
       "      <td>b'2MASS J02252626+6229583'</td>\n",
       "      <td>02 25 26.3058</td>\n",
       "      <td>+62 29 58.067</td>\n",
       "      <td>b'2018yCat.1345....0G'</td>\n",
       "      <td>2.119520</td>\n",
       "      <td>b''</td>\n",
       "      <td></td>\n",
       "      <td>b''</td>\n",
       "      <td>b''</td>\n",
       "      <td>48.5284</td>\n",
       "      <td>...</td>\n",
       "      <td>0.023</td>\n",
       "      <td>b'Vega'</td>\n",
       "      <td>b'2003yCat.2246....0C'</td>\n",
       "      <td>11.023</td>\n",
       "      <td>0.014</td>\n",
       "      <td>b'Vega'</td>\n",
       "      <td>b'2003yCat.2246....0C'</td>\n",
       "      <td>b'PM*'</td>\n",
       "      <td></td>\n",
       "      <td>NaN</td>\n",
       "    </tr>\n",
       "    <tr>\n",
       "      <th>1</th>\n",
       "      <td>b'LP  322-288'</td>\n",
       "      <td>13 00 07.4312</td>\n",
       "      <td>+30 38 56.668</td>\n",
       "      <td>b'2018yCat.1345....0G'</td>\n",
       "      <td>5.721882</td>\n",
       "      <td>b'M6.5Ve'</td>\n",
       "      <td>2005PASP..117..676R</td>\n",
       "      <td>b'M6V'</td>\n",
       "      <td>b'2001A&amp;A...370..967J'</td>\n",
       "      <td>48.4148</td>\n",
       "      <td>...</td>\n",
       "      <td>0.020</td>\n",
       "      <td>b'Vega'</td>\n",
       "      <td>b'2003yCat.2246....0C'</td>\n",
       "      <td>11.011</td>\n",
       "      <td>0.019</td>\n",
       "      <td>b'Vega'</td>\n",
       "      <td>b'2003yCat.2246....0C'</td>\n",
       "      <td>b'PM*'</td>\n",
       "      <td></td>\n",
       "      <td>0.0</td>\n",
       "    </tr>\n",
       "    <tr>\n",
       "      <th>2</th>\n",
       "      <td>b'LSPM J1733+1655'</td>\n",
       "      <td>17 33 53.1638</td>\n",
       "      <td>+16 55 12.835</td>\n",
       "      <td>b'2018yCat.1345....0G'</td>\n",
       "      <td>2.357016</td>\n",
       "      <td>b'M7e'</td>\n",
       "      <td>2014MNRAS.443.2561G</td>\n",
       "      <td>b'M6V'</td>\n",
       "      <td>b'2014AJ....147...20N'</td>\n",
       "      <td>62.3715</td>\n",
       "      <td>...</td>\n",
       "      <td>0.033</td>\n",
       "      <td>b'Vega'</td>\n",
       "      <td>b'2003yCat.2246....0C'</td>\n",
       "      <td>7.995</td>\n",
       "      <td>0.023</td>\n",
       "      <td>b'Vega'</td>\n",
       "      <td>b'2003yCat.2246....0C'</td>\n",
       "      <td>b'BYDra'</td>\n",
       "      <td></td>\n",
       "      <td>0.0</td>\n",
       "    </tr>\n",
       "    <tr>\n",
       "      <th>3</th>\n",
       "      <td>b'2MASS J08132232-1522043'</td>\n",
       "      <td>08 13 22.3272</td>\n",
       "      <td>-15 22 04.386</td>\n",
       "      <td>b'2003yCat.2246....0C'</td>\n",
       "      <td>58.699814</td>\n",
       "      <td>b'L7:'</td>\n",
       "      <td>2017AJ....153..196S</td>\n",
       "      <td>b'L7:'</td>\n",
       "      <td>b'2017AJ....153..196S'</td>\n",
       "      <td>NaN</td>\n",
       "      <td>...</td>\n",
       "      <td>0.184</td>\n",
       "      <td>b'Vega'</td>\n",
       "      <td>b'2003yCat.2246....0C'</td>\n",
       "      <td>14.860</td>\n",
       "      <td>0.126</td>\n",
       "      <td>b'Vega'</td>\n",
       "      <td>b'2003yCat.2246....0C'</td>\n",
       "      <td>b'brownD*'</td>\n",
       "      <td></td>\n",
       "      <td>12.0</td>\n",
       "    </tr>\n",
       "    <tr>\n",
       "      <th>4</th>\n",
       "      <td>b'2MASS J01202841+3302388'</td>\n",
       "      <td>01 20 28.4117</td>\n",
       "      <td>+33 02 38.611</td>\n",
       "      <td>b'2018yCat.1345....0G'</td>\n",
       "      <td>7.407006</td>\n",
       "      <td>b'M6.0'</td>\n",
       "      <td>2007AJ....133.2825R</td>\n",
       "      <td>b'M6.0'</td>\n",
       "      <td>b'2007AJ....133.2825R'</td>\n",
       "      <td>29.1606</td>\n",
       "      <td>...</td>\n",
       "      <td>0.027</td>\n",
       "      <td>b'Vega'</td>\n",
       "      <td>b'2003yCat.2246....0C'</td>\n",
       "      <td>11.240</td>\n",
       "      <td>0.022</td>\n",
       "      <td>b'Vega'</td>\n",
       "      <td>b'2003yCat.2246....0C'</td>\n",
       "      <td>b'PM*'</td>\n",
       "      <td></td>\n",
       "      <td>1.0</td>\n",
       "    </tr>\n",
       "    <tr>\n",
       "      <th>...</th>\n",
       "      <td>...</td>\n",
       "      <td>...</td>\n",
       "      <td>...</td>\n",
       "      <td>...</td>\n",
       "      <td>...</td>\n",
       "      <td>...</td>\n",
       "      <td>...</td>\n",
       "      <td>...</td>\n",
       "      <td>...</td>\n",
       "      <td>...</td>\n",
       "      <td>...</td>\n",
       "      <td>...</td>\n",
       "      <td>...</td>\n",
       "      <td>...</td>\n",
       "      <td>...</td>\n",
       "      <td>...</td>\n",
       "      <td>...</td>\n",
       "      <td>...</td>\n",
       "      <td>...</td>\n",
       "      <td>...</td>\n",
       "      <td>...</td>\n",
       "    </tr>\n",
       "    <tr>\n",
       "      <th>236</th>\n",
       "      <td>b'Gaia DR2 3060426058267356928'</td>\n",
       "      <td>07 30 30.3936</td>\n",
       "      <td>-03 39 33.599</td>\n",
       "      <td>b'2018yCat.1345....0G'</td>\n",
       "      <td>5.906312</td>\n",
       "      <td>b''</td>\n",
       "      <td></td>\n",
       "      <td>b''</td>\n",
       "      <td>b''</td>\n",
       "      <td>40.9938</td>\n",
       "      <td>...</td>\n",
       "      <td>NaN</td>\n",
       "      <td>b''</td>\n",
       "      <td>b''</td>\n",
       "      <td>NaN</td>\n",
       "      <td>NaN</td>\n",
       "      <td>b''</td>\n",
       "      <td>b''</td>\n",
       "      <td>b'PM*'</td>\n",
       "      <td></td>\n",
       "      <td>NaN</td>\n",
       "    </tr>\n",
       "    <tr>\n",
       "      <th>237</th>\n",
       "      <td>b'LP  584-4'</td>\n",
       "      <td>00 02 06.2175</td>\n",
       "      <td>+01 15 36.142</td>\n",
       "      <td>b'2018yCat.1345....0G'</td>\n",
       "      <td>11.734936</td>\n",
       "      <td>b'M9e'</td>\n",
       "      <td>2011AJ....141...97W</td>\n",
       "      <td>b'M6.5e'</td>\n",
       "      <td>b'2006A&amp;A...446..515P'</td>\n",
       "      <td>48.0539</td>\n",
       "      <td>...</td>\n",
       "      <td>0.023</td>\n",
       "      <td>b'Vega'</td>\n",
       "      <td>b'2003yCat.2246....0C'</td>\n",
       "      <td>11.129</td>\n",
       "      <td>0.023</td>\n",
       "      <td>b'Vega'</td>\n",
       "      <td>b'2003yCat.2246....0C'</td>\n",
       "      <td>b'PM*'</td>\n",
       "      <td></td>\n",
       "      <td>0.0</td>\n",
       "    </tr>\n",
       "    <tr>\n",
       "      <th>238</th>\n",
       "      <td>b'LP  290-52'</td>\n",
       "      <td>23 40 22.2236</td>\n",
       "      <td>+34 33 14.311</td>\n",
       "      <td>b'2018yCat.1345....0G'</td>\n",
       "      <td>9.615821</td>\n",
       "      <td>b''</td>\n",
       "      <td></td>\n",
       "      <td>b''</td>\n",
       "      <td>b''</td>\n",
       "      <td>53.9011</td>\n",
       "      <td>...</td>\n",
       "      <td>0.030</td>\n",
       "      <td>b'Vega'</td>\n",
       "      <td>b'2003yCat.2246....0C'</td>\n",
       "      <td>9.681</td>\n",
       "      <td>0.020</td>\n",
       "      <td>b'Vega'</td>\n",
       "      <td>b'2003yCat.2246....0C'</td>\n",
       "      <td>b'PM*'</td>\n",
       "      <td></td>\n",
       "      <td>NaN</td>\n",
       "    </tr>\n",
       "    <tr>\n",
       "      <th>239</th>\n",
       "      <td>b'SDSS J091441.22+180944.6'</td>\n",
       "      <td>09 14 41.2735</td>\n",
       "      <td>+18 09 44.622</td>\n",
       "      <td>b'2018yCat.1345....0G'</td>\n",
       "      <td>3.947584</td>\n",
       "      <td>b''</td>\n",
       "      <td></td>\n",
       "      <td>b''</td>\n",
       "      <td>b''</td>\n",
       "      <td>40.7703</td>\n",
       "      <td>...</td>\n",
       "      <td>NaN</td>\n",
       "      <td>b''</td>\n",
       "      <td>b''</td>\n",
       "      <td>NaN</td>\n",
       "      <td>NaN</td>\n",
       "      <td>b''</td>\n",
       "      <td>b''</td>\n",
       "      <td>b'Candidate_brownD*'</td>\n",
       "      <td></td>\n",
       "      <td>NaN</td>\n",
       "    </tr>\n",
       "    <tr>\n",
       "      <th>240</th>\n",
       "      <td>b'LP  401-10'</td>\n",
       "      <td>22 54 11.1784</td>\n",
       "      <td>+25 27 56.618</td>\n",
       "      <td>b'2018yCat.1345....0G'</td>\n",
       "      <td>2.446647</td>\n",
       "      <td>b'M5.5e'</td>\n",
       "      <td>2002AJ....123.2828C</td>\n",
       "      <td>b'M5.5Ve'</td>\n",
       "      <td>b'2003AJ....126.3007R'</td>\n",
       "      <td>43.1294</td>\n",
       "      <td>...</td>\n",
       "      <td>0.022</td>\n",
       "      <td>b'Vega'</td>\n",
       "      <td>b'2003yCat.2246....0C'</td>\n",
       "      <td>10.685</td>\n",
       "      <td>0.017</td>\n",
       "      <td>b'Vega'</td>\n",
       "      <td>b'2003yCat.2246....0C'</td>\n",
       "      <td>b'PM*'</td>\n",
       "      <td></td>\n",
       "      <td>0.5</td>\n",
       "    </tr>\n",
       "  </tbody>\n",
       "</table>\n",
       "<p>241 rows × 83 columns</p>\n",
       "</div>"
      ],
      "text/plain": [
       "                             MAIN_ID             RA            DEC  \\\n",
       "0         b'2MASS J02252626+6229583'  02 25 26.3058  +62 29 58.067   \n",
       "1                     b'LP  322-288'  13 00 07.4312  +30 38 56.668   \n",
       "2                 b'LSPM J1733+1655'  17 33 53.1638  +16 55 12.835   \n",
       "3         b'2MASS J08132232-1522043'  08 13 22.3272  -15 22 04.386   \n",
       "4         b'2MASS J01202841+3302388'  01 20 28.4117  +33 02 38.611   \n",
       "..                               ...            ...            ...   \n",
       "236  b'Gaia DR2 3060426058267356928'  07 30 30.3936  -03 39 33.599   \n",
       "237                     b'LP  584-4'  00 02 06.2175  +01 15 36.142   \n",
       "238                    b'LP  290-52'  23 40 22.2236  +34 33 14.311   \n",
       "239      b'SDSS J091441.22+180944.6'  09 14 41.2735  +18 09 44.622   \n",
       "240                    b'LP  401-10'  22 54 11.1784  +25 27 56.618   \n",
       "\n",
       "                COO_BIBCODE  DISTANCE_RESULT MK_Spectral_type  \\\n",
       "0    b'2018yCat.1345....0G'         2.119520              b''   \n",
       "1    b'2018yCat.1345....0G'         5.721882        b'M6.5Ve'   \n",
       "2    b'2018yCat.1345....0G'         2.357016           b'M7e'   \n",
       "3    b'2003yCat.2246....0C'        58.699814           b'L7:'   \n",
       "4    b'2018yCat.1345....0G'         7.407006          b'M6.0'   \n",
       "..                      ...              ...              ...   \n",
       "236  b'2018yCat.1345....0G'         5.906312              b''   \n",
       "237  b'2018yCat.1345....0G'        11.734936           b'M9e'   \n",
       "238  b'2018yCat.1345....0G'         9.615821              b''   \n",
       "239  b'2018yCat.1345....0G'         3.947584              b''   \n",
       "240  b'2018yCat.1345....0G'         2.446647         b'M5.5e'   \n",
       "\n",
       "              MK_bibcode    SP_TYPE              SP_BIBCODE  PLX_VALUE  ...  \\\n",
       "0                               b''                     b''    48.5284  ...   \n",
       "1    2005PASP..117..676R     b'M6V'  b'2001A&A...370..967J'    48.4148  ...   \n",
       "2    2014MNRAS.443.2561G     b'M6V'  b'2014AJ....147...20N'    62.3715  ...   \n",
       "3    2017AJ....153..196S     b'L7:'  b'2017AJ....153..196S'        NaN  ...   \n",
       "4    2007AJ....133.2825R    b'M6.0'  b'2007AJ....133.2825R'    29.1606  ...   \n",
       "..                   ...        ...                     ...        ...  ...   \n",
       "236                             b''                     b''    40.9938  ...   \n",
       "237  2011AJ....141...97W   b'M6.5e'  b'2006A&A...446..515P'    48.0539  ...   \n",
       "238                             b''                     b''    53.9011  ...   \n",
       "239                             b''                     b''    40.7703  ...   \n",
       "240  2002AJ....123.2828C  b'M5.5Ve'  b'2003AJ....126.3007R'    43.1294  ...   \n",
       "\n",
       "     FLUX_ERROR_H FLUX_SYSTEM_H          FLUX_BIBCODE_H  FLUX_K  FLUX_ERROR_K  \\\n",
       "0           0.023       b'Vega'  b'2003yCat.2246....0C'  11.023         0.014   \n",
       "1           0.020       b'Vega'  b'2003yCat.2246....0C'  11.011         0.019   \n",
       "2           0.033       b'Vega'  b'2003yCat.2246....0C'   7.995         0.023   \n",
       "3           0.184       b'Vega'  b'2003yCat.2246....0C'  14.860         0.126   \n",
       "4           0.027       b'Vega'  b'2003yCat.2246....0C'  11.240         0.022   \n",
       "..            ...           ...                     ...     ...           ...   \n",
       "236           NaN           b''                     b''     NaN           NaN   \n",
       "237         0.023       b'Vega'  b'2003yCat.2246....0C'  11.129         0.023   \n",
       "238         0.030       b'Vega'  b'2003yCat.2246....0C'   9.681         0.020   \n",
       "239           NaN           b''                     b''     NaN           NaN   \n",
       "240         0.022       b'Vega'  b'2003yCat.2246....0C'  10.685         0.017   \n",
       "\n",
       "     FLUX_SYSTEM_K          FLUX_BIBCODE_K                 OTYPE FLAG  \\\n",
       "0          b'Vega'  b'2003yCat.2246....0C'                b'PM*'        \n",
       "1          b'Vega'  b'2003yCat.2246....0C'                b'PM*'        \n",
       "2          b'Vega'  b'2003yCat.2246....0C'              b'BYDra'        \n",
       "3          b'Vega'  b'2003yCat.2246....0C'            b'brownD*'        \n",
       "4          b'Vega'  b'2003yCat.2246....0C'                b'PM*'        \n",
       "..             ...                     ...                   ...  ...   \n",
       "236            b''                     b''                b'PM*'        \n",
       "237        b'Vega'  b'2003yCat.2246....0C'                b'PM*'        \n",
       "238        b'Vega'  b'2003yCat.2246....0C'                b'PM*'        \n",
       "239            b''                     b''  b'Candidate_brownD*'        \n",
       "240        b'Vega'  b'2003yCat.2246....0C'                b'PM*'        \n",
       "\n",
       "     DIFF_SPT  \n",
       "0         NaN  \n",
       "1         0.0  \n",
       "2         0.0  \n",
       "3        12.0  \n",
       "4         1.0  \n",
       "..        ...  \n",
       "236       NaN  \n",
       "237       0.0  \n",
       "238       NaN  \n",
       "239       NaN  \n",
       "240       0.5  \n",
       "\n",
       "[241 rows x 83 columns]"
      ]
     },
     "execution_count": 10,
     "metadata": {},
     "output_type": "execute_result"
    }
   ],
   "source": [
    "raw = query_ryan(len(kast))\n",
    "diff_spt(raw)"
   ]
  },
  {
   "cell_type": "code",
   "execution_count": 11,
   "metadata": {},
   "outputs": [],
   "source": [
    "ionames = pd.read_excel('./Catalogs and columns.xlsx')\n",
    "ionames = ionames[ionames['output name'] != '[drop]'].dropna(how='all') # obtain the input name vs output name\n",
    "new_names = ionames[['input name','output name']].set_index('input name')['output name'].to_dict() # turn the input vs output name into a dictionary for the next step\n",
    "raw.rename(columns=new_names, inplace=True)\n",
    "\n",
    "# identify columns that goes like b'xxx'\n",
    "columns_to_convert = []\n",
    "for i in raw.columns:\n",
    "    if 'b' in str(raw.loc[213, i]): # Manually located 213 b/c that's where one of the new results is and it has byte type entries.\n",
    "        columns_to_convert.append(i)\n",
    "        \n",
    "# decode the 'bytes' to 'string'\n",
    "for index in raw.index:\n",
    "    raw.loc[index, columns_to_convert] = raw.loc[index, columns_to_convert].str.decode('ascii')"
   ]
  },
  {
   "cell_type": "code",
   "execution_count": 14,
   "metadata": {},
   "outputs": [],
   "source": [
    "kast_catalog = pd.merge(kast, raw, left_index=True, right_index=True, how='outer')"
   ]
  },
  {
   "cell_type": "code",
   "execution_count": 15,
   "metadata": {},
   "outputs": [],
   "source": [
    "kast_catalog.loc[kast_catalog[kast_catalog['DIFF_SPT'] > 3].index, 'FLAG'] = 'dSPT>3'"
   ]
  },
  {
   "cell_type": "code",
   "execution_count": 35,
   "metadata": {
    "collapsed": true,
    "jupyter": {
     "outputs_hidden": true
    }
   },
   "outputs": [
    {
     "data": {
      "text/plain": [
       "(14, 295)"
      ]
     },
     "execution_count": 35,
     "metadata": {},
     "output_type": "execute_result"
    }
   ],
   "source": [
    "kast_catalog[kast_catalog['FLAG'] == 'dSPT>3'].shape"
   ]
  },
  {
   "cell_type": "code",
   "execution_count": 29,
   "metadata": {},
   "outputs": [],
   "source": [
    "kast_catalog.loc[kast_catalog[kast_catalog['SIMBAD_MAIN_ID'].isna()].index,'FLAG'] = 'empty'"
   ]
  },
  {
   "cell_type": "code",
   "execution_count": 34,
   "metadata": {
    "collapsed": true,
    "jupyter": {
     "outputs_hidden": true
    }
   },
   "outputs": [
    {
     "data": {
      "text/plain": [
       "(20, 295)"
      ]
     },
     "execution_count": 34,
     "metadata": {},
     "output_type": "execute_result"
    }
   ],
   "source": [
    "kast_catalog[kast_catalog['SIMBAD_MAIN_ID'].isna()].shape"
   ]
  },
  {
   "cell_type": "code",
   "execution_count": 17,
   "metadata": {},
   "outputs": [],
   "source": [
    "kast_catalog.to_excel('./kast_catalog.xlsx')"
   ]
  },
  {
   "cell_type": "markdown",
   "metadata": {},
   "source": [
    "## Working Area"
   ]
  },
  {
   "cell_type": "markdown",
   "metadata": {},
   "source": [
    "### 1. query by region"
   ]
  },
  {
   "cell_type": "code",
   "execution_count": null,
   "metadata": {},
   "outputs": [],
   "source": [
    "raw = go_query(len(kast))"
   ]
  },
  {
   "cell_type": "code",
   "execution_count": 37,
   "metadata": {},
   "outputs": [],
   "source": [
    "backup = raw.copy()"
   ]
  },
  {
   "cell_type": "code",
   "execution_count": 86,
   "metadata": {
    "collapsed": true,
    "jupyter": {
     "outputs_hidden": true
    }
   },
   "outputs": [
    {
     "data": {
      "text/html": [
       "<div>\n",
       "<style scoped>\n",
       "    .dataframe tbody tr th:only-of-type {\n",
       "        vertical-align: middle;\n",
       "    }\n",
       "\n",
       "    .dataframe tbody tr th {\n",
       "        vertical-align: top;\n",
       "    }\n",
       "\n",
       "    .dataframe thead th {\n",
       "        text-align: right;\n",
       "    }\n",
       "</style>\n",
       "<table border=\"1\" class=\"dataframe\">\n",
       "  <thead>\n",
       "    <tr style=\"text-align: right;\">\n",
       "      <th></th>\n",
       "      <th>MAIN_ID</th>\n",
       "      <th>RA</th>\n",
       "      <th>DEC</th>\n",
       "      <th>COO_BIBCODE</th>\n",
       "      <th>DISTANCE_RESULT</th>\n",
       "      <th>MK_Spectral_type</th>\n",
       "      <th>MK_bibcode</th>\n",
       "      <th>SP_TYPE</th>\n",
       "      <th>SP_BIBCODE</th>\n",
       "      <th>PLX_VALUE</th>\n",
       "      <th>...</th>\n",
       "      <th>FLUX_ERROR_H</th>\n",
       "      <th>FLUX_SYSTEM_H</th>\n",
       "      <th>FLUX_BIBCODE_H</th>\n",
       "      <th>FLUX_K</th>\n",
       "      <th>FLUX_ERROR_K</th>\n",
       "      <th>FLUX_SYSTEM_K</th>\n",
       "      <th>FLUX_BIBCODE_K</th>\n",
       "      <th>OTYPE</th>\n",
       "      <th>FLAG</th>\n",
       "      <th>DIFF_SPT</th>\n",
       "    </tr>\n",
       "  </thead>\n",
       "  <tbody>\n",
       "    <tr>\n",
       "      <th>0</th>\n",
       "      <td>b'NLTT 58776'</td>\n",
       "      <td>00 01 15.8225</td>\n",
       "      <td>+06 59 35.502</td>\n",
       "      <td>b'2018yCat.1345....0G'</td>\n",
       "      <td>67.077621</td>\n",
       "      <td>b'M6V'</td>\n",
       "      <td>2015ApJ...812....3W</td>\n",
       "      <td>b'M5V'</td>\n",
       "      <td>b'2014AJ....147...20N'</td>\n",
       "      <td>42.7450</td>\n",
       "      <td>...</td>\n",
       "      <td>0.028</td>\n",
       "      <td>b'Vega'</td>\n",
       "      <td>b'2003yCat.2246....0C'</td>\n",
       "      <td>10.418</td>\n",
       "      <td>0.021</td>\n",
       "      <td>b'Vega'</td>\n",
       "      <td>b'2003yCat.2246....0C'</td>\n",
       "      <td>b'PM*'</td>\n",
       "      <td></td>\n",
       "      <td>0.5</td>\n",
       "    </tr>\n",
       "    <tr>\n",
       "      <th>1</th>\n",
       "      <td>b'G 130-34'</td>\n",
       "      <td>00 01 23.9605</td>\n",
       "      <td>+34 16 54.650</td>\n",
       "      <td>b'2018yCat.1345....0G'</td>\n",
       "      <td>91.898788</td>\n",
       "      <td>b'M2:'</td>\n",
       "      <td>1984AJ.....89..702L</td>\n",
       "      <td>b'K6/7V'</td>\n",
       "      <td>b'1986AJ.....92..139S'</td>\n",
       "      <td>26.2117</td>\n",
       "      <td>...</td>\n",
       "      <td>0.016</td>\n",
       "      <td>b'Vega'</td>\n",
       "      <td>b'2003yCat.2246....0C'</td>\n",
       "      <td>7.795</td>\n",
       "      <td>0.019</td>\n",
       "      <td>b'Vega'</td>\n",
       "      <td>b'2003yCat.2246....0C'</td>\n",
       "      <td>b'PM*'</td>\n",
       "      <td></td>\n",
       "      <td>1.5</td>\n",
       "    </tr>\n",
       "    <tr>\n",
       "      <th>2</th>\n",
       "      <td>b'BD-17  6862'</td>\n",
       "      <td>00 01 25.8393</td>\n",
       "      <td>-16 56 54.387</td>\n",
       "      <td>b'2018yCat.1345....0G'</td>\n",
       "      <td>60.452896</td>\n",
       "      <td>b'M0'</td>\n",
       "      <td>2014MNRAS.443.2561G</td>\n",
       "      <td>b'K7.0V'</td>\n",
       "      <td>b'2005A&amp;A...442..211S'</td>\n",
       "      <td>31.9653</td>\n",
       "      <td>...</td>\n",
       "      <td>0.038</td>\n",
       "      <td>b'Vega'</td>\n",
       "      <td>b'2003yCat.2246....0C'</td>\n",
       "      <td>7.217</td>\n",
       "      <td>0.021</td>\n",
       "      <td>b'Vega'</td>\n",
       "      <td>b'2003yCat.2246....0C'</td>\n",
       "      <td>b'PM*'</td>\n",
       "      <td></td>\n",
       "      <td>0.0</td>\n",
       "    </tr>\n",
       "    <tr>\n",
       "      <th>3</th>\n",
       "      <td>NaN</td>\n",
       "      <td>NaN</td>\n",
       "      <td>NaN</td>\n",
       "      <td>NaN</td>\n",
       "      <td>NaN</td>\n",
       "      <td>NaN</td>\n",
       "      <td>NaN</td>\n",
       "      <td>NaN</td>\n",
       "      <td>NaN</td>\n",
       "      <td>NaN</td>\n",
       "      <td>...</td>\n",
       "      <td>NaN</td>\n",
       "      <td>NaN</td>\n",
       "      <td>NaN</td>\n",
       "      <td>NaN</td>\n",
       "      <td>NaN</td>\n",
       "      <td>NaN</td>\n",
       "      <td>NaN</td>\n",
       "      <td>NaN</td>\n",
       "      <td></td>\n",
       "      <td>NaN</td>\n",
       "    </tr>\n",
       "    <tr>\n",
       "      <th>4</th>\n",
       "      <td>NaN</td>\n",
       "      <td>NaN</td>\n",
       "      <td>NaN</td>\n",
       "      <td>NaN</td>\n",
       "      <td>NaN</td>\n",
       "      <td>NaN</td>\n",
       "      <td>NaN</td>\n",
       "      <td>NaN</td>\n",
       "      <td>NaN</td>\n",
       "      <td>NaN</td>\n",
       "      <td>...</td>\n",
       "      <td>NaN</td>\n",
       "      <td>NaN</td>\n",
       "      <td>NaN</td>\n",
       "      <td>NaN</td>\n",
       "      <td>NaN</td>\n",
       "      <td>NaN</td>\n",
       "      <td>NaN</td>\n",
       "      <td>NaN</td>\n",
       "      <td></td>\n",
       "      <td>NaN</td>\n",
       "    </tr>\n",
       "    <tr>\n",
       "      <th>...</th>\n",
       "      <td>...</td>\n",
       "      <td>...</td>\n",
       "      <td>...</td>\n",
       "      <td>...</td>\n",
       "      <td>...</td>\n",
       "      <td>...</td>\n",
       "      <td>...</td>\n",
       "      <td>...</td>\n",
       "      <td>...</td>\n",
       "      <td>...</td>\n",
       "      <td>...</td>\n",
       "      <td>...</td>\n",
       "      <td>...</td>\n",
       "      <td>...</td>\n",
       "      <td>...</td>\n",
       "      <td>...</td>\n",
       "      <td>...</td>\n",
       "      <td>...</td>\n",
       "      <td>...</td>\n",
       "      <td>...</td>\n",
       "      <td>...</td>\n",
       "    </tr>\n",
       "    <tr>\n",
       "      <th>4973</th>\n",
       "      <td>b'LP  464-148'</td>\n",
       "      <td>23 58 19.4902</td>\n",
       "      <td>+12 34 05.807</td>\n",
       "      <td>b'2018yCat.1345....0G'</td>\n",
       "      <td>22.577343</td>\n",
       "      <td>b''</td>\n",
       "      <td></td>\n",
       "      <td>b''</td>\n",
       "      <td>b''</td>\n",
       "      <td>2.3114</td>\n",
       "      <td>...</td>\n",
       "      <td>0.220</td>\n",
       "      <td>b'Vega'</td>\n",
       "      <td>b'2003yCat.2246....0C'</td>\n",
       "      <td>15.601</td>\n",
       "      <td>0.217</td>\n",
       "      <td>b'Vega'</td>\n",
       "      <td>b'2003yCat.2246....0C'</td>\n",
       "      <td>b'PM*'</td>\n",
       "      <td></td>\n",
       "      <td>NaN</td>\n",
       "    </tr>\n",
       "    <tr>\n",
       "      <th>4974</th>\n",
       "      <td>b'BD+45  4378'</td>\n",
       "      <td>23 58 43.4881</td>\n",
       "      <td>+46 43 44.737</td>\n",
       "      <td>b'2018yCat.1345....0G'</td>\n",
       "      <td>47.282055</td>\n",
       "      <td>b'K7'</td>\n",
       "      <td>1985ApJS...59..197B</td>\n",
       "      <td>b'K7V'</td>\n",
       "      <td>b'1986AJ.....92..139S'</td>\n",
       "      <td>58.4067</td>\n",
       "      <td>...</td>\n",
       "      <td>0.023</td>\n",
       "      <td>b'Vega'</td>\n",
       "      <td>b'2003yCat.2246....0C'</td>\n",
       "      <td>5.831</td>\n",
       "      <td>0.020</td>\n",
       "      <td>b'Vega'</td>\n",
       "      <td>b'2003yCat.2246....0C'</td>\n",
       "      <td>b'**'</td>\n",
       "      <td></td>\n",
       "      <td>3.0</td>\n",
       "    </tr>\n",
       "    <tr>\n",
       "      <th>4975</th>\n",
       "      <td>b'G 129-51'</td>\n",
       "      <td>23 59 00.4732</td>\n",
       "      <td>+20 51 38.889</td>\n",
       "      <td>b'2018yCat.1345....0G'</td>\n",
       "      <td>39.451279</td>\n",
       "      <td>b'M2.0V'</td>\n",
       "      <td>2015A&amp;A...577A.128A</td>\n",
       "      <td>b'M2.5V'</td>\n",
       "      <td>b'2015A&amp;A...577A.128A'</td>\n",
       "      <td>14.9581</td>\n",
       "      <td>...</td>\n",
       "      <td>0.031</td>\n",
       "      <td>b'Vega'</td>\n",
       "      <td>b'2003yCat.2246....0C'</td>\n",
       "      <td>8.194</td>\n",
       "      <td>0.021</td>\n",
       "      <td>b'Vega'</td>\n",
       "      <td>b'2003yCat.2246....0C'</td>\n",
       "      <td>b'PM*'</td>\n",
       "      <td></td>\n",
       "      <td>0.0</td>\n",
       "    </tr>\n",
       "    <tr>\n",
       "      <th>4976</th>\n",
       "      <td>b'G 171-32'</td>\n",
       "      <td>23 59 34.7150</td>\n",
       "      <td>+42 55 42.281</td>\n",
       "      <td>b'2018yCat.1345....0G'</td>\n",
       "      <td>66.858139</td>\n",
       "      <td>b''</td>\n",
       "      <td></td>\n",
       "      <td>b''</td>\n",
       "      <td>b''</td>\n",
       "      <td>27.8332</td>\n",
       "      <td>...</td>\n",
       "      <td>0.020</td>\n",
       "      <td>b'Vega'</td>\n",
       "      <td>b'2003yCat.2246....0C'</td>\n",
       "      <td>9.671</td>\n",
       "      <td>0.018</td>\n",
       "      <td>b'Vega'</td>\n",
       "      <td>b'2003yCat.2246....0C'</td>\n",
       "      <td>b'PM*'</td>\n",
       "      <td></td>\n",
       "      <td>NaN</td>\n",
       "    </tr>\n",
       "    <tr>\n",
       "      <th>4977</th>\n",
       "      <td>b'G 171-33'</td>\n",
       "      <td>23 59 45.6889</td>\n",
       "      <td>+38 40 20.672</td>\n",
       "      <td>b'2018yCat.1345....0G'</td>\n",
       "      <td>47.893761</td>\n",
       "      <td>b''</td>\n",
       "      <td></td>\n",
       "      <td>b''</td>\n",
       "      <td>b''</td>\n",
       "      <td>12.8038</td>\n",
       "      <td>...</td>\n",
       "      <td>0.030</td>\n",
       "      <td>b'Vega'</td>\n",
       "      <td>b'2003yCat.2246....0C'</td>\n",
       "      <td>11.233</td>\n",
       "      <td>0.018</td>\n",
       "      <td>b'Vega'</td>\n",
       "      <td>b'2003yCat.2246....0C'</td>\n",
       "      <td>b'PM*'</td>\n",
       "      <td></td>\n",
       "      <td>NaN</td>\n",
       "    </tr>\n",
       "  </tbody>\n",
       "</table>\n",
       "<p>4978 rows × 83 columns</p>\n",
       "</div>"
      ],
      "text/plain": [
       "             MAIN_ID             RA            DEC             COO_BIBCODE  \\\n",
       "0      b'NLTT 58776'  00 01 15.8225  +06 59 35.502  b'2018yCat.1345....0G'   \n",
       "1        b'G 130-34'  00 01 23.9605  +34 16 54.650  b'2018yCat.1345....0G'   \n",
       "2     b'BD-17  6862'  00 01 25.8393  -16 56 54.387  b'2018yCat.1345....0G'   \n",
       "3                NaN            NaN            NaN                     NaN   \n",
       "4                NaN            NaN            NaN                     NaN   \n",
       "...              ...            ...            ...                     ...   \n",
       "4973  b'LP  464-148'  23 58 19.4902  +12 34 05.807  b'2018yCat.1345....0G'   \n",
       "4974  b'BD+45  4378'  23 58 43.4881  +46 43 44.737  b'2018yCat.1345....0G'   \n",
       "4975     b'G 129-51'  23 59 00.4732  +20 51 38.889  b'2018yCat.1345....0G'   \n",
       "4976     b'G 171-32'  23 59 34.7150  +42 55 42.281  b'2018yCat.1345....0G'   \n",
       "4977     b'G 171-33'  23 59 45.6889  +38 40 20.672  b'2018yCat.1345....0G'   \n",
       "\n",
       "      DISTANCE_RESULT MK_Spectral_type           MK_bibcode   SP_TYPE  \\\n",
       "0           67.077621           b'M6V'  2015ApJ...812....3W    b'M5V'   \n",
       "1           91.898788           b'M2:'  1984AJ.....89..702L  b'K6/7V'   \n",
       "2           60.452896            b'M0'  2014MNRAS.443.2561G  b'K7.0V'   \n",
       "3                 NaN              NaN                  NaN       NaN   \n",
       "4                 NaN              NaN                  NaN       NaN   \n",
       "...               ...              ...                  ...       ...   \n",
       "4973        22.577343              b''                            b''   \n",
       "4974        47.282055            b'K7'  1985ApJS...59..197B    b'K7V'   \n",
       "4975        39.451279         b'M2.0V'  2015A&A...577A.128A  b'M2.5V'   \n",
       "4976        66.858139              b''                            b''   \n",
       "4977        47.893761              b''                            b''   \n",
       "\n",
       "                  SP_BIBCODE  PLX_VALUE  ...  FLUX_ERROR_H FLUX_SYSTEM_H  \\\n",
       "0     b'2014AJ....147...20N'    42.7450  ...         0.028       b'Vega'   \n",
       "1     b'1986AJ.....92..139S'    26.2117  ...         0.016       b'Vega'   \n",
       "2     b'2005A&A...442..211S'    31.9653  ...         0.038       b'Vega'   \n",
       "3                        NaN        NaN  ...           NaN           NaN   \n",
       "4                        NaN        NaN  ...           NaN           NaN   \n",
       "...                      ...        ...  ...           ...           ...   \n",
       "4973                     b''     2.3114  ...         0.220       b'Vega'   \n",
       "4974  b'1986AJ.....92..139S'    58.4067  ...         0.023       b'Vega'   \n",
       "4975  b'2015A&A...577A.128A'    14.9581  ...         0.031       b'Vega'   \n",
       "4976                     b''    27.8332  ...         0.020       b'Vega'   \n",
       "4977                     b''    12.8038  ...         0.030       b'Vega'   \n",
       "\n",
       "              FLUX_BIBCODE_H  FLUX_K  FLUX_ERROR_K  FLUX_SYSTEM_K  \\\n",
       "0     b'2003yCat.2246....0C'  10.418         0.021        b'Vega'   \n",
       "1     b'2003yCat.2246....0C'   7.795         0.019        b'Vega'   \n",
       "2     b'2003yCat.2246....0C'   7.217         0.021        b'Vega'   \n",
       "3                        NaN     NaN           NaN            NaN   \n",
       "4                        NaN     NaN           NaN            NaN   \n",
       "...                      ...     ...           ...            ...   \n",
       "4973  b'2003yCat.2246....0C'  15.601         0.217        b'Vega'   \n",
       "4974  b'2003yCat.2246....0C'   5.831         0.020        b'Vega'   \n",
       "4975  b'2003yCat.2246....0C'   8.194         0.021        b'Vega'   \n",
       "4976  b'2003yCat.2246....0C'   9.671         0.018        b'Vega'   \n",
       "4977  b'2003yCat.2246....0C'  11.233         0.018        b'Vega'   \n",
       "\n",
       "              FLUX_BIBCODE_K   OTYPE FLAG  DIFF_SPT  \n",
       "0     b'2003yCat.2246....0C'  b'PM*'            0.5  \n",
       "1     b'2003yCat.2246....0C'  b'PM*'            1.5  \n",
       "2     b'2003yCat.2246....0C'  b'PM*'            0.0  \n",
       "3                        NaN     NaN            NaN  \n",
       "4                        NaN     NaN            NaN  \n",
       "...                      ...     ...  ...       ...  \n",
       "4973  b'2003yCat.2246....0C'  b'PM*'            NaN  \n",
       "4974  b'2003yCat.2246....0C'   b'**'            3.0  \n",
       "4975  b'2003yCat.2246....0C'  b'PM*'            0.0  \n",
       "4976  b'2003yCat.2246....0C'  b'PM*'            NaN  \n",
       "4977  b'2003yCat.2246....0C'  b'PM*'            NaN  \n",
       "\n",
       "[4978 rows x 83 columns]"
      ]
     },
     "execution_count": 86,
     "metadata": {},
     "output_type": "execute_result"
    }
   ],
   "source": [
    "diff_spt(raw, False)"
   ]
  },
  {
   "cell_type": "markdown",
   "metadata": {},
   "source": [
    "### 5. deal with 'dSPT>3'"
   ]
  },
  {
   "cell_type": "markdown",
   "metadata": {},
   "source": [
    "#### a) Mark all the sources with spectral type difference larger than 3."
   ]
  },
  {
   "cell_type": "code",
   "execution_count": 87,
   "metadata": {},
   "outputs": [],
   "source": [
    "raw.loc[raw[raw['DIFF_SPT'] > 3].index, 'FLAG'] = 'dSPT>3'"
   ]
  },
  {
   "cell_type": "markdown",
   "metadata": {},
   "source": [
    "#### b) Remove the 'dSPT>3' flag if the source is the only result returned from SIMBAD"
   ]
  },
  {
   "cell_type": "code",
   "execution_count": 88,
   "metadata": {},
   "outputs": [
    {
     "data": {
      "text/plain": [
       "(55, 83)"
      ]
     },
     "execution_count": 88,
     "metadata": {},
     "output_type": "execute_result"
    }
   ],
   "source": [
    "lone_stars = []\n",
    "multi_stars = []\n",
    "for i in raw[raw['FLAG'] == 'dSPT>3'].index:\n",
    "    if len(Simbad.query_region(kast['SKYCOORD'][i], radius=2*u.arcmin))==1:\n",
    "        lone_stars.append(i)\n",
    "    else:\n",
    "        multi_stars.append(i)\n",
    "\n",
    "raw.loc[lone_stars, 'FLAG'] = 'dSPT>3 single SIMBAD result'\n",
    "raw[raw['FLAG'] == 'dSPT>3'].shape"
   ]
  },
  {
   "cell_type": "markdown",
   "metadata": {},
   "source": [
    "### 6. deal with X-ray sources"
   ]
  },
  {
   "cell_type": "markdown",
   "metadata": {},
   "source": [
    "#### a) Mark the 'X-ray' sources that is also the only result returned from SIMBAD"
   ]
  },
  {
   "cell_type": "code",
   "execution_count": 89,
   "metadata": {},
   "outputs": [
    {
     "data": {
      "text/plain": [
       "14"
      ]
     },
     "execution_count": 89,
     "metadata": {},
     "output_type": "execute_result"
    }
   ],
   "source": [
    "lone_stars = []\n",
    "multi_stars = []\n",
    "for i in raw[raw['OTYPE'] == b'X'].index:\n",
    "    if len(Simbad.query_region(kast['SKYCOORD'][i], radius=2*u.arcmin))==1:\n",
    "        lone_stars.append(i)\n",
    "    else:\n",
    "        multi_stars.append(i)\n",
    "        \n",
    "raw.loc[lone_stars, 'FLAG'] = 'X single SIMBAD result'\n",
    "len(raw[raw['OTYPE'] == b'X']) - len(raw[raw['FLAG'] == 'X single SIMBAD result'])"
   ]
  },
  {
   "cell_type": "markdown",
   "metadata": {},
   "source": [
    "### 7. resolve binaries"
   ]
  },
  {
   "cell_type": "markdown",
   "metadata": {},
   "source": [
    "#### a) create a binary list"
   ]
  },
  {
   "cell_type": "code",
   "execution_count": 92,
   "metadata": {},
   "outputs": [
    {
     "data": {
      "text/plain": [
       "Int64Index([  27,   28,   32,   33,   35,   36,   42,   43,   49,   50,\n",
       "            ...\n",
       "            4853, 4854, 4867, 4868, 4878, 4879, 4891, 4892, 4944, 4945],\n",
       "           dtype='int64', length=357)"
      ]
     },
     "execution_count": 92,
     "metadata": {},
     "output_type": "execute_result"
    }
   ],
   "source": [
    "proc_result.index"
   ]
  },
  {
   "cell_type": "code",
   "execution_count": 96,
   "metadata": {},
   "outputs": [],
   "source": [
    "proc_result = raw.dropna(subset = [\"MAIN_ID\"],axis = 0).copy()\n",
    "proc_result = proc_result[proc_result.duplicated(subset='MAIN_ID', keep=False)]\n",
    "binary_list = kast.loc[proc_result[proc_result.duplicated(subset='MAIN_ID', keep=False)].index]\n",
    "binary_list['ORIENTATION'] = binary_list['NAME'].apply(lambda x: x[-1])\n",
    "binary_list['ORIENTATION'] = binary_list['ORIENTATION'].apply(lambda x: '' if x.isnumeric() else x)\n",
    "binary_list['FLAG'] = ''\n",
    "binary_list['FLAG'] = binary_list['COORD'].apply(lambda x: len(single_query(x,3,['']))) # Use 'FLAG' to mark how many results returned from SIMBAD"
   ]
  },
  {
   "cell_type": "markdown",
   "metadata": {},
   "source": [
    "#### b) assign orientation to every binary system"
   ]
  },
  {
   "cell_type": "code",
   "execution_count": 97,
   "metadata": {},
   "outputs": [
    {
     "name": "stdout",
     "output_type": "stream",
     "text": [
      "92\n"
     ]
    }
   ],
   "source": [
    "b_index = list(binary_list[binary_list['ORIENTATION'] == ''].index)\n",
    "# b_index.remove(4752) # this is a special case.\n",
    "\n",
    "for i in range(0, len(b_index), 2):\n",
    "    try:\n",
    "        diff_ra = float(binary_list.loc[b_index[i],'ra']) - float(binary_list.loc[b_index[i+1],'ra'])\n",
    "        diff_dec = float(binary_list.loc[b_index[i],'dec']) - float(binary_list.loc[b_index[i+1],'dec'])\n",
    "        \n",
    "        if abs(diff_ra) > abs(diff_dec):\n",
    "            #print('1')\n",
    "            if diff_ra > 0:\n",
    "                #print('a')\n",
    "                binary_list.loc[b_index[i],'ORIENTATION'] = 'E'\n",
    "                binary_list.loc[b_index[i+1],'ORIENTATION'] = 'W'\n",
    "            elif diff_ra < 0:\n",
    "                #print('b')\n",
    "                binary_list.loc[b_index[i],'ORIENTATION'] = 'W'\n",
    "                binary_list.loc[b_index[i+1],'ORIENTATION'] = 'E'\n",
    "        \n",
    "        elif abs(diff_ra) < abs(diff_dec):\n",
    "            #print('2')\n",
    "            if diff_dec > 0:\n",
    "                #print('c')\n",
    "                binary_list.loc[b_index[i],'ORIENTATION'] = 'N'\n",
    "                binary_list.loc[b_index[i+1],'ORIENTATION'] = 'S'\n",
    "            elif diff_dec < 0:\n",
    "                #print('d')\n",
    "                binary_list.loc[b_index[i],'ORIENTATION'] = 'S'\n",
    "                binary_list.loc[b_index[i+1],'ORIENTATION'] = 'N'\n",
    "    except:\n",
    "        print(i)"
   ]
  },
  {
   "cell_type": "markdown",
   "metadata": {},
   "source": [
    "#### c) resolve binaries that have 2+ results returned from SIMBAD"
   ]
  },
  {
   "cell_type": "code",
   "execution_count": 52,
   "metadata": {
    "collapsed": true,
    "jupyter": {
     "outputs_hidden": true
    }
   },
   "outputs": [
    {
     "name": "stdout",
     "output_type": "stream",
     "text": [
      "27\n",
      "32\n",
      "35\n",
      "42\n",
      "49\n",
      "52\n",
      "66\n",
      "83\n",
      "89\n",
      "107\n",
      "121\n",
      "181\n",
      "199\n",
      "223\n",
      "271\n",
      "356\n",
      "366\n",
      "368\n",
      "374\n",
      "384\n",
      "386\n",
      "393\n",
      "437\n",
      "484\n",
      "499\n",
      "505\n",
      "532\n",
      "551\n",
      "565\n",
      "569\n",
      "595\n",
      "619\n",
      "672\n",
      "715\n",
      "721\n",
      "736\n",
      "741\n",
      "788\n",
      "874\n",
      "883\n",
      "902\n",
      "933\n",
      "958\n",
      "1008\n",
      "1028\n",
      "1052\n",
      "1076\n",
      "1116\n",
      "1146\n",
      "1150\n",
      "1194\n",
      "1221\n",
      "1273\n",
      "1337\n",
      "1345\n",
      "1384\n",
      "1394\n",
      "1431\n",
      "1445\n",
      "1468\n",
      "1551\n",
      "1592\n",
      "1659\n",
      "1668\n",
      "1707\n",
      "1714\n",
      "1821\n",
      "1825\n",
      "1874\n",
      "1890\n",
      "1913\n",
      "1940\n",
      "1943\n",
      "1981\n",
      "2049\n",
      "2085\n",
      "2137\n",
      "2147\n",
      "2199\n",
      "2208\n",
      "2278\n",
      "2288\n",
      "2351\n",
      "2372\n",
      "2469\n",
      "2485\n",
      "2553\n",
      "2622\n",
      "2743\n",
      "2785\n",
      "2814\n",
      "2852\n",
      "2888\n",
      "2922\n",
      "2940\n",
      "2963\n",
      "3008\n",
      "3011\n",
      "3085\n",
      "3104\n",
      "3144\n",
      "3150\n",
      "3171\n",
      "3407\n",
      "3452\n",
      "3509\n",
      "3516\n",
      "3520\n",
      "3549\n",
      "3570\n",
      "3601\n",
      "3748\n",
      "3761\n",
      "3782\n",
      "3787\n",
      "3800\n",
      "3806\n",
      "3846\n",
      "3860\n",
      "3929\n",
      "3952\n",
      "3989\n",
      "3993\n",
      "4030\n",
      "4042\n",
      "4072\n",
      "4100\n",
      "4121\n",
      "4240\n",
      "4254\n",
      "4273\n",
      "4346\n",
      "4371\n",
      "4391\n",
      "4412\n",
      "4442\n",
      "4458\n",
      "4491\n",
      "4526\n",
      "4530\n",
      "4601\n",
      "4640\n",
      "4648\n",
      "4671\n",
      "4722\n",
      "4752\n",
      "4754\n",
      "4783\n",
      "4824\n",
      "4837\n",
      "4854\n",
      "4879\n",
      "4892\n",
      "4945\n"
     ]
    },
    {
     "ename": "IndexError",
     "evalue": "list index out of range",
     "output_type": "error",
     "traceback": [
      "\u001b[1;31m---------------------------------------------------------------------------\u001b[0m",
      "\u001b[1;31mIndexError\u001b[0m                                Traceback (most recent call last)",
      "\u001b[1;32m<ipython-input-52-658e9d08db4d>\u001b[0m in \u001b[0;36m<module>\u001b[1;34m\u001b[0m\n\u001b[0;32m     46\u001b[0m \u001b[1;33m\u001b[0m\u001b[0m\n\u001b[0;32m     47\u001b[0m         \u001b[0mraw\u001b[0m\u001b[1;33m.\u001b[0m\u001b[0mloc\u001b[0m\u001b[1;33m[\u001b[0m\u001b[0mb2_index\u001b[0m\u001b[1;33m[\u001b[0m\u001b[0mi\u001b[0m\u001b[1;33m]\u001b[0m\u001b[1;33m]\u001b[0m \u001b[1;33m=\u001b[0m \u001b[0mtemp\u001b[0m\u001b[1;33m.\u001b[0m\u001b[0mdrop\u001b[0m\u001b[1;33m(\u001b[0m\u001b[0mcolumns\u001b[0m\u001b[1;33m=\u001b[0m\u001b[1;33m[\u001b[0m\u001b[1;34m'COORD'\u001b[0m\u001b[1;33m,\u001b[0m\u001b[1;34m'ra'\u001b[0m\u001b[1;33m,\u001b[0m\u001b[1;34m'dec'\u001b[0m\u001b[1;33m,\u001b[0m\u001b[1;34m'ORIENTATION'\u001b[0m\u001b[1;33m]\u001b[0m\u001b[1;33m,\u001b[0m \u001b[0maxis\u001b[0m\u001b[1;33m=\u001b[0m\u001b[1;36m0\u001b[0m\u001b[1;33m)\u001b[0m\u001b[1;33m.\u001b[0m\u001b[0miloc\u001b[0m\u001b[1;33m[\u001b[0m\u001b[1;36m0\u001b[0m\u001b[1;33m,\u001b[0m\u001b[1;36m0\u001b[0m\u001b[1;33m:\u001b[0m\u001b[1;36m81\u001b[0m\u001b[1;33m]\u001b[0m\u001b[1;33m\u001b[0m\u001b[1;33m\u001b[0m\u001b[0m\n\u001b[1;32m---> 48\u001b[1;33m         \u001b[0mraw\u001b[0m\u001b[1;33m.\u001b[0m\u001b[0mloc\u001b[0m\u001b[1;33m[\u001b[0m\u001b[0mb2_index\u001b[0m\u001b[1;33m[\u001b[0m\u001b[0mi\u001b[0m\u001b[1;33m+\u001b[0m\u001b[1;36m1\u001b[0m\u001b[1;33m]\u001b[0m\u001b[1;33m]\u001b[0m \u001b[1;33m=\u001b[0m \u001b[0mtemp\u001b[0m\u001b[1;33m.\u001b[0m\u001b[0mdrop\u001b[0m\u001b[1;33m(\u001b[0m\u001b[0mcolumns\u001b[0m\u001b[1;33m=\u001b[0m\u001b[1;33m[\u001b[0m\u001b[1;34m'COORD'\u001b[0m\u001b[1;33m,\u001b[0m\u001b[1;34m'ra'\u001b[0m\u001b[1;33m,\u001b[0m\u001b[1;34m'dec'\u001b[0m\u001b[1;33m,\u001b[0m\u001b[1;34m'ORIENTATION'\u001b[0m\u001b[1;33m]\u001b[0m\u001b[1;33m,\u001b[0m \u001b[0maxis\u001b[0m\u001b[1;33m=\u001b[0m\u001b[1;36m0\u001b[0m\u001b[1;33m)\u001b[0m\u001b[1;33m.\u001b[0m\u001b[0miloc\u001b[0m\u001b[1;33m[\u001b[0m\u001b[1;36m1\u001b[0m\u001b[1;33m,\u001b[0m\u001b[1;36m0\u001b[0m\u001b[1;33m:\u001b[0m\u001b[1;36m81\u001b[0m\u001b[1;33m]\u001b[0m\u001b[1;33m\u001b[0m\u001b[1;33m\u001b[0m\u001b[0m\n\u001b[0m\u001b[0;32m     49\u001b[0m \u001b[1;33m\u001b[0m\u001b[0m\n\u001b[0;32m     50\u001b[0m     \u001b[1;32melif\u001b[0m \u001b[0mtemp\u001b[0m\u001b[1;33m.\u001b[0m\u001b[0mloc\u001b[0m\u001b[1;33m[\u001b[0m\u001b[1;36m1\u001b[0m\u001b[1;33m,\u001b[0m\u001b[1;34m'ORIENTATION'\u001b[0m\u001b[1;33m]\u001b[0m \u001b[1;33m==\u001b[0m \u001b[0mbinary_list\u001b[0m\u001b[1;33m.\u001b[0m\u001b[0mloc\u001b[0m\u001b[1;33m[\u001b[0m\u001b[0mb2_index\u001b[0m\u001b[1;33m[\u001b[0m\u001b[0mi\u001b[0m\u001b[1;33m]\u001b[0m\u001b[1;33m,\u001b[0m \u001b[1;34m'ORIENTATION'\u001b[0m\u001b[1;33m]\u001b[0m\u001b[1;33m:\u001b[0m\u001b[1;33m\u001b[0m\u001b[1;33m\u001b[0m\u001b[0m\n",
      "\u001b[1;31mIndexError\u001b[0m: list index out of range"
     ]
    }
   ],
   "source": [
    "b2_list = binary_list[binary_list['FLAG'] >= 2].copy()\n",
    "b2_list\n",
    "b2_index = list(b2_list.index)\n",
    "\n",
    "for i in range(0, len(b2_index), 2):\n",
    "    print(b2_index[i])\n",
    "    temp = single_query(b2_list.loc[b2_index[i],'SKYCOORD'],3).reindex()\n",
    "    temp['COORD'] = temp['RA'] + ' ' + temp['DEC']\n",
    "    temp['ra'] = temp['COORD'].apply(lambda x: splat.properCoordinates(x).ra.deg)\n",
    "    temp['dec'] = temp['COORD'].apply(lambda x: splat.properCoordinates(x).dec.deg)\n",
    "    diff_ra = (temp.loc[0, 'ra'] - temp.loc[1, 'ra'])\n",
    "    diff_dec = (temp.loc[0, 'dec'] - temp.loc[1, 'dec'])\n",
    "    temp['ORIENTATION'] = ''\n",
    "    temp['ORIENTATION2'] = ''\n",
    "    if abs(diff_ra) < abs(diff_dec):\n",
    "        if diff_dec > 0:\n",
    "            temp.loc[0, 'ORIENTATION'] = 'N'\n",
    "            temp.loc[1, 'ORIENTATION'] = 'S'\n",
    "        else:\n",
    "            temp.loc[0, 'ORIENTATION'] = 'S'\n",
    "            temp.loc[1, 'ORIENTATION'] = 'N'\n",
    "        \n",
    "        if diff_ra > 0:\n",
    "            temp.loc[0, 'ORIENTATION2'] = 'E'\n",
    "            temp.loc[1, 'ORIENTATION2'] = 'W'\n",
    "        else:\n",
    "            temp.loc[0, 'ORIENTATION2'] = 'W'\n",
    "            temp.loc[1, 'ORIENTATION2'] = 'E'\n",
    "        \n",
    "    else:\n",
    "        if diff_ra > 0:\n",
    "            temp.loc[0, 'ORIENTATION'] = 'E'\n",
    "            temp.loc[1, 'ORIENTATION'] = 'W'\n",
    "        else:\n",
    "            temp.loc[0, 'ORIENTATION'] = 'W'\n",
    "            temp.loc[1, 'ORIENTATION'] = 'E'\n",
    "        \n",
    "        if diff_dec > 0:\n",
    "            temp.loc[0, 'ORIENTATION2'] = 'N'\n",
    "            temp.loc[1, 'ORIENTATION2'] = 'S'\n",
    "        else:\n",
    "            temp.loc[0, 'ORIENTATION2'] = 'S'\n",
    "            temp.loc[1, 'ORIENTATION2'] = 'N'\n",
    "            \n",
    "    if temp.loc[0,'ORIENTATION'] == binary_list.loc[b2_index[i], 'ORIENTATION']:\n",
    "        \n",
    "        raw.loc[b2_index[i]] = temp.drop(columns=['COORD','ra','dec','ORIENTATION'], axis=0).iloc[0,0:81]\n",
    "        raw.loc[b2_index[i+1]] = temp.drop(columns=['COORD','ra','dec','ORIENTATION'], axis=0).iloc[1,0:81]\n",
    "    \n",
    "    elif temp.loc[1,'ORIENTATION'] == binary_list.loc[b2_index[i], 'ORIENTATION']:\n",
    "        \n",
    "        raw.loc[b2_index[i]] = temp.drop(columns=['COORD','ra','dec','ORIENTATION'], axis=0).iloc[1,0:81]\n",
    "        raw.loc[b2_index[i+1]] = temp.drop(columns=['COORD','ra','dec','ORIENTATION'], axis=0).iloc[0,0:81]\n",
    "    \n",
    "    else:\n",
    "        \n",
    "        if temp.loc[0,'ORIENTATION2'] == binary_list.loc[b2_index[i], 'ORIENTATION']:\n",
    "    \n",
    "            raw.loc[b2_index[i]] = temp.drop(columns=['COORD','ra','dec','ORIENTATION'], axis=0).iloc[0,0:81]\n",
    "            raw.loc[b2_index[i+1]] = temp.drop(columns=['COORD','ra','dec','ORIENTATION'], axis=0).iloc[1,0:81]\n",
    "        \n",
    "        elif temp.loc[1,'ORIENTATION2'] == binary_list.loc[b2_index[i], 'ORIENTATION']:\n",
    "      \n",
    "            raw.loc[b2_index[i]] = temp.drop(columns=['COORD','ra','dec','ORIENTATION'], axis=0).iloc[1,0:81]\n",
    "            raw.loc[b2_index[i+1]] = temp.drop(columns=['COORD','ra','dec','ORIENTATION'], axis=0).iloc[0,0:81]"
   ]
  },
  {
   "cell_type": "markdown",
   "metadata": {},
   "source": [
    "#### d) resolve sources with a single result. (we can only flag them)"
   ]
  },
  {
   "cell_type": "code",
   "execution_count": 16,
   "metadata": {},
   "outputs": [],
   "source": [
    "b1_list = binary_list[binary_list['FLAG'] == 1].copy()\n",
    "b1_index = list(b1_list.index)\n",
    "raw.loc[b1_index, 'FLAG'] = 'repeated; correction attempt failed'"
   ]
  },
  {
   "cell_type": "markdown",
   "metadata": {},
   "source": [
    "#### e) speical cases"
   ]
  },
  {
   "cell_type": "code",
   "execution_count": 20,
   "metadata": {},
   "outputs": [],
   "source": [
    "def manual_corr(df=raw):\n",
    "    print('Enter the index of the entry you want to correct: \\n')\n",
    "    index = int(input())\n",
    "    a = index - 1\n",
    "    b = index + 1\n",
    "    print('SIMBAD + original data: \\n')\n",
    "    temp = single_query(kast.loc[index,'COORD'],3)\n",
    "    display(temp)\n",
    "    print('\\n')\n",
    "    display(kast.loc[[a,index,b]][['NAME','LSPN_SPT','ra','dec','COORD']])\n",
    "    print('Enter the index of the correct entry:\\n')\n",
    "    chosen = int(input())\n",
    "    raw.loc[index] = temp.loc[chosen]\n",
    "    print('Correction successful!')\n",
    "    display(raw.loc[[a,index,b]])"
   ]
  },
  {
   "cell_type": "markdown",
   "metadata": {},
   "source": [
    "### f) Deal with empty sources"
   ]
  },
  {
   "cell_type": "code",
   "execution_count": 29,
   "metadata": {},
   "outputs": [
    {
     "name": "stdout",
     "output_type": "stream",
     "text": [
      "1080\n",
      "1223\n",
      "1537\n",
      "3660\n",
      "3902\n",
      "4132\n",
      "4141\n",
      "4519\n",
      "4591\n",
      "4882\n",
      "4903\n",
      "4920\n"
     ]
    }
   ],
   "source": [
    "e_index = list(raw[raw['MAIN_ID'].isna()].index)\n",
    "\n",
    "for i in e_index:\n",
    "    try:\n",
    "        temp = single_query(kast['COORD'][i],3)\n",
    "        if len(temp[temp['OTYPE'].str.decode('ascii').isin(favorite_otypes)]) > 0:\n",
    "            temp = temp.reset_index().drop(columns=['index'], axis=0)\n",
    "            raw.loc[i] = temp[temp['OTYPE'].str.decode('ascii').isin(favorite_otypes)].iloc[0]\n",
    "            print(i)\n",
    "    except:\n",
    "        continue"
   ]
  },
  {
   "cell_type": "code",
   "execution_count": 30,
   "metadata": {},
   "outputs": [
    {
     "data": {
      "text/plain": [
       "MAIN_ID                       b'G 252-17'\n",
       "RA                          08 37 34.8382\n",
       "DEC                         +74 33 50.878\n",
       "COO_BIBCODE        b'2018yCat.1345....0G'\n",
       "DISTANCE_RESULT                    148.16\n",
       "                            ...          \n",
       "FLUX_SYSTEM_K                     b'Vega'\n",
       "FLUX_BIBCODE_K     b'2003yCat.2246....0C'\n",
       "OTYPE                              b'PM*'\n",
       "FLAG                                  NaN\n",
       "DIFF_SPT                              NaN\n",
       "Name: 1537, Length: 83, dtype: object"
      ]
     },
     "execution_count": 30,
     "metadata": {},
     "output_type": "execute_result"
    }
   ],
   "source": [
    "raw.loc[1537]"
   ]
  },
  {
   "cell_type": "code",
   "execution_count": 102,
   "metadata": {},
   "outputs": [],
   "source": [
    "raw.to_pickle('./seapickle.pkl')"
   ]
  },
  {
   "cell_type": "code",
   "execution_count": 29,
   "metadata": {},
   "outputs": [
    {
     "data": {
      "text/html": [
       "<div>\n",
       "<style scoped>\n",
       "    .dataframe tbody tr th:only-of-type {\n",
       "        vertical-align: middle;\n",
       "    }\n",
       "\n",
       "    .dataframe tbody tr th {\n",
       "        vertical-align: top;\n",
       "    }\n",
       "\n",
       "    .dataframe thead th {\n",
       "        text-align: right;\n",
       "    }\n",
       "</style>\n",
       "<table border=\"1\" class=\"dataframe\">\n",
       "  <thead>\n",
       "    <tr style=\"text-align: right;\">\n",
       "      <th></th>\n",
       "      <th>NAME</th>\n",
       "      <th>col-M</th>\n",
       "      <th>CAH2</th>\n",
       "      <th>CAH3</th>\n",
       "      <th>TIO5</th>\n",
       "      <th>TIO6</th>\n",
       "      <th>TIO7</th>\n",
       "      <th>VO1</th>\n",
       "      <th>VO2</th>\n",
       "      <th>CLASS</th>\n",
       "      <th>SUBTYPE</th>\n",
       "      <th>ZETA</th>\n",
       "      <th>COORD</th>\n",
       "      <th>ra</th>\n",
       "      <th>dec</th>\n",
       "      <th>SKYCOORD</th>\n",
       "      <th>LSPN_SPT</th>\n",
       "    </tr>\n",
       "  </thead>\n",
       "  <tbody>\n",
       "    <tr>\n",
       "      <th>958</th>\n",
       "      <td>PM_I04528+6911N</td>\n",
       "      <td>1.7828</td>\n",
       "      <td>0.43084</td>\n",
       "      <td>0.69908</td>\n",
       "      <td>0.43200</td>\n",
       "      <td>0.67854</td>\n",
       "      <td>0.0</td>\n",
       "      <td>0.93485</td>\n",
       "      <td>0.86742</td>\n",
       "      <td>sdM</td>\n",
       "      <td>3.5</td>\n",
       "      <td>0.82224</td>\n",
       "      <td>04:52.8 +69:11</td>\n",
       "      <td>73.2</td>\n",
       "      <td>69.1833</td>\n",
       "      <td>&lt;SkyCoord (ICRS): (ra, dec) in deg\\n    (73.2,...</td>\n",
       "      <td>sdM3.5</td>\n",
       "    </tr>\n",
       "    <tr>\n",
       "      <th>959</th>\n",
       "      <td>PM_I04528+6911S</td>\n",
       "      <td>2.2448</td>\n",
       "      <td>0.38191</td>\n",
       "      <td>0.66648</td>\n",
       "      <td>0.37498</td>\n",
       "      <td>0.59711</td>\n",
       "      <td>0.0</td>\n",
       "      <td>0.91600</td>\n",
       "      <td>0.78906</td>\n",
       "      <td>M</td>\n",
       "      <td>4.5</td>\n",
       "      <td>0.84607</td>\n",
       "      <td>04:52.8 +69:11</td>\n",
       "      <td>73.2</td>\n",
       "      <td>69.1833</td>\n",
       "      <td>&lt;SkyCoord (ICRS): (ra, dec) in deg\\n    (73.2,...</td>\n",
       "      <td>M4.5</td>\n",
       "    </tr>\n",
       "    <tr>\n",
       "      <th>960</th>\n",
       "      <td>PM_I04532+6911</td>\n",
       "      <td>2.1339</td>\n",
       "      <td>0.41171</td>\n",
       "      <td>0.68390</td>\n",
       "      <td>0.44079</td>\n",
       "      <td>0.69335</td>\n",
       "      <td>0.0</td>\n",
       "      <td>0.89660</td>\n",
       "      <td>0.77402</td>\n",
       "      <td>sdM</td>\n",
       "      <td>4.0</td>\n",
       "      <td>0.78622</td>\n",
       "      <td>04:53.2 +69:11</td>\n",
       "      <td>73.3</td>\n",
       "      <td>69.1833</td>\n",
       "      <td>&lt;SkyCoord (ICRS): (ra, dec) in deg\\n    (73.3,...</td>\n",
       "      <td>sdM4.0</td>\n",
       "    </tr>\n",
       "    <tr>\n",
       "      <th>4648</th>\n",
       "      <td>PM_I22176+6010We</td>\n",
       "      <td>1.5740</td>\n",
       "      <td>0.48254</td>\n",
       "      <td>0.74416</td>\n",
       "      <td>0.46843</td>\n",
       "      <td>0.73349</td>\n",
       "      <td>0.0</td>\n",
       "      <td>0.94856</td>\n",
       "      <td>0.92218</td>\n",
       "      <td>M</td>\n",
       "      <td>3.0</td>\n",
       "      <td>0.84095</td>\n",
       "      <td>22:17.6 +60:10</td>\n",
       "      <td>334.4</td>\n",
       "      <td>60.1667</td>\n",
       "      <td>&lt;SkyCoord (ICRS): (ra, dec) in deg\\n    (334.4...</td>\n",
       "      <td>M3.0</td>\n",
       "    </tr>\n",
       "    <tr>\n",
       "      <th>4649</th>\n",
       "      <td>PM_I22176+6010Ww</td>\n",
       "      <td>1.7642</td>\n",
       "      <td>0.44630</td>\n",
       "      <td>0.73012</td>\n",
       "      <td>0.42346</td>\n",
       "      <td>0.70647</td>\n",
       "      <td>0.0</td>\n",
       "      <td>0.98363</td>\n",
       "      <td>0.87853</td>\n",
       "      <td>M</td>\n",
       "      <td>3.5</td>\n",
       "      <td>0.87004</td>\n",
       "      <td>22:17.6 +60:10</td>\n",
       "      <td>334.4</td>\n",
       "      <td>60.1667</td>\n",
       "      <td>&lt;SkyCoord (ICRS): (ra, dec) in deg\\n    (334.4...</td>\n",
       "      <td>M3.5</td>\n",
       "    </tr>\n",
       "    <tr>\n",
       "      <th>4752</th>\n",
       "      <td>PM_I22515-1103</td>\n",
       "      <td>1.4795</td>\n",
       "      <td>0.50650</td>\n",
       "      <td>0.76963</td>\n",
       "      <td>0.51663</td>\n",
       "      <td>0.75723</td>\n",
       "      <td>0.0</td>\n",
       "      <td>0.98572</td>\n",
       "      <td>0.95068</td>\n",
       "      <td>sdM</td>\n",
       "      <td>2.5</td>\n",
       "      <td>0.80249</td>\n",
       "      <td>22:51.5 -11:03</td>\n",
       "      <td>342.875</td>\n",
       "      <td>-11.05</td>\n",
       "      <td>&lt;SkyCoord (ICRS): (ra, dec) in deg\\n    (342.8...</td>\n",
       "      <td>sdM2.5</td>\n",
       "    </tr>\n",
       "    <tr>\n",
       "      <th>4753</th>\n",
       "      <td>PM_I22515-1104E</td>\n",
       "      <td>1.3477</td>\n",
       "      <td>0.57764</td>\n",
       "      <td>0.82549</td>\n",
       "      <td>0.60045</td>\n",
       "      <td>0.81910</td>\n",
       "      <td>0.0</td>\n",
       "      <td>0.97595</td>\n",
       "      <td>0.98182</td>\n",
       "      <td>sdM</td>\n",
       "      <td>1.5</td>\n",
       "      <td>0.75367</td>\n",
       "      <td>22:51.5 -11:04</td>\n",
       "      <td>342.875</td>\n",
       "      <td>-11.0667</td>\n",
       "      <td>&lt;SkyCoord (ICRS): (ra, dec) in deg\\n    (342.8...</td>\n",
       "      <td>sdM1.5</td>\n",
       "    </tr>\n",
       "    <tr>\n",
       "      <th>4754</th>\n",
       "      <td>PM_I22515-1104Ne</td>\n",
       "      <td>1.7402</td>\n",
       "      <td>0.44886</td>\n",
       "      <td>0.72672</td>\n",
       "      <td>0.45313</td>\n",
       "      <td>0.64129</td>\n",
       "      <td>0.0</td>\n",
       "      <td>0.93108</td>\n",
       "      <td>0.86767</td>\n",
       "      <td>sdM</td>\n",
       "      <td>3.0</td>\n",
       "      <td>0.82463</td>\n",
       "      <td>22:51.5 -11:04</td>\n",
       "      <td>342.875</td>\n",
       "      <td>-11.0667</td>\n",
       "      <td>&lt;SkyCoord (ICRS): (ra, dec) in deg\\n    (342.8...</td>\n",
       "      <td>sdM3.0</td>\n",
       "    </tr>\n",
       "  </tbody>\n",
       "</table>\n",
       "</div>"
      ],
      "text/plain": [
       "                  NAME   col-M     CAH2     CAH3     TIO5     TIO6  TIO7  \\\n",
       "958    PM_I04528+6911N  1.7828  0.43084  0.69908  0.43200  0.67854   0.0   \n",
       "959    PM_I04528+6911S  2.2448  0.38191  0.66648  0.37498  0.59711   0.0   \n",
       "960     PM_I04532+6911  2.1339  0.41171  0.68390  0.44079  0.69335   0.0   \n",
       "4648  PM_I22176+6010We  1.5740  0.48254  0.74416  0.46843  0.73349   0.0   \n",
       "4649  PM_I22176+6010Ww  1.7642  0.44630  0.73012  0.42346  0.70647   0.0   \n",
       "4752    PM_I22515-1103  1.4795  0.50650  0.76963  0.51663  0.75723   0.0   \n",
       "4753   PM_I22515-1104E  1.3477  0.57764  0.82549  0.60045  0.81910   0.0   \n",
       "4754  PM_I22515-1104Ne  1.7402  0.44886  0.72672  0.45313  0.64129   0.0   \n",
       "\n",
       "          VO1      VO2 CLASS  SUBTYPE     ZETA           COORD       ra  \\\n",
       "958   0.93485  0.86742   sdM      3.5  0.82224  04:52.8 +69:11     73.2   \n",
       "959   0.91600  0.78906     M      4.5  0.84607  04:52.8 +69:11     73.2   \n",
       "960   0.89660  0.77402   sdM      4.0  0.78622  04:53.2 +69:11     73.3   \n",
       "4648  0.94856  0.92218     M      3.0  0.84095  22:17.6 +60:10    334.4   \n",
       "4649  0.98363  0.87853     M      3.5  0.87004  22:17.6 +60:10    334.4   \n",
       "4752  0.98572  0.95068   sdM      2.5  0.80249  22:51.5 -11:03  342.875   \n",
       "4753  0.97595  0.98182   sdM      1.5  0.75367  22:51.5 -11:04  342.875   \n",
       "4754  0.93108  0.86767   sdM      3.0  0.82463  22:51.5 -11:04  342.875   \n",
       "\n",
       "           dec                                           SKYCOORD LSPN_SPT  \n",
       "958    69.1833  <SkyCoord (ICRS): (ra, dec) in deg\\n    (73.2,...   sdM3.5  \n",
       "959    69.1833  <SkyCoord (ICRS): (ra, dec) in deg\\n    (73.2,...     M4.5  \n",
       "960    69.1833  <SkyCoord (ICRS): (ra, dec) in deg\\n    (73.3,...   sdM4.0  \n",
       "4648   60.1667  <SkyCoord (ICRS): (ra, dec) in deg\\n    (334.4...     M3.0  \n",
       "4649   60.1667  <SkyCoord (ICRS): (ra, dec) in deg\\n    (334.4...     M3.5  \n",
       "4752    -11.05  <SkyCoord (ICRS): (ra, dec) in deg\\n    (342.8...   sdM2.5  \n",
       "4753  -11.0667  <SkyCoord (ICRS): (ra, dec) in deg\\n    (342.8...   sdM1.5  \n",
       "4754  -11.0667  <SkyCoord (ICRS): (ra, dec) in deg\\n    (342.8...   sdM3.0  "
      ]
     },
     "execution_count": 29,
     "metadata": {},
     "output_type": "execute_result"
    }
   ],
   "source": [
    "kirai = [958,959,960,4648,4649,4752,4753,4754]\n",
    "kast.loc[kirai]"
   ]
  },
  {
   "cell_type": "code",
   "execution_count": 34,
   "metadata": {},
   "outputs": [],
   "source": [
    "## 958 959 960 need to ask Adam"
   ]
  },
  {
   "cell_type": "code",
   "execution_count": 87,
   "metadata": {},
   "outputs": [],
   "source": [
    "proc_result = raw.copy()"
   ]
  },
  {
   "cell_type": "code",
   "execution_count": 88,
   "metadata": {},
   "outputs": [],
   "source": [
    "proc_result = proc_result.dropna(subset=['MAIN_ID'])"
   ]
  },
  {
   "cell_type": "code",
   "execution_count": 89,
   "metadata": {},
   "outputs": [],
   "source": [
    "unresolved = proc_result[proc_result.duplicated(subset=['MAIN_ID'],keep=False)]"
   ]
  },
  {
   "cell_type": "code",
   "execution_count": 54,
   "metadata": {},
   "outputs": [],
   "source": [
    "raw.loc[[958,959,960],'FLAG'] = 'repeated; bizarre'"
   ]
  },
  {
   "cell_type": "code",
   "execution_count": 55,
   "metadata": {},
   "outputs": [
    {
     "data": {
      "text/plain": [
       "array(['', 'empty', nan, 'dSPT>3', 'repeated; correction attempt failed',\n",
       "       'dSPT>3 single SIMBAD result', 'X single SIMBAD result',\n",
       "       'repeated; bizarre'], dtype=object)"
      ]
     },
     "execution_count": 55,
     "metadata": {},
     "output_type": "execute_result"
    }
   ],
   "source": [
    "raw['FLAG'].unique()"
   ]
  },
  {
   "cell_type": "code",
   "execution_count": 70,
   "metadata": {},
   "outputs": [
    {
     "data": {
      "text/plain": [
       "(0, 83)"
      ]
     },
     "metadata": {},
     "output_type": "display_data"
    },
    {
     "data": {
      "text/plain": [
       "(0, 83)"
      ]
     },
     "metadata": {},
     "output_type": "display_data"
    },
    {
     "data": {
      "text/plain": [
       "(50, 83)"
      ]
     },
     "metadata": {},
     "output_type": "display_data"
    },
    {
     "data": {
      "text/plain": [
       "(0, 83)"
      ]
     },
     "metadata": {},
     "output_type": "display_data"
    }
   ],
   "source": [
    "display(raw[raw['FLAG'] == 'repeated; correction attempt failed'].shape)\n",
    "display(raw[raw['FLAG'] == 'repeated; bizarre'].shape)\n",
    "display(raw[raw['FLAG'] == 'dSPT>3'].shape)\n",
    "display(raw[raw['FLAG'] == 'empty'].shape)"
   ]
  },
  {
   "cell_type": "code",
   "execution_count": 85,
   "metadata": {},
   "outputs": [],
   "source": [
    "raw.loc[raw[raw['MAIN_ID'].isna()].index,'FLAG'] = 'empty'"
   ]
  },
  {
   "cell_type": "markdown",
   "metadata": {},
   "source": [
    "### 8. Manual correction"
   ]
  },
  {
   "cell_type": "raw",
   "metadata": {
    "jupyter": {
     "outputs_hidden": true
    }
   },
   "source": [
    "manual_corr()"
   ]
  },
  {
   "cell_type": "code",
   "execution_count": 29,
   "metadata": {
    "collapsed": true,
    "jupyter": {
     "outputs_hidden": true
    }
   },
   "outputs": [
    {
     "data": {
      "text/html": [
       "<div>\n",
       "<style scoped>\n",
       "    .dataframe tbody tr th:only-of-type {\n",
       "        vertical-align: middle;\n",
       "    }\n",
       "\n",
       "    .dataframe tbody tr th {\n",
       "        vertical-align: top;\n",
       "    }\n",
       "\n",
       "    .dataframe thead th {\n",
       "        text-align: right;\n",
       "    }\n",
       "</style>\n",
       "<table border=\"1\" class=\"dataframe\">\n",
       "  <thead>\n",
       "    <tr style=\"text-align: right;\">\n",
       "      <th></th>\n",
       "      <th>NAME</th>\n",
       "      <th>col-M</th>\n",
       "      <th>CAH2</th>\n",
       "      <th>CAH3</th>\n",
       "      <th>TIO5</th>\n",
       "      <th>TIO6</th>\n",
       "      <th>TIO7</th>\n",
       "      <th>VO1</th>\n",
       "      <th>VO2</th>\n",
       "      <th>CLASS</th>\n",
       "      <th>SUBTYPE</th>\n",
       "      <th>ZETA</th>\n",
       "      <th>COORD</th>\n",
       "      <th>ra</th>\n",
       "      <th>dec</th>\n",
       "      <th>SKYCOORD</th>\n",
       "      <th>LSPN_SPT</th>\n",
       "    </tr>\n",
       "  </thead>\n",
       "  <tbody>\n",
       "    <tr>\n",
       "      <th>958</th>\n",
       "      <td>PM_I04528+6911N</td>\n",
       "      <td>1.7828</td>\n",
       "      <td>0.43084</td>\n",
       "      <td>0.69908</td>\n",
       "      <td>0.43200</td>\n",
       "      <td>0.67854</td>\n",
       "      <td>0.0</td>\n",
       "      <td>0.93485</td>\n",
       "      <td>0.86742</td>\n",
       "      <td>sdM</td>\n",
       "      <td>3.5</td>\n",
       "      <td>0.82224</td>\n",
       "      <td>04:52.8 +69:11</td>\n",
       "      <td>73.2</td>\n",
       "      <td>69.1833</td>\n",
       "      <td>&lt;SkyCoord (ICRS): (ra, dec) in deg\\n    (73.2,...</td>\n",
       "      <td>sdM3.5</td>\n",
       "    </tr>\n",
       "    <tr>\n",
       "      <th>959</th>\n",
       "      <td>PM_I04528+6911S</td>\n",
       "      <td>2.2448</td>\n",
       "      <td>0.38191</td>\n",
       "      <td>0.66648</td>\n",
       "      <td>0.37498</td>\n",
       "      <td>0.59711</td>\n",
       "      <td>0.0</td>\n",
       "      <td>0.91600</td>\n",
       "      <td>0.78906</td>\n",
       "      <td>M</td>\n",
       "      <td>4.5</td>\n",
       "      <td>0.84607</td>\n",
       "      <td>04:52.8 +69:11</td>\n",
       "      <td>73.2</td>\n",
       "      <td>69.1833</td>\n",
       "      <td>&lt;SkyCoord (ICRS): (ra, dec) in deg\\n    (73.2,...</td>\n",
       "      <td>M4.5</td>\n",
       "    </tr>\n",
       "    <tr>\n",
       "      <th>960</th>\n",
       "      <td>PM_I04532+6911</td>\n",
       "      <td>2.1339</td>\n",
       "      <td>0.41171</td>\n",
       "      <td>0.68390</td>\n",
       "      <td>0.44079</td>\n",
       "      <td>0.69335</td>\n",
       "      <td>0.0</td>\n",
       "      <td>0.89660</td>\n",
       "      <td>0.77402</td>\n",
       "      <td>sdM</td>\n",
       "      <td>4.0</td>\n",
       "      <td>0.78622</td>\n",
       "      <td>04:53.2 +69:11</td>\n",
       "      <td>73.3</td>\n",
       "      <td>69.1833</td>\n",
       "      <td>&lt;SkyCoord (ICRS): (ra, dec) in deg\\n    (73.3,...</td>\n",
       "      <td>sdM4.0</td>\n",
       "    </tr>\n",
       "    <tr>\n",
       "      <th>4648</th>\n",
       "      <td>PM_I22176+6010We</td>\n",
       "      <td>1.5740</td>\n",
       "      <td>0.48254</td>\n",
       "      <td>0.74416</td>\n",
       "      <td>0.46843</td>\n",
       "      <td>0.73349</td>\n",
       "      <td>0.0</td>\n",
       "      <td>0.94856</td>\n",
       "      <td>0.92218</td>\n",
       "      <td>M</td>\n",
       "      <td>3.0</td>\n",
       "      <td>0.84095</td>\n",
       "      <td>22:17.6 +60:10</td>\n",
       "      <td>334.4</td>\n",
       "      <td>60.1667</td>\n",
       "      <td>&lt;SkyCoord (ICRS): (ra, dec) in deg\\n    (334.4...</td>\n",
       "      <td>M3.0</td>\n",
       "    </tr>\n",
       "    <tr>\n",
       "      <th>4649</th>\n",
       "      <td>PM_I22176+6010Ww</td>\n",
       "      <td>1.7642</td>\n",
       "      <td>0.44630</td>\n",
       "      <td>0.73012</td>\n",
       "      <td>0.42346</td>\n",
       "      <td>0.70647</td>\n",
       "      <td>0.0</td>\n",
       "      <td>0.98363</td>\n",
       "      <td>0.87853</td>\n",
       "      <td>M</td>\n",
       "      <td>3.5</td>\n",
       "      <td>0.87004</td>\n",
       "      <td>22:17.6 +60:10</td>\n",
       "      <td>334.4</td>\n",
       "      <td>60.1667</td>\n",
       "      <td>&lt;SkyCoord (ICRS): (ra, dec) in deg\\n    (334.4...</td>\n",
       "      <td>M3.5</td>\n",
       "    </tr>\n",
       "    <tr>\n",
       "      <th>4752</th>\n",
       "      <td>PM_I22515-1103</td>\n",
       "      <td>1.4795</td>\n",
       "      <td>0.50650</td>\n",
       "      <td>0.76963</td>\n",
       "      <td>0.51663</td>\n",
       "      <td>0.75723</td>\n",
       "      <td>0.0</td>\n",
       "      <td>0.98572</td>\n",
       "      <td>0.95068</td>\n",
       "      <td>sdM</td>\n",
       "      <td>2.5</td>\n",
       "      <td>0.80249</td>\n",
       "      <td>22:51.5 -11:03</td>\n",
       "      <td>342.875</td>\n",
       "      <td>-11.05</td>\n",
       "      <td>&lt;SkyCoord (ICRS): (ra, dec) in deg\\n    (342.8...</td>\n",
       "      <td>sdM2.5</td>\n",
       "    </tr>\n",
       "    <tr>\n",
       "      <th>4753</th>\n",
       "      <td>PM_I22515-1104E</td>\n",
       "      <td>1.3477</td>\n",
       "      <td>0.57764</td>\n",
       "      <td>0.82549</td>\n",
       "      <td>0.60045</td>\n",
       "      <td>0.81910</td>\n",
       "      <td>0.0</td>\n",
       "      <td>0.97595</td>\n",
       "      <td>0.98182</td>\n",
       "      <td>sdM</td>\n",
       "      <td>1.5</td>\n",
       "      <td>0.75367</td>\n",
       "      <td>22:51.5 -11:04</td>\n",
       "      <td>342.875</td>\n",
       "      <td>-11.0667</td>\n",
       "      <td>&lt;SkyCoord (ICRS): (ra, dec) in deg\\n    (342.8...</td>\n",
       "      <td>sdM1.5</td>\n",
       "    </tr>\n",
       "    <tr>\n",
       "      <th>4754</th>\n",
       "      <td>PM_I22515-1104Ne</td>\n",
       "      <td>1.7402</td>\n",
       "      <td>0.44886</td>\n",
       "      <td>0.72672</td>\n",
       "      <td>0.45313</td>\n",
       "      <td>0.64129</td>\n",
       "      <td>0.0</td>\n",
       "      <td>0.93108</td>\n",
       "      <td>0.86767</td>\n",
       "      <td>sdM</td>\n",
       "      <td>3.0</td>\n",
       "      <td>0.82463</td>\n",
       "      <td>22:51.5 -11:04</td>\n",
       "      <td>342.875</td>\n",
       "      <td>-11.0667</td>\n",
       "      <td>&lt;SkyCoord (ICRS): (ra, dec) in deg\\n    (342.8...</td>\n",
       "      <td>sdM3.0</td>\n",
       "    </tr>\n",
       "  </tbody>\n",
       "</table>\n",
       "</div>"
      ],
      "text/plain": [
       "                  NAME   col-M     CAH2     CAH3     TIO5     TIO6  TIO7  \\\n",
       "958    PM_I04528+6911N  1.7828  0.43084  0.69908  0.43200  0.67854   0.0   \n",
       "959    PM_I04528+6911S  2.2448  0.38191  0.66648  0.37498  0.59711   0.0   \n",
       "960     PM_I04532+6911  2.1339  0.41171  0.68390  0.44079  0.69335   0.0   \n",
       "4648  PM_I22176+6010We  1.5740  0.48254  0.74416  0.46843  0.73349   0.0   \n",
       "4649  PM_I22176+6010Ww  1.7642  0.44630  0.73012  0.42346  0.70647   0.0   \n",
       "4752    PM_I22515-1103  1.4795  0.50650  0.76963  0.51663  0.75723   0.0   \n",
       "4753   PM_I22515-1104E  1.3477  0.57764  0.82549  0.60045  0.81910   0.0   \n",
       "4754  PM_I22515-1104Ne  1.7402  0.44886  0.72672  0.45313  0.64129   0.0   \n",
       "\n",
       "          VO1      VO2 CLASS  SUBTYPE     ZETA           COORD       ra  \\\n",
       "958   0.93485  0.86742   sdM      3.5  0.82224  04:52.8 +69:11     73.2   \n",
       "959   0.91600  0.78906     M      4.5  0.84607  04:52.8 +69:11     73.2   \n",
       "960   0.89660  0.77402   sdM      4.0  0.78622  04:53.2 +69:11     73.3   \n",
       "4648  0.94856  0.92218     M      3.0  0.84095  22:17.6 +60:10    334.4   \n",
       "4649  0.98363  0.87853     M      3.5  0.87004  22:17.6 +60:10    334.4   \n",
       "4752  0.98572  0.95068   sdM      2.5  0.80249  22:51.5 -11:03  342.875   \n",
       "4753  0.97595  0.98182   sdM      1.5  0.75367  22:51.5 -11:04  342.875   \n",
       "4754  0.93108  0.86767   sdM      3.0  0.82463  22:51.5 -11:04  342.875   \n",
       "\n",
       "           dec                                           SKYCOORD LSPN_SPT  \n",
       "958    69.1833  <SkyCoord (ICRS): (ra, dec) in deg\\n    (73.2,...   sdM3.5  \n",
       "959    69.1833  <SkyCoord (ICRS): (ra, dec) in deg\\n    (73.2,...     M4.5  \n",
       "960    69.1833  <SkyCoord (ICRS): (ra, dec) in deg\\n    (73.3,...   sdM4.0  \n",
       "4648   60.1667  <SkyCoord (ICRS): (ra, dec) in deg\\n    (334.4...     M3.0  \n",
       "4649   60.1667  <SkyCoord (ICRS): (ra, dec) in deg\\n    (334.4...     M3.5  \n",
       "4752    -11.05  <SkyCoord (ICRS): (ra, dec) in deg\\n    (342.8...   sdM2.5  \n",
       "4753  -11.0667  <SkyCoord (ICRS): (ra, dec) in deg\\n    (342.8...   sdM1.5  \n",
       "4754  -11.0667  <SkyCoord (ICRS): (ra, dec) in deg\\n    (342.8...   sdM3.0  "
      ]
     },
     "execution_count": 29,
     "metadata": {},
     "output_type": "execute_result"
    }
   ],
   "source": [
    "kirai = [958,959,960,4648,4649,4752,4753,4754]\n",
    "kast.loc[kirai]"
   ]
  },
  {
   "cell_type": "code",
   "execution_count": 34,
   "metadata": {},
   "outputs": [],
   "source": [
    "## 958 959 960 need to ask Adam"
   ]
  },
  {
   "cell_type": "code",
   "execution_count": 11,
   "metadata": {},
   "outputs": [],
   "source": [
    "proc_result = raw.copy()\n",
    "proc_result = proc_result.dropna(subset=['MAIN_ID'])\n",
    "unresolved = proc_result[proc_result.duplicated(subset=['MAIN_ID'],keep=False)]\n",
    "raw.loc[[958,959,960],'FLAG'] = 'repeated; bizarre'"
   ]
  },
  {
   "cell_type": "code",
   "execution_count": 55,
   "metadata": {},
   "outputs": [
    {
     "data": {
      "text/plain": [
       "array(['', 'empty', nan, 'dSPT>3', 'repeated; correction attempt failed',\n",
       "       'dSPT>3 single SIMBAD result', 'X single SIMBAD result',\n",
       "       'repeated; bizarre'], dtype=object)"
      ]
     },
     "execution_count": 55,
     "metadata": {},
     "output_type": "execute_result"
    }
   ],
   "source": [
    "raw['FLAG'].unique()"
   ]
  },
  {
   "cell_type": "code",
   "execution_count": 102,
   "metadata": {},
   "outputs": [
    {
     "data": {
      "text/plain": [
       "(40, 83)"
      ]
     },
     "metadata": {},
     "output_type": "display_data"
    },
    {
     "data": {
      "text/plain": [
       "(3, 83)"
      ]
     },
     "metadata": {},
     "output_type": "display_data"
    },
    {
     "data": {
      "text/plain": [
       "(49, 83)"
      ]
     },
     "metadata": {},
     "output_type": "display_data"
    },
    {
     "data": {
      "text/plain": [
       "(205, 83)"
      ]
     },
     "metadata": {},
     "output_type": "display_data"
    }
   ],
   "source": [
    "display(raw[raw['FLAG'] == 'repeated; correction attempt failed'].shape) #\n",
    "display(raw[raw['FLAG'] == 'repeated; bizarre'].shape) #\n",
    "display(raw[raw['FLAG'] == 'dSPT>3'].shape)\n",
    "display(raw[raw['FLAG'] == 'empty'].shape)"
   ]
  },
  {
   "cell_type": "code",
   "execution_count": 14,
   "metadata": {},
   "outputs": [],
   "source": [
    "raw.loc[raw[raw['MAIN_ID'].isna()].index,'FLAG'] = 'empty'"
   ]
  },
  {
   "cell_type": "code",
   "execution_count": null,
   "metadata": {},
   "outputs": [],
   "source": [
    "# WIP"
   ]
  },
  {
   "cell_type": "markdown",
   "metadata": {},
   "source": [
    "# GONE MAD"
   ]
  },
  {
   "cell_type": "code",
   "execution_count": 251,
   "metadata": {},
   "outputs": [],
   "source": [
    "raw = pd.read_pickle('./seapickle.pkl')"
   ]
  },
  {
   "cell_type": "code",
   "execution_count": 252,
   "metadata": {},
   "outputs": [
    {
     "data": {
      "text/plain": [
       "Int64Index([ 104,  286,  287,  319,  320,  463,  464,  544,  545,  613,  614,\n",
       "             732,  733,  921,  922,  972,  973, 1129, 1132, 3280, 3419, 3420,\n",
       "            3731, 3732, 3775, 3776, 3804, 3805, 3873, 3874, 4166, 4167, 4629,\n",
       "            4630, 4645, 4646, 4653, 4654, 4867, 4868],\n",
       "           dtype='int64')"
      ]
     },
     "execution_count": 252,
     "metadata": {},
     "output_type": "execute_result"
    }
   ],
   "source": [
    "proc_result = raw.copy()\n",
    "proc_result = proc_result.dropna(subset=['MAIN_ID'])\n",
    "proc_result[proc_result['FLAG'] == 'repeated; correction attempt failed'].index"
   ]
  },
  {
   "cell_type": "code",
   "execution_count": 253,
   "metadata": {},
   "outputs": [
    {
     "data": {
      "text/plain": [
       "(40, 83)"
      ]
     },
     "metadata": {},
     "output_type": "display_data"
    },
    {
     "data": {
      "text/plain": [
       "(3, 83)"
      ]
     },
     "metadata": {},
     "output_type": "display_data"
    },
    {
     "data": {
      "text/plain": [
       "(49, 83)"
      ]
     },
     "metadata": {},
     "output_type": "display_data"
    },
    {
     "data": {
      "text/plain": [
       "(205, 83)"
      ]
     },
     "metadata": {},
     "output_type": "display_data"
    }
   ],
   "source": [
    "display(raw[raw['FLAG'] == 'repeated; correction attempt failed'].shape) #\n",
    "display(raw[raw['FLAG'] == 'repeated; bizarre'].shape) #\n",
    "display(raw[raw['FLAG'] == 'dSPT>3'].shape)\n",
    "display(raw[raw['FLAG'] == 'empty'].shape)"
   ]
  },
  {
   "cell_type": "markdown",
   "metadata": {},
   "source": [
    "# Final Stage"
   ]
  },
  {
   "cell_type": "code",
   "execution_count": 254,
   "metadata": {},
   "outputs": [],
   "source": [
    "def cor_by_id(index, identifier):\n",
    "    temp = Simbad.query_object(identifier).to_pandas() # Uses found identifier to get the accurate result\n",
    "    RA = temp['RA'][0]\n",
    "    DEC = temp['DEC'][0]\n",
    "    COORD = RA + ' ' + DEC\n",
    "    c = coord.SkyCoord(COORD, unit=(u.hourangle,u.deg))\n",
    "\n",
    "    temp = customSimbad.query_region(c).to_pandas().iloc[0] # Query\n",
    "    raw.iloc[index, 0:81] = temp # After 85 it's the original columns which we want to preserve"
   ]
  },
  {
   "cell_type": "code",
   "execution_count": 255,
   "metadata": {},
   "outputs": [],
   "source": [
    "raw = pd.read_pickle('./seapickle.pkl')"
   ]
  },
  {
   "cell_type": "markdown",
   "metadata": {},
   "source": [
    "## X-ray sources"
   ]
  },
  {
   "cell_type": "code",
   "execution_count": 257,
   "metadata": {},
   "outputs": [],
   "source": [
    "# X-ray sources are probly mismatches.\n",
    "x_index = list(raw[raw['OTYPE'] == b'X'].index)\n",
    "e_list = []\n",
    "for idx in x_index:\n",
    "    try:\n",
    "        c = kast.loc[idx]['COORD']\n",
    "        raw.iloc[idx,0:81] = single_query(c).iloc[0]\n",
    "    except:\n",
    "        raw.iloc[idx] = np.nan\n",
    "        e_list.append(idx)\n",
    "# entries on e_list are manually worked on and append on COORD.xlsx"
   ]
  },
  {
   "cell_type": "markdown",
   "metadata": {},
   "source": [
    "## Binary+Empty"
   ]
  },
  {
   "cell_type": "code",
   "execution_count": 258,
   "metadata": {},
   "outputs": [],
   "source": [
    "df = pd.read_excel('./COORDS.xlsx',index_col=0)\n",
    "df.index.name = None\n",
    "df = df.iloc[:,0:3] # read in file\n",
    "df['ID'] = df['ID'].apply(lambda x: x.lstrip() if type(x) == str else x)\n",
    "\n",
    "idx_coord = df[df['COORD'].notna()].index # get indices where ID is nan\n",
    "raw.loc[idx_coord] = np.nan # erase entries where ID is nan (they don't have a SIMBAD entry thus any information previously present is wrong)\n",
    "df['RA'] = df.loc[idx_coord]['COORD'].astype('str').apply(lambda x: x.split('+')[0] if '+' in x else (x.split('-')[0] if '-' in x else np.nan)) # \n",
    "df['DEC'] = df.loc[idx_coord]['COORD'].astype('str').apply(lambda x: '+' + x.split('+')[1] if '+' in x else ('-' + x.split('-')[1] if '-' in x else np.nan))\n",
    "raw.loc[idx_coord,'RA'] = df['RA']\n",
    "raw.loc[idx_coord,'DEC'] = df['DEC']\n",
    "raw.loc[idx_coord,'FLAG'] = 'No SIMBAD entry'\n",
    "\n",
    "idx_id = df[df['ID'].notna()].index\n",
    "for idx in idx_id:\n",
    "    try:\n",
    "        cor_by_id(idx, df.loc[idx,'ID'])\n",
    "        raw.loc[idx,'FLAG'] = np.nan\n",
    "    except:\n",
    "        raw.loc[idx,'FLAG'] = '?'\n",
    "        print(idx)\n",
    "        \n",
    "raw.loc[raw[raw['FLAG']==''].index,'FLAG'] = np.nan\n",
    "raw.loc[raw[(raw['FLAG']=='dSPT>3 single SIMBAD result')].index,\"FLAG\"] = 'Single'\n",
    "raw.loc[raw[(raw['FLAG']=='X single SIMBAD result')].index,\"FLAG\"] = 'Single'\n",
    "raw.loc[raw[(raw['FLAG']=='repeated; correction attempt failed')].index,'FLAG'] = np.nan\n",
    "\n",
    "df = pd.read_excel('./COORDS.xlsx',index_col=0,sheet_name='dSPT')\n",
    "df.index.name = None\n",
    "df = df.iloc[:,0:4] # read in file\n",
    "df['ID'] = df['ID'].apply(lambda x: x.lstrip() if type(x) == str else x)\n",
    "\n",
    "idx_id = df[df['ID'].notna()].index\n",
    "for idx in idx_id:\n",
    "    try:\n",
    "        cor_by_id(idx, df.loc[idx,'ID'])\n",
    "        raw.loc[idx,'FLAG'] = np.nan\n",
    "    except:\n",
    "        raw.loc[idx,'FLAG'] = np.nan\n",
    "        print(idx)\n",
    "        \n",
    "raw.loc[raw[raw['FLAG']=='dSPT>3'].index,'FLAG'] = np.nan"
   ]
  },
  {
   "cell_type": "markdown",
   "metadata": {
    "jupyter": {
     "outputs_hidden": true
    }
   },
   "source": [
    "## Singles+Correction"
   ]
  },
  {
   "cell_type": "code",
   "execution_count": 259,
   "metadata": {},
   "outputs": [
    {
     "data": {
      "text/html": [
       "<div>\n",
       "<style scoped>\n",
       "    .dataframe tbody tr th:only-of-type {\n",
       "        vertical-align: middle;\n",
       "    }\n",
       "\n",
       "    .dataframe tbody tr th {\n",
       "        vertical-align: top;\n",
       "    }\n",
       "\n",
       "    .dataframe thead th {\n",
       "        text-align: right;\n",
       "    }\n",
       "</style>\n",
       "<table border=\"1\" class=\"dataframe\">\n",
       "  <thead>\n",
       "    <tr style=\"text-align: right;\">\n",
       "      <th></th>\n",
       "      <th>MAIN_ID</th>\n",
       "      <th>RA</th>\n",
       "      <th>DEC</th>\n",
       "      <th>COO_BIBCODE</th>\n",
       "      <th>DISTANCE_RESULT</th>\n",
       "      <th>MK_Spectral_type</th>\n",
       "      <th>MK_bibcode</th>\n",
       "      <th>SP_TYPE</th>\n",
       "      <th>SP_BIBCODE</th>\n",
       "      <th>PLX_VALUE</th>\n",
       "      <th>...</th>\n",
       "      <th>FLUX_ERROR_H</th>\n",
       "      <th>FLUX_SYSTEM_H</th>\n",
       "      <th>FLUX_BIBCODE_H</th>\n",
       "      <th>FLUX_K</th>\n",
       "      <th>FLUX_ERROR_K</th>\n",
       "      <th>FLUX_SYSTEM_K</th>\n",
       "      <th>FLUX_BIBCODE_K</th>\n",
       "      <th>OTYPE</th>\n",
       "      <th>FLAG</th>\n",
       "      <th>DIFF_SPT</th>\n",
       "    </tr>\n",
       "  </thead>\n",
       "  <tbody>\n",
       "    <tr>\n",
       "      <th>0</th>\n",
       "      <td>b'NLTT 58776'</td>\n",
       "      <td>00 01 15.8225</td>\n",
       "      <td>+06 59 35.502</td>\n",
       "      <td>b'2018yCat.1345....0G'</td>\n",
       "      <td>67.077621</td>\n",
       "      <td>b'M6V'</td>\n",
       "      <td>2015ApJ...812....3W</td>\n",
       "      <td>b'M5V'</td>\n",
       "      <td>b'2014AJ....147...20N'</td>\n",
       "      <td>42.7450</td>\n",
       "      <td>...</td>\n",
       "      <td>0.028</td>\n",
       "      <td>b'Vega'</td>\n",
       "      <td>b'2003yCat.2246....0C'</td>\n",
       "      <td>10.418</td>\n",
       "      <td>0.021</td>\n",
       "      <td>b'Vega'</td>\n",
       "      <td>b'2003yCat.2246....0C'</td>\n",
       "      <td>b'PM*'</td>\n",
       "      <td>NaN</td>\n",
       "      <td>0.5</td>\n",
       "    </tr>\n",
       "    <tr>\n",
       "      <th>1</th>\n",
       "      <td>b'G 130-34'</td>\n",
       "      <td>00 01 23.9605</td>\n",
       "      <td>+34 16 54.650</td>\n",
       "      <td>b'2018yCat.1345....0G'</td>\n",
       "      <td>91.898788</td>\n",
       "      <td>b'M2:'</td>\n",
       "      <td>1984AJ.....89..702L</td>\n",
       "      <td>b'K6/7V'</td>\n",
       "      <td>b'1986AJ.....92..139S'</td>\n",
       "      <td>26.2117</td>\n",
       "      <td>...</td>\n",
       "      <td>0.016</td>\n",
       "      <td>b'Vega'</td>\n",
       "      <td>b'2003yCat.2246....0C'</td>\n",
       "      <td>7.795</td>\n",
       "      <td>0.019</td>\n",
       "      <td>b'Vega'</td>\n",
       "      <td>b'2003yCat.2246....0C'</td>\n",
       "      <td>b'PM*'</td>\n",
       "      <td>NaN</td>\n",
       "      <td>1.5</td>\n",
       "    </tr>\n",
       "    <tr>\n",
       "      <th>2</th>\n",
       "      <td>b'BD-17  6862'</td>\n",
       "      <td>00 01 25.8393</td>\n",
       "      <td>-16 56 54.387</td>\n",
       "      <td>b'2018yCat.1345....0G'</td>\n",
       "      <td>60.452896</td>\n",
       "      <td>b'M0'</td>\n",
       "      <td>2014MNRAS.443.2561G</td>\n",
       "      <td>b'K7.0V'</td>\n",
       "      <td>b'2005A&amp;A...442..211S'</td>\n",
       "      <td>31.9653</td>\n",
       "      <td>...</td>\n",
       "      <td>0.038</td>\n",
       "      <td>b'Vega'</td>\n",
       "      <td>b'2003yCat.2246....0C'</td>\n",
       "      <td>7.217</td>\n",
       "      <td>0.021</td>\n",
       "      <td>b'Vega'</td>\n",
       "      <td>b'2003yCat.2246....0C'</td>\n",
       "      <td>b'PM*'</td>\n",
       "      <td>NaN</td>\n",
       "      <td>0.0</td>\n",
       "    </tr>\n",
       "    <tr>\n",
       "      <th>3</th>\n",
       "      <td>b'*  30 Psc'</td>\n",
       "      <td>00 01 57.6152</td>\n",
       "      <td>-06 00 50.668</td>\n",
       "      <td>b'2018yCat.1345....0G'</td>\n",
       "      <td>0.000579</td>\n",
       "      <td>b'M3III'</td>\n",
       "      <td>1973MNRAS.162...11C</td>\n",
       "      <td>b'M3III'</td>\n",
       "      <td>b'1989ApJS...71..245K'</td>\n",
       "      <td>7.8859</td>\n",
       "      <td>...</td>\n",
       "      <td>NaN</td>\n",
       "      <td>b'Vega'</td>\n",
       "      <td>b'2002yCat.2237....0D'</td>\n",
       "      <td>-0.460</td>\n",
       "      <td>NaN</td>\n",
       "      <td>b'Vega'</td>\n",
       "      <td>b'2002yCat.2237....0D'</td>\n",
       "      <td>b'Candidate_LP*'</td>\n",
       "      <td>NaN</td>\n",
       "      <td>1.0</td>\n",
       "    </tr>\n",
       "    <tr>\n",
       "      <th>4</th>\n",
       "      <td>NaN</td>\n",
       "      <td>00 02 04.69</td>\n",
       "      <td>+41 04 24.9</td>\n",
       "      <td>NaN</td>\n",
       "      <td>NaN</td>\n",
       "      <td>NaN</td>\n",
       "      <td>NaN</td>\n",
       "      <td>NaN</td>\n",
       "      <td>NaN</td>\n",
       "      <td>NaN</td>\n",
       "      <td>...</td>\n",
       "      <td>NaN</td>\n",
       "      <td>NaN</td>\n",
       "      <td>NaN</td>\n",
       "      <td>NaN</td>\n",
       "      <td>NaN</td>\n",
       "      <td>NaN</td>\n",
       "      <td>NaN</td>\n",
       "      <td>NaN</td>\n",
       "      <td>No SIMBAD entry</td>\n",
       "      <td>NaN</td>\n",
       "    </tr>\n",
       "    <tr>\n",
       "      <th>...</th>\n",
       "      <td>...</td>\n",
       "      <td>...</td>\n",
       "      <td>...</td>\n",
       "      <td>...</td>\n",
       "      <td>...</td>\n",
       "      <td>...</td>\n",
       "      <td>...</td>\n",
       "      <td>...</td>\n",
       "      <td>...</td>\n",
       "      <td>...</td>\n",
       "      <td>...</td>\n",
       "      <td>...</td>\n",
       "      <td>...</td>\n",
       "      <td>...</td>\n",
       "      <td>...</td>\n",
       "      <td>...</td>\n",
       "      <td>...</td>\n",
       "      <td>...</td>\n",
       "      <td>...</td>\n",
       "      <td>...</td>\n",
       "      <td>...</td>\n",
       "    </tr>\n",
       "    <tr>\n",
       "      <th>4973</th>\n",
       "      <td>b'LP  464-148'</td>\n",
       "      <td>23 58 19.4902</td>\n",
       "      <td>+12 34 05.807</td>\n",
       "      <td>b'2018yCat.1345....0G'</td>\n",
       "      <td>22.577343</td>\n",
       "      <td>b''</td>\n",
       "      <td></td>\n",
       "      <td>b''</td>\n",
       "      <td>b''</td>\n",
       "      <td>2.3114</td>\n",
       "      <td>...</td>\n",
       "      <td>0.220</td>\n",
       "      <td>b'Vega'</td>\n",
       "      <td>b'2003yCat.2246....0C'</td>\n",
       "      <td>15.601</td>\n",
       "      <td>0.217</td>\n",
       "      <td>b'Vega'</td>\n",
       "      <td>b'2003yCat.2246....0C'</td>\n",
       "      <td>b'PM*'</td>\n",
       "      <td>NaN</td>\n",
       "      <td>NaN</td>\n",
       "    </tr>\n",
       "    <tr>\n",
       "      <th>4974</th>\n",
       "      <td>b'BD+45  4378'</td>\n",
       "      <td>23 58 43.4881</td>\n",
       "      <td>+46 43 44.737</td>\n",
       "      <td>b'2018yCat.1345....0G'</td>\n",
       "      <td>47.282055</td>\n",
       "      <td>b'K7'</td>\n",
       "      <td>1985ApJS...59..197B</td>\n",
       "      <td>b'K7V'</td>\n",
       "      <td>b'1986AJ.....92..139S'</td>\n",
       "      <td>58.4067</td>\n",
       "      <td>...</td>\n",
       "      <td>0.023</td>\n",
       "      <td>b'Vega'</td>\n",
       "      <td>b'2003yCat.2246....0C'</td>\n",
       "      <td>5.831</td>\n",
       "      <td>0.020</td>\n",
       "      <td>b'Vega'</td>\n",
       "      <td>b'2003yCat.2246....0C'</td>\n",
       "      <td>b'**'</td>\n",
       "      <td>NaN</td>\n",
       "      <td>3.0</td>\n",
       "    </tr>\n",
       "    <tr>\n",
       "      <th>4975</th>\n",
       "      <td>b'G 129-51'</td>\n",
       "      <td>23 59 00.4732</td>\n",
       "      <td>+20 51 38.889</td>\n",
       "      <td>b'2018yCat.1345....0G'</td>\n",
       "      <td>39.451279</td>\n",
       "      <td>b'M2.0V'</td>\n",
       "      <td>2015A&amp;A...577A.128A</td>\n",
       "      <td>b'M2.5V'</td>\n",
       "      <td>b'2015A&amp;A...577A.128A'</td>\n",
       "      <td>14.9581</td>\n",
       "      <td>...</td>\n",
       "      <td>0.031</td>\n",
       "      <td>b'Vega'</td>\n",
       "      <td>b'2003yCat.2246....0C'</td>\n",
       "      <td>8.194</td>\n",
       "      <td>0.021</td>\n",
       "      <td>b'Vega'</td>\n",
       "      <td>b'2003yCat.2246....0C'</td>\n",
       "      <td>b'PM*'</td>\n",
       "      <td>NaN</td>\n",
       "      <td>0.0</td>\n",
       "    </tr>\n",
       "    <tr>\n",
       "      <th>4976</th>\n",
       "      <td>b'G 171-32'</td>\n",
       "      <td>23 59 34.7150</td>\n",
       "      <td>+42 55 42.281</td>\n",
       "      <td>b'2018yCat.1345....0G'</td>\n",
       "      <td>66.858139</td>\n",
       "      <td>b''</td>\n",
       "      <td></td>\n",
       "      <td>b''</td>\n",
       "      <td>b''</td>\n",
       "      <td>27.8332</td>\n",
       "      <td>...</td>\n",
       "      <td>0.020</td>\n",
       "      <td>b'Vega'</td>\n",
       "      <td>b'2003yCat.2246....0C'</td>\n",
       "      <td>9.671</td>\n",
       "      <td>0.018</td>\n",
       "      <td>b'Vega'</td>\n",
       "      <td>b'2003yCat.2246....0C'</td>\n",
       "      <td>b'PM*'</td>\n",
       "      <td>NaN</td>\n",
       "      <td>NaN</td>\n",
       "    </tr>\n",
       "    <tr>\n",
       "      <th>4977</th>\n",
       "      <td>b'G 171-33'</td>\n",
       "      <td>23 59 45.6889</td>\n",
       "      <td>+38 40 20.672</td>\n",
       "      <td>b'2018yCat.1345....0G'</td>\n",
       "      <td>47.893761</td>\n",
       "      <td>b''</td>\n",
       "      <td></td>\n",
       "      <td>b''</td>\n",
       "      <td>b''</td>\n",
       "      <td>12.8038</td>\n",
       "      <td>...</td>\n",
       "      <td>0.030</td>\n",
       "      <td>b'Vega'</td>\n",
       "      <td>b'2003yCat.2246....0C'</td>\n",
       "      <td>11.233</td>\n",
       "      <td>0.018</td>\n",
       "      <td>b'Vega'</td>\n",
       "      <td>b'2003yCat.2246....0C'</td>\n",
       "      <td>b'PM*'</td>\n",
       "      <td>NaN</td>\n",
       "      <td>NaN</td>\n",
       "    </tr>\n",
       "  </tbody>\n",
       "</table>\n",
       "<p>4978 rows × 83 columns</p>\n",
       "</div>"
      ],
      "text/plain": [
       "             MAIN_ID             RA            DEC             COO_BIBCODE  \\\n",
       "0      b'NLTT 58776'  00 01 15.8225  +06 59 35.502  b'2018yCat.1345....0G'   \n",
       "1        b'G 130-34'  00 01 23.9605  +34 16 54.650  b'2018yCat.1345....0G'   \n",
       "2     b'BD-17  6862'  00 01 25.8393  -16 56 54.387  b'2018yCat.1345....0G'   \n",
       "3       b'*  30 Psc'  00 01 57.6152  -06 00 50.668  b'2018yCat.1345....0G'   \n",
       "4                NaN   00 02 04.69     +41 04 24.9                     NaN   \n",
       "...              ...            ...            ...                     ...   \n",
       "4973  b'LP  464-148'  23 58 19.4902  +12 34 05.807  b'2018yCat.1345....0G'   \n",
       "4974  b'BD+45  4378'  23 58 43.4881  +46 43 44.737  b'2018yCat.1345....0G'   \n",
       "4975     b'G 129-51'  23 59 00.4732  +20 51 38.889  b'2018yCat.1345....0G'   \n",
       "4976     b'G 171-32'  23 59 34.7150  +42 55 42.281  b'2018yCat.1345....0G'   \n",
       "4977     b'G 171-33'  23 59 45.6889  +38 40 20.672  b'2018yCat.1345....0G'   \n",
       "\n",
       "      DISTANCE_RESULT MK_Spectral_type           MK_bibcode   SP_TYPE  \\\n",
       "0           67.077621           b'M6V'  2015ApJ...812....3W    b'M5V'   \n",
       "1           91.898788           b'M2:'  1984AJ.....89..702L  b'K6/7V'   \n",
       "2           60.452896            b'M0'  2014MNRAS.443.2561G  b'K7.0V'   \n",
       "3            0.000579         b'M3III'  1973MNRAS.162...11C  b'M3III'   \n",
       "4                 NaN              NaN                  NaN       NaN   \n",
       "...               ...              ...                  ...       ...   \n",
       "4973        22.577343              b''                            b''   \n",
       "4974        47.282055            b'K7'  1985ApJS...59..197B    b'K7V'   \n",
       "4975        39.451279         b'M2.0V'  2015A&A...577A.128A  b'M2.5V'   \n",
       "4976        66.858139              b''                            b''   \n",
       "4977        47.893761              b''                            b''   \n",
       "\n",
       "                  SP_BIBCODE  PLX_VALUE  ...  FLUX_ERROR_H FLUX_SYSTEM_H  \\\n",
       "0     b'2014AJ....147...20N'    42.7450  ...         0.028       b'Vega'   \n",
       "1     b'1986AJ.....92..139S'    26.2117  ...         0.016       b'Vega'   \n",
       "2     b'2005A&A...442..211S'    31.9653  ...         0.038       b'Vega'   \n",
       "3     b'1989ApJS...71..245K'     7.8859  ...           NaN       b'Vega'   \n",
       "4                        NaN        NaN  ...           NaN           NaN   \n",
       "...                      ...        ...  ...           ...           ...   \n",
       "4973                     b''     2.3114  ...         0.220       b'Vega'   \n",
       "4974  b'1986AJ.....92..139S'    58.4067  ...         0.023       b'Vega'   \n",
       "4975  b'2015A&A...577A.128A'    14.9581  ...         0.031       b'Vega'   \n",
       "4976                     b''    27.8332  ...         0.020       b'Vega'   \n",
       "4977                     b''    12.8038  ...         0.030       b'Vega'   \n",
       "\n",
       "              FLUX_BIBCODE_H  FLUX_K  FLUX_ERROR_K  FLUX_SYSTEM_K  \\\n",
       "0     b'2003yCat.2246....0C'  10.418         0.021        b'Vega'   \n",
       "1     b'2003yCat.2246....0C'   7.795         0.019        b'Vega'   \n",
       "2     b'2003yCat.2246....0C'   7.217         0.021        b'Vega'   \n",
       "3     b'2002yCat.2237....0D'  -0.460           NaN        b'Vega'   \n",
       "4                        NaN     NaN           NaN            NaN   \n",
       "...                      ...     ...           ...            ...   \n",
       "4973  b'2003yCat.2246....0C'  15.601         0.217        b'Vega'   \n",
       "4974  b'2003yCat.2246....0C'   5.831         0.020        b'Vega'   \n",
       "4975  b'2003yCat.2246....0C'   8.194         0.021        b'Vega'   \n",
       "4976  b'2003yCat.2246....0C'   9.671         0.018        b'Vega'   \n",
       "4977  b'2003yCat.2246....0C'  11.233         0.018        b'Vega'   \n",
       "\n",
       "              FLUX_BIBCODE_K             OTYPE             FLAG  DIFF_SPT  \n",
       "0     b'2003yCat.2246....0C'            b'PM*'              NaN       0.5  \n",
       "1     b'2003yCat.2246....0C'            b'PM*'              NaN       1.5  \n",
       "2     b'2003yCat.2246....0C'            b'PM*'              NaN       0.0  \n",
       "3     b'2002yCat.2237....0D'  b'Candidate_LP*'              NaN       1.0  \n",
       "4                        NaN               NaN  No SIMBAD entry       NaN  \n",
       "...                      ...               ...              ...       ...  \n",
       "4973  b'2003yCat.2246....0C'            b'PM*'              NaN       NaN  \n",
       "4974  b'2003yCat.2246....0C'             b'**'              NaN       3.0  \n",
       "4975  b'2003yCat.2246....0C'            b'PM*'              NaN       0.0  \n",
       "4976  b'2003yCat.2246....0C'            b'PM*'              NaN       NaN  \n",
       "4977  b'2003yCat.2246....0C'            b'PM*'              NaN       NaN  \n",
       "\n",
       "[4978 rows x 83 columns]"
      ]
     },
     "execution_count": 259,
     "metadata": {},
     "output_type": "execute_result"
    }
   ],
   "source": [
    "df = pd.read_excel('./COORDS.xlsx',index_col=0,sheet_name='Single')\n",
    "df.index.name = None\n",
    "df = df.iloc[:,0:4] # read in file\n",
    "df['ID'] = df['ID'].apply(lambda x: x.lstrip() if type(x) == str else x)\n",
    "\n",
    "idx_coord = df[df['COORD'].notna()].index # get indices where ID is nan\n",
    "df['RA'] = df.loc[idx_coord]['COORD'].astype('str').apply(lambda x: x.split('+')[0] if '+' in x else (x.split('-')[0] if '-' in x else np.nan)) # \n",
    "df['DEC'] = df.loc[idx_coord]['COORD'].astype('str').apply(lambda x: '+' + x.split('+')[1] if '+' in x else ('-' + x.split('-')[1] if '-' in x else np.nan))\n",
    "raw.loc[idx_coord,'RA'] = df['RA']\n",
    "raw.loc[idx_coord,'DEC'] = df['DEC']\n",
    "raw.loc[idx_coord,'FLAG'] = 'No SIMBAD entry'\n",
    "\n",
    "idx_id = df[df['ID'].notna()].index\n",
    "for idx in idx_id:\n",
    "    try:\n",
    "        cor_by_id(idx, df.loc[idx,'ID'])\n",
    "        raw.loc[idx,'FLAG'] = np.nan\n",
    "    except:\n",
    "        raw.loc[idx,'FLAG'] = np.nan\n",
    "        print(idx)\n",
    "\n",
    "raw['FLAG'] = raw['FLAG'].replace({'Single': np.nan})\n",
    "raw.drop(columns=['DIFF_SPT'], inplace=True)\n",
    "diff_spt(raw,False)"
   ]
  },
  {
   "cell_type": "markdown",
   "metadata": {},
   "source": [
    "## Change column names"
   ]
  },
  {
   "cell_type": "code",
   "execution_count": 260,
   "metadata": {},
   "outputs": [],
   "source": [
    "columns_to_convert = []\n",
    "for i in raw.columns:\n",
    "    if 'b' in str(raw.loc[0, i]):\n",
    "        columns_to_convert.append(i)\n",
    "        \n",
    "for i in columns_to_convert:\n",
    "    raw[i] = raw[i].str.decode('ascii')\n",
    "\n",
    "ionames = pd.read_excel('./Catalogs and columns.xlsx')\n",
    "ionames = ionames[ionames['output name'] != '[drop]'].dropna(how='all') # obtain the input name vs output name\n",
    "new_names = ionames[['input name','output name']].set_index('input name')['output name'].to_dict() # turn the input vs output name into a dictionary for the next step\n",
    "raw.rename(columns=new_names, inplace=True)"
   ]
  },
  {
   "cell_type": "markdown",
   "metadata": {},
   "source": [
    "## Group up"
   ]
  },
  {
   "cell_type": "code",
   "execution_count": 261,
   "metadata": {},
   "outputs": [],
   "source": [
    "raw['GROUP'] = ''\n",
    "raw['FLAG'] = ''\n",
    "#raw['PM'] = raw['SIMBAD_PMRA'].apply(lambda x: abs(x)) + raw['SIMBAD_PMDEC'].apply(lambda x: abs(x))"
   ]
  },
  {
   "cell_type": "code",
   "execution_count": 262,
   "metadata": {},
   "outputs": [],
   "source": [
    "raw.loc[raw[raw['SIMBAD_SPT'] == ''].index, 'GROUP'] = 'NO SPT'\n",
    "raw.loc[raw[raw['SIMBAD_MAIN_ID'].isna()].index, 'GROUP'] = 'NO SIMBAD ENTRY'\n",
    "raw.loc[raw[raw['DIFF_SPT'] > 3].index, 'FLAG'] = '>3'"
   ]
  },
  {
   "cell_type": "code",
   "execution_count": 263,
   "metadata": {},
   "outputs": [
    {
     "data": {
      "text/plain": [
       "(0, 84)"
      ]
     },
     "metadata": {},
     "output_type": "display_data"
    },
    {
     "data": {
      "text/plain": [
       "(297, 84)"
      ]
     },
     "metadata": {},
     "output_type": "display_data"
    },
    {
     "data": {
      "text/plain": [
       "(0, 84)"
      ]
     },
     "metadata": {},
     "output_type": "display_data"
    },
    {
     "data": {
      "text/plain": [
       "(83, 84)"
      ]
     },
     "metadata": {},
     "output_type": "display_data"
    }
   ],
   "source": [
    "display(raw[raw['FLAG'].isna()].shape) #\n",
    "display(raw[raw['GROUP'] == 'NO SIMBAD ENTRY'].shape) #\n",
    "display(raw[raw['FLAG'] == '?'].shape)\n",
    "display(raw[raw['FLAG'] == '>3'].shape)"
   ]
  },
  {
   "cell_type": "code",
   "execution_count": 264,
   "metadata": {},
   "outputs": [],
   "source": [
    "LSPN_catalog = pd.merge(kast, raw, left_index=True, right_index=True, how='outer')\n",
    "LSPN_catalog.drop(columns=['OTYPE','SKYCOORD','CLASS','SUBTYPE'], inplace=True)\n",
    "LSPN_catalog.to_excel('./LSPM_CatalogV1.xlsx')"
   ]
  },
  {
   "cell_type": "code",
   "execution_count": 265,
   "metadata": {},
   "outputs": [],
   "source": [
    "raw.to_pickle('./seapickle_V1.pkl')"
   ]
  },
  {
   "cell_type": "markdown",
   "metadata": {},
   "source": [
    "# Summary"
   ]
  },
  {
   "cell_type": "code",
   "execution_count": 2,
   "metadata": {},
   "outputs": [
    {
     "ename": "NameError",
     "evalue": "name 'pd' is not defined",
     "output_type": "error",
     "traceback": [
      "\u001b[1;31m---------------------------------------------------------------------------\u001b[0m",
      "\u001b[1;31mNameError\u001b[0m                                 Traceback (most recent call last)",
      "\u001b[1;32m<ipython-input-2-11a07cc04c9e>\u001b[0m in \u001b[0;36m<module>\u001b[1;34m\u001b[0m\n\u001b[1;32m----> 1\u001b[1;33m \u001b[0mproc\u001b[0m \u001b[1;33m=\u001b[0m \u001b[0mpd\u001b[0m\u001b[1;33m.\u001b[0m\u001b[0mread_excel\u001b[0m\u001b[1;33m(\u001b[0m\u001b[1;34m'./LSPM_CatalogV1.xlsx'\u001b[0m\u001b[1;33m)\u001b[0m\u001b[1;33m\u001b[0m\u001b[1;33m\u001b[0m\u001b[0m\n\u001b[0m",
      "\u001b[1;31mNameError\u001b[0m: name 'pd' is not defined"
     ]
    }
   ],
   "source": [
    "proc = pd.read_excel('./LSPM_CatalogV1.xlsx')"
   ]
  },
  {
   "cell_type": "markdown",
   "metadata": {},
   "source": [
    "## SIMBAD STATS"
   ]
  },
  {
   "cell_type": "code",
   "execution_count": 17,
   "metadata": {},
   "outputs": [
    {
     "data": {
      "image/png": "[encoded data removed]",
      "text/plain": [
       "<Figure size 432x288 with 1 Axes>"
      ]
     },
     "metadata": {},
     "output_type": "display_data"
    }
   ],
   "source": [
    "import matplotlib.pyplot as plt\n",
    "\n",
    "# Pie chart, where the slices will be ordered and plotted counter-clockwise:\n",
    "labels = 'SIMBAD entry', 'SIMBAD entry \\n w/ incomplete information', 'No SIMBAD entry'\n",
    "sizes = [2593, 2094, 291]\n",
    "explode = (0, 0, 0.1)  # only \"explode\" the 2nd slice (i.e. 'Hogs')\n",
    "\n",
    "fig1, ax1 = plt.subplots()\n",
    "ax1.pie(sizes, explode=explode, labels=labels, autopct='%1.1f%%',\n",
    "        shadow=False, startangle=90)\n",
    "ax1.axis('equal')  # Equal aspect ratio ensures that pie is drawn as a circle.\n",
    "plt.show()\n",
    "fig1.savefig('SIMBAD STATS')"
   ]
  },
  {
   "cell_type": "markdown",
   "metadata": {},
   "source": [
    "## SpTs Comparison"
   ]
  },
  {
   "cell_type": "code",
   "execution_count": 11,
   "metadata": {},
   "outputs": [],
   "source": [
    "import matplotlib.patches as mpatches\n",
    "import matplotlib.lines as mlines"
   ]
  },
  {
   "cell_type": "code",
   "execution_count": 12,
   "metadata": {},
   "outputs": [],
   "source": [
    "xlabels = []\n",
    "for i in range (0,20):\n",
    "    if i < 10:\n",
    "        temp = 'K' + str(i)\n",
    "        xlabels.append(temp)\n",
    "    else:\n",
    "        temp = 'M' + str(i-10)\n",
    "        xlabels.append(temp)\n",
    "xlabels.append('L0')"
   ]
  },
  {
   "cell_type": "code",
   "execution_count": 14,
   "metadata": {},
   "outputs": [
    {
     "data": {
      "image/png": "[encoded data removed]",
      "text/plain": [
       "<Figure size 576x576 with 1 Axes>"
      ]
     },
     "metadata": {
      "needs_background": "light"
     },
     "output_type": "display_data"
    }
   ],
   "source": [
    "SPT = proc[proc['GROUP'].isna()]\n",
    "SPT = SPT[['SIMBAD_SPT']]\n",
    "SPT = SPT.merge(kast['LSPN_SPT'],left_index=True,right_index=True)\n",
    "SPT = SPT.merge(proc['SIMBAD_SPT_MK'],left_index=True,right_index=True)\n",
    "SPT['NSPT_SIMBAD'] = SPT['SIMBAD_SPT'].apply(lambda x: splat.typeToNum(x)) \n",
    "SPT['NSPT_LSPM'] = SPT['LSPN_SPT'].apply(lambda x: splat.typeToNum(x)) \n",
    "SPT = SPT[SPT['NSPT_SIMBAD']!=0]\n",
    "a = SPT['NSPT_SIMBAD']\n",
    "b = SPT['NSPT_LSPM']\n",
    "\n",
    "plt.figure(figsize=[8,8])\n",
    "plt.scatter(x = a, y = b, marker='*',c='brown',linewidths=0)\n",
    "plt.plot([0,20], [0,20], color='blue')\n",
    "plt.plot([0,20], [3,23], linestyle='dashed', color='blue')\n",
    "plt.plot([0,20], [-3,17], linestyle='dashed', color='blue')\n",
    "red_star =  mlines.Line2D([], [], color='brown', marker='*', linestyle='None',\n",
    "                          markersize=8, label='PM*')\n",
    "plt.legend(handles=[red_star])\n",
    "plt.xlabel('Spectral Classification (SIMBAD)', fontsize=16)\n",
    "plt.ylabel('Spectral Classification (Ryan)', fontsize=16)\n",
    "plt.xticks(np.arange(0,21), xlabels, fontsize=12)\n",
    "plt.yticks(np.arange(0,21), xlabels, fontsize=12)\n",
    "plt.savefig('SPT COMPARISON')"
   ]
  },
  {
   "cell_type": "markdown",
   "metadata": {},
   "source": [
    "## Distributions"
   ]
  },
  {
   "cell_type": "markdown",
   "metadata": {},
   "source": [
    "### a) SpTs"
   ]
  },
  {
   "cell_type": "code",
   "execution_count": 15,
   "metadata": {},
   "outputs": [],
   "source": [
    "xlabels = []\n",
    "for i in range (0,20):\n",
    "    if i < 10:\n",
    "        temp = 'K' + str(i)\n",
    "        xlabels.append(temp)\n",
    "    else:\n",
    "        temp = 'M' + str(i-10)\n",
    "        xlabels.append(temp)\n",
    "xlabels.append('L0')"
   ]
  },
  {
   "cell_type": "code",
   "execution_count": 42,
   "metadata": {},
   "outputs": [
    {
     "data": {
      "image/png": "[encoded data removed]",
      "text/plain": [
       "<Figure size 864x432 with 1 Axes>"
      ]
     },
     "metadata": {
      "needs_background": "light"
     },
     "output_type": "display_data"
    }
   ],
   "source": [
    "plt.figure(figsize=(12,6))\n",
    "plt.hist(SPT['NSPT_SIMBAD'],bins=np.arange(0,21), edgecolor='black', linewidth=1.2)\n",
    "plt.xticks(np.arange(0,21), xlabels)\n",
    "plt.xlabel('Spectral Classifications', fontsize=16)\n",
    "plt.ylabel('Number of Sources', fontsize=16)\n",
    "plt.savefig('SPT STATS')"
   ]
  },
  {
   "cell_type": "markdown",
   "metadata": {},
   "source": [
    "### b) Distances"
   ]
  },
  {
   "cell_type": "code",
   "execution_count": 18,
   "metadata": {},
   "outputs": [],
   "source": [
    "DISTANCE = 1000/proc['SIMBAD_PLX']"
   ]
  },
  {
   "cell_type": "code",
   "execution_count": 43,
   "metadata": {},
   "outputs": [
    {
     "data": {
      "image/png": "[encoded data removed]",
      "text/plain": [
       "<Figure size 504x360 with 1 Axes>"
      ]
     },
     "metadata": {
      "needs_background": "light"
     },
     "output_type": "display_data"
    }
   ],
   "source": [
    "plt.figure(figsize=(7,5))\n",
    "plt.hist(DISTANCE,bins=[0,100,200,300,400,500,600,700,800,900,1000],edgecolor='black', linewidth=1.2)\n",
    "plt.xticks(np.arange(0,1000,100))\n",
    "plt.xlabel('Distance (pc)', fontsize=16)\n",
    "plt.ylabel('Number of Sources', fontsize=16)\n",
    "plt.savefig('DISTANCE')"
   ]
  },
  {
   "cell_type": "code",
   "execution_count": 16,
   "metadata": {},
   "outputs": [],
   "source": [
    "mean = DISTANCE.mean()\n",
    "median = DISTANCE.median()\n",
    "std = DISTANCE.std()"
   ]
  },
  {
   "cell_type": "markdown",
   "metadata": {},
   "source": [
    "### c) Separation & Object Types"
   ]
  },
  {
   "cell_type": "code",
   "execution_count": 44,
   "metadata": {},
   "outputs": [
    {
     "data": {
      "image/png": "[encoded data removed]",
      "text/plain": [
       "<Figure size 432x288 with 1 Axes>"
      ]
     },
     "metadata": {
      "needs_background": "light"
     },
     "output_type": "display_data"
    }
   ],
   "source": [
    "plt.hist(proc['SIMBAD_OFFSET'], edgecolor='black', linewidth=1.2)\n",
    "plt.xlabel('Offset (arcsec)', fontsize=16)\n",
    "plt.ylabel('Number of Sources', fontsize=16)\n",
    "plt.savefig('OFFSET')"
   ]
  },
  {
   "cell_type": "code",
   "execution_count": 21,
   "metadata": {},
   "outputs": [],
   "source": [
    "raw = pd.read_pickle('./seapickle_V1.pkl')"
   ]
  },
  {
   "cell_type": "code",
   "execution_count": 50,
   "metadata": {},
   "outputs": [
    {
     "data": {
      "image/png": "[encoded data removed]",
      "text/plain": [
       "<Figure size 2160x720 with 1 Axes>"
      ]
     },
     "metadata": {
      "needs_background": "light"
     },
     "output_type": "display_data"
    }
   ],
   "source": [
    "plt.figure(figsize=(30,10))\n",
    "plt.hist(raw['OTYPE'].dropna(), edgecolor='black', linewidth=1.2)\n",
    "plt.xlabel('Object Classfication', fontsize=16)\n",
    "plt.ylabel('Number of Sources', fontsize=16)\n",
    "plt.savefig('OTYPE')"
   ]
  },
  {
   "cell_type": "code",
   "execution_count": 38,
   "metadata": {},
   "outputs": [
    {
     "name": "stdout",
     "output_type": "stream",
     "text": [
      "<a list of 10 Patch objects>\n"
     ]
    }
   ],
   "source": [
    "patches"
   ]
  },
  {
   "cell_type": "markdown",
   "metadata": {},
   "source": [
    "### d) Color magnitdue diagram"
   ]
  },
  {
   "cell_type": "code",
   "execution_count": 24,
   "metadata": {},
   "outputs": [
    {
     "data": {
      "text/plain": [
       "Index(['SIMBAD_MAIN_ID', 'SIMBAD_RA', 'SIMBAD_DEC', 'SIMBAD_COO_BIBCODE',\n",
       "       'SIMBAD_OFFSET', 'SIMBAD_SPT_MK', 'SIMBAD_SPT_MK_BIBCODE', 'SIMBAD_SPT',\n",
       "       'SIMBAD_SPT_BIBCODE', 'SIMBAD_PLX', 'SIMBAD_PLX_E',\n",
       "       'SIMBAD_PLX_BIBCODE', 'SIMBAD_PMRA', 'SIMBAD_PMDEC', 'SIMBAD_PM_E_MAJ',\n",
       "       'SIMBAD_PM_E_MIN', 'SIMBAD_PM_E_ANGLE', 'SIMBAD_PM_BIBCODE',\n",
       "       'SIMBAD_RV_TYPE', 'SIMBAD_RV', 'SIMBAD_RV_E', 'SIMBAD_RV_BIBCODE',\n",
       "       'SIMBAD_BIBCODES', 'SIMBAD_IDS', 'SIMBAD_UMAG', 'SIMBAD_UMAG_E',\n",
       "       'SIMBAD_UMAG_SYSTEM', 'SIMBAD_UMAG_BIBCODE', 'SIMBAD_BMAG',\n",
       "       'SIMBAD_BMAG_E', 'SIMBAD_BMAG_SYSTEM', 'SIMBAD_BMAG_BIBCODE',\n",
       "       'SIMBAD_VMAG', 'SIMBAD_VMAG_E', 'SIMBAD_VMAG_SYSTEM',\n",
       "       'SIMBAD_VMAG_BIBCODE', 'SIMBAD_GMAG', 'SIMBAD_GMAG_E',\n",
       "       'SIMBAD_GMAG_SYSTEM', 'SIMBAD_GMAG_BIBCODE', 'SIMBAD_RMAG',\n",
       "       'SIMBAD_RMAG_E', 'SIMBAD_RMAG_SYSTEM', 'SIMBAD_RMAG_BIBCODE',\n",
       "       'SIMBAD_IMAG', 'SIMBAD_IMAG_ERR', 'SIMBAD_IMAG_SYSTEM',\n",
       "       'SIMBAD_IMAG_BIBCODE', 'SIMBAD_uMAG', 'SIMBAD_uMAG_ERR',\n",
       "       'SIMBAD_uMAG_SYSTEM', 'SIMBAD_uMAG_BIBCODE', 'SIMBAD_gMAG',\n",
       "       'SIMBAD_gMAG_ERR', 'SIMBAD_gMAG_SYSTEM', 'SIMBAD_gMAG_BIBCODE',\n",
       "       'SIMBAD_rMAG', 'SIMBAD_rMAG_ERR', 'SIMBAD_rMAG_SYSTEM',\n",
       "       'SIMBAD_rMAG_BIBCODE', 'SIMBAD_iMAG', 'SIMBAD_iMAG_ERR',\n",
       "       'SIMBAD_iMAG_SYSTEM', 'SIMBAD_iMAG_BIBCODE', 'SIMBAD_zMAG',\n",
       "       'SIMBAD_zMAG_ERR', 'SIMBAD_zMAG_SYSTEM', 'SIMBAD_zMAG_BIBCODE',\n",
       "       'SIMBAD_JMAG', 'SIMBAD_JMAG_ERR', 'SIMBAD_JMAG_SYSTEM',\n",
       "       'SIMBAD_JMAG_BIBCODE', 'SIMBAD_HMAG', 'SIMBAD_HMAG_ERR',\n",
       "       'SIMBAD_HMAG_SYSTEM', 'SIMBAD_HMAG_BIBCODE', 'SIMBAD_KMAG',\n",
       "       'SIMBAD_KMAG_ERR', 'SIMBAD_KMAG_SYSTEM', 'SIMBAD_KMAG_BIBCODE', 'OTYPE',\n",
       "       'FLAG', 'DIFF_SPT', 'GROUP'],\n",
       "      dtype='object')"
      ]
     },
     "execution_count": 24,
     "metadata": {},
     "output_type": "execute_result"
    }
   ],
   "source": [
    "raw.columns"
   ]
  },
  {
   "cell_type": "markdown",
   "metadata": {},
   "source": [
    "#### i) JHK"
   ]
  },
  {
   "cell_type": "code",
   "execution_count": 25,
   "metadata": {},
   "outputs": [],
   "source": [
    "color = raw[raw['SIMBAD_JMAG'].notna()][['SIMBAD_JMAG','SIMBAD_HMAG','SIMBAD_KMAG','SIMBAD_PLX']].copy()\n",
    "color.rename(columns=({'SIMBAD_JMAG':'J','SIMBAD_HMAG':'H','SIMBAD_KMAG':'K','SIMBAD_PLX':'PLX'}), inplace=True)"
   ]
  },
  {
   "cell_type": "code",
   "execution_count": 26,
   "metadata": {},
   "outputs": [],
   "source": [
    "color['J_abs'] = color['J'] + 5 * (np.log10(color['PLX']) + 1)\n",
    "color['H_abs'] = color['H'] + 5 * (np.log10(color['PLX']) + 1)\n",
    "color['K_abs'] = color['K'] + 5 * (np.log10(color['PLX']) + 1)"
   ]
  },
  {
   "cell_type": "code",
   "execution_count": 27,
   "metadata": {},
   "outputs": [],
   "source": [
    "color['J-K'] = color['J_abs'] - color['K_abs']\n",
    "color['J-H'] = color['J_abs'] - color['H_abs']\n",
    "color['H-K'] = color['H_abs'] - color['K_abs']"
   ]
  },
  {
   "cell_type": "code",
   "execution_count": 28,
   "metadata": {},
   "outputs": [
    {
     "data": {
      "image/png": "[encoded data removed]",
      "text/plain": [
       "<Figure size 432x288 with 1 Axes>"
      ]
     },
     "metadata": {
      "needs_background": "light"
     },
     "output_type": "display_data"
    }
   ],
   "source": [
    "plt.scatter(x=color['J-K'], y=color['K_abs'], s=2)\n",
    "plt.xlabel('J - K', fontsize=16)\n",
    "plt.ylabel('K', fontsize=16)\n",
    "plt.savefig('K J-K')"
   ]
  },
  {
   "cell_type": "code",
   "execution_count": 29,
   "metadata": {},
   "outputs": [
    {
     "data": {
      "image/png": "[encoded data removed]",
      "text/plain": [
       "<Figure size 432x288 with 1 Axes>"
      ]
     },
     "metadata": {
      "needs_background": "light"
     },
     "output_type": "display_data"
    }
   ],
   "source": [
    "plt.scatter(x=color['J-H'], y=color['H_abs'], s=2)\n",
    "plt.xlabel('J - H', fontsize=16)\n",
    "plt.ylabel('H', fontsize=16)\n",
    "plt.savefig('H J-H')"
   ]
  },
  {
   "cell_type": "code",
   "execution_count": 30,
   "metadata": {},
   "outputs": [
    {
     "data": {
      "image/png": "[encoded data removed]",
      "text/plain": [
       "<Figure size 432x288 with 1 Axes>"
      ]
     },
     "metadata": {
      "needs_background": "light"
     },
     "output_type": "display_data"
    }
   ],
   "source": [
    "plt.scatter(x=color['H-K'], y=color['K_abs'], s=2)\n",
    "plt.xlabel('H - K', fontsize=16)\n",
    "plt.ylabel('K', fontsize=16)\n",
    "plt.savefig('K H-K')"
   ]
  },
  {
   "cell_type": "markdown",
   "metadata": {},
   "source": [
    "#### ii) BV"
   ]
  },
  {
   "cell_type": "code",
   "execution_count": 31,
   "metadata": {},
   "outputs": [],
   "source": [
    "color = raw[raw['SIMBAD_VMAG'].notna() & raw['SIMBAD_BMAG'].notna()][['SIMBAD_BMAG','SIMBAD_VMAG','SIMBAD_PLX']].copy()\n",
    "color.rename(columns=({'SIMBAD_BMAG':'B','SIMBAD_VMAG':'V','SIMBAD_PLX':'PLX'}), inplace=True)"
   ]
  },
  {
   "cell_type": "code",
   "execution_count": 32,
   "metadata": {},
   "outputs": [],
   "source": [
    "color['B_abs'] = color['B'] + 5 * (np.log10(color['PLX']) + 1)\n",
    "color['V_abs'] = color['V'] + 5 * (np.log10(color['PLX']) + 1)\n",
    "color['B-V'] = color['B_abs'] - color['V_abs']"
   ]
  },
  {
   "cell_type": "code",
   "execution_count": 33,
   "metadata": {},
   "outputs": [
    {
     "data": {
      "image/png": "[encoded data removed]",
      "text/plain": [
       "<Figure size 432x288 with 1 Axes>"
      ]
     },
     "metadata": {
      "needs_background": "light"
     },
     "output_type": "display_data"
    }
   ],
   "source": [
    "plt.scatter(x=color['B-V'], y=color['V_abs'],s=3)\n",
    "plt.xlabel('B - V', fontsize=16)\n",
    "plt.ylabel('V', fontsize=16)\n",
    "plt.savefig('V B-V')"
   ]
  },
  {
   "cell_type": "markdown",
   "metadata": {},
   "source": [
    "# KAST"
   ]
  },
  {
   "cell_type": "code",
   "execution_count": 7,
   "metadata": {},
   "outputs": [],
   "source": [
    "kast = pd.read_csv('./kast_spectra_calculations_20200823.csv')"
   ]
  },
  {
   "cell_type": "code",
   "execution_count": 8,
   "metadata": {},
   "outputs": [],
   "source": [
    "kast['COORD'] = kast['RA'] + ' ' + kast['DEC']\n",
    "kast['SKYCOORD'] = kast['COORD'].apply(lambda x: splat.properCoordinates(x))"
   ]
  },
  {
   "cell_type": "code",
   "execution_count": 10,
   "metadata": {},
   "outputs": [],
   "source": [
    "def query_ryan(length=25):\n",
    "    t1 = process_time()\n",
    "    raw_result = customSimbad.query_region(splat.properCoordinates(kast['COORD'][0]), radius = 1*u.arcmin).to_pandas()\n",
    "    for i in range(1, length):\n",
    "        try:\n",
    "            temp = customSimbad.query_region(splat.properCoordinates(kast['COORD'][i]), radius = 1*u.arcmin).to_pandas()\n",
    "            temp = s_filter(o_filter(temp))\n",
    "            temp = compare_spt(temp,i)\n",
    "            #temp = take_favorite(temp)\n",
    "            #temp = magnet_V(temp)\n",
    "            raw_result = raw_result.append(temp.iloc[0])\n",
    "        except:\n",
    "            raw_result = raw_result.append(pd.Series(dtype='str'), ignore_index=True)\n",
    "    t2 = process_time()\n",
    "    raw_result.reset_index(inplace=True)\n",
    "    raw_result.drop('index', axis=1, inplace=True)\n",
    "    # For some reason SIMBAD returns some columns twice. Below I manually dropped those.\n",
    "    raw_result = raw_result.drop(columns=['RA_PREC', 'DEC_PREC', 'COO_ERR_MAJA',\n",
    "       'COO_ERR_MINA', 'COO_ERR_ANGLE', 'COO_QUAL', 'COO_WAVELENGTH','MK_ds', 'MK_mss','SP_QUAL','RA_2','DEC_2','COO_BIBCODE_2','SP_BIBCODE_2'], axis=0)\n",
    "    raw_result['FLAG'] = ''\n",
    "    print(str((t2-t1)/60) + ' mins')\n",
    "    return raw_result\n",
    "\n",
    "def compare_spt(df, index, diff=3):\n",
    "    temp = df[df['SP_TYPE'].str.decode('ascii').apply(lambda x: abs(splat.typeToNum(x) - splat.typeToNum(kast['spt'][index]))) <= diff].copy()\n",
    "    if len(temp) == 0:\n",
    "        return df\n",
    "    else:\n",
    "        return temp\n",
    "\n",
    "def diff_spt(df, verbose=False):\n",
    "    df['diff_mk'] = abs(raw['MK_Spectral_type'].str.decode('ascii').apply(lambda x: splat.typeToNum(x)) - kast['spt'].apply(lambda x: splat.typeToNum(x)))\n",
    "    df['diff_simbad'] = abs(raw['SP_TYPE'].str.decode('ascii').apply(lambda x: splat.typeToNum(x)) - kast['spt'].apply(lambda x: splat.typeToNum(x)))\n",
    "    df['DIFF_SPT'] = df[['diff_mk','diff_simbad']].min(axis=1)\n",
    "    if verbose:\n",
    "        return df\n",
    "    else:\n",
    "        df.drop(columns=['diff_mk','diff_simbad'], axis=0, inplace=True)\n",
    "        return df"
   ]
  },
  {
   "cell_type": "code",
   "execution_count": 11,
   "metadata": {},
   "outputs": [
    {
     "name": "stdout",
     "output_type": "stream",
     "text": [
      "0.4278645833333333 mins\n"
     ]
    }
   ],
   "source": [
    "raw = query_ryan(len(kast))"
   ]
  },
  {
   "cell_type": "code",
   "execution_count": 12,
   "metadata": {},
   "outputs": [
    {
     "data": {
      "text/html": [
       "<div>\n",
       "<style scoped>\n",
       "    .dataframe tbody tr th:only-of-type {\n",
       "        vertical-align: middle;\n",
       "    }\n",
       "\n",
       "    .dataframe tbody tr th {\n",
       "        vertical-align: top;\n",
       "    }\n",
       "\n",
       "    .dataframe thead th {\n",
       "        text-align: right;\n",
       "    }\n",
       "</style>\n",
       "<table border=\"1\" class=\"dataframe\">\n",
       "  <thead>\n",
       "    <tr style=\"text-align: right;\">\n",
       "      <th></th>\n",
       "      <th>MAIN_ID</th>\n",
       "      <th>RA</th>\n",
       "      <th>DEC</th>\n",
       "      <th>COO_BIBCODE</th>\n",
       "      <th>DISTANCE_RESULT</th>\n",
       "      <th>MK_Spectral_type</th>\n",
       "      <th>MK_bibcode</th>\n",
       "      <th>SP_TYPE</th>\n",
       "      <th>SP_BIBCODE</th>\n",
       "      <th>PLX_VALUE</th>\n",
       "      <th>...</th>\n",
       "      <th>FLUX_ERROR_H</th>\n",
       "      <th>FLUX_SYSTEM_H</th>\n",
       "      <th>FLUX_BIBCODE_H</th>\n",
       "      <th>FLUX_K</th>\n",
       "      <th>FLUX_ERROR_K</th>\n",
       "      <th>FLUX_SYSTEM_K</th>\n",
       "      <th>FLUX_BIBCODE_K</th>\n",
       "      <th>OTYPE</th>\n",
       "      <th>FLAG</th>\n",
       "      <th>DIFF_SPT</th>\n",
       "    </tr>\n",
       "  </thead>\n",
       "  <tbody>\n",
       "    <tr>\n",
       "      <th>0</th>\n",
       "      <td>b'G 202-60'</td>\n",
       "      <td>16 34 25.3540</td>\n",
       "      <td>+47 50 28.351</td>\n",
       "      <td>b'2018yCat.1345....0G'</td>\n",
       "      <td>3.581848</td>\n",
       "      <td>b'M4.5Ve'</td>\n",
       "      <td>2003AJ....126.3007R</td>\n",
       "      <td>b'M4.5Ve'</td>\n",
       "      <td>b'2003AJ....126.3007R'</td>\n",
       "      <td>39.9035</td>\n",
       "      <td>...</td>\n",
       "      <td>0.019</td>\n",
       "      <td>b'Vega'</td>\n",
       "      <td>b'2003yCat.2246....0C'</td>\n",
       "      <td>9.862</td>\n",
       "      <td>0.014</td>\n",
       "      <td>b'Vega'</td>\n",
       "      <td>b'2003yCat.2246....0C'</td>\n",
       "      <td>b'PM*'</td>\n",
       "      <td></td>\n",
       "      <td>0.5</td>\n",
       "    </tr>\n",
       "    <tr>\n",
       "      <th>1</th>\n",
       "      <td>b'DENIS J162601.3-063926'</td>\n",
       "      <td>16 26 01.3376</td>\n",
       "      <td>-06 39 26.074</td>\n",
       "      <td>b'2018yCat.1345....0G'</td>\n",
       "      <td>5.030805</td>\n",
       "      <td>b''</td>\n",
       "      <td></td>\n",
       "      <td>b''</td>\n",
       "      <td>b''</td>\n",
       "      <td>43.9336</td>\n",
       "      <td>...</td>\n",
       "      <td>0.023</td>\n",
       "      <td>b'Vega'</td>\n",
       "      <td>b'2003yCat.2246....0C'</td>\n",
       "      <td>11.846</td>\n",
       "      <td>0.024</td>\n",
       "      <td>b'Vega'</td>\n",
       "      <td>b'2003yCat.2246....0C'</td>\n",
       "      <td>b'PM*'</td>\n",
       "      <td></td>\n",
       "      <td>NaN</td>\n",
       "    </tr>\n",
       "    <tr>\n",
       "      <th>2</th>\n",
       "      <td>b'LP  271-25'</td>\n",
       "      <td>14 28 43.2272</td>\n",
       "      <td>+33 10 39.245</td>\n",
       "      <td>b'2018yCat.1345....0G'</td>\n",
       "      <td>2.863849</td>\n",
       "      <td>b'M9.1V'</td>\n",
       "      <td>2014ApJ...794..143B</td>\n",
       "      <td>b'M9Ve'</td>\n",
       "      <td>b'2005PASP..117..676R'</td>\n",
       "      <td>90.9962</td>\n",
       "      <td>...</td>\n",
       "      <td>0.029</td>\n",
       "      <td>b'Vega'</td>\n",
       "      <td>b'2003yCat.2246....0C'</td>\n",
       "      <td>10.744</td>\n",
       "      <td>0.024</td>\n",
       "      <td>b'Vega'</td>\n",
       "      <td>b'2003yCat.2246....0C'</td>\n",
       "      <td>b'low-mass*'</td>\n",
       "      <td></td>\n",
       "      <td>0.9</td>\n",
       "    </tr>\n",
       "    <tr>\n",
       "      <th>3</th>\n",
       "      <td>b'2MASS J16154245+0546400'</td>\n",
       "      <td>16 15 42.4562</td>\n",
       "      <td>+05 46 40.065</td>\n",
       "      <td>b'2018yCat.1345....0G'</td>\n",
       "      <td>8.373846</td>\n",
       "      <td>b'M9'</td>\n",
       "      <td>2008AJ....136.1290R</td>\n",
       "      <td>b'M9'</td>\n",
       "      <td>b'2007AJ....133.2258S'</td>\n",
       "      <td>56.0884</td>\n",
       "      <td>...</td>\n",
       "      <td>0.030</td>\n",
       "      <td>b'Vega'</td>\n",
       "      <td>b'2003yCat.2246....0C'</td>\n",
       "      <td>11.741</td>\n",
       "      <td>0.022</td>\n",
       "      <td>b'Vega'</td>\n",
       "      <td>b'2003yCat.2246....0C'</td>\n",
       "      <td>b'low-mass*'</td>\n",
       "      <td></td>\n",
       "      <td>1.0</td>\n",
       "    </tr>\n",
       "    <tr>\n",
       "      <th>4</th>\n",
       "      <td>b'LP  791-18'</td>\n",
       "      <td>11 02 45.9543</td>\n",
       "      <td>-16 24 22.285</td>\n",
       "      <td>b'2018yCat.1345....0G'</td>\n",
       "      <td>0.715823</td>\n",
       "      <td>b''</td>\n",
       "      <td></td>\n",
       "      <td>b''</td>\n",
       "      <td>b''</td>\n",
       "      <td>37.7177</td>\n",
       "      <td>...</td>\n",
       "      <td>0.022</td>\n",
       "      <td>b'Vega'</td>\n",
       "      <td>b'2003yCat.2246....0C'</td>\n",
       "      <td>10.644</td>\n",
       "      <td>0.023</td>\n",
       "      <td>b'Vega'</td>\n",
       "      <td>b'2003yCat.2246....0C'</td>\n",
       "      <td>b'Star'</td>\n",
       "      <td></td>\n",
       "      <td>NaN</td>\n",
       "    </tr>\n",
       "    <tr>\n",
       "      <th>...</th>\n",
       "      <td>...</td>\n",
       "      <td>...</td>\n",
       "      <td>...</td>\n",
       "      <td>...</td>\n",
       "      <td>...</td>\n",
       "      <td>...</td>\n",
       "      <td>...</td>\n",
       "      <td>...</td>\n",
       "      <td>...</td>\n",
       "      <td>...</td>\n",
       "      <td>...</td>\n",
       "      <td>...</td>\n",
       "      <td>...</td>\n",
       "      <td>...</td>\n",
       "      <td>...</td>\n",
       "      <td>...</td>\n",
       "      <td>...</td>\n",
       "      <td>...</td>\n",
       "      <td>...</td>\n",
       "      <td>...</td>\n",
       "      <td>...</td>\n",
       "    </tr>\n",
       "    <tr>\n",
       "      <th>251</th>\n",
       "      <td>b'WISEA J053926.39+471254.3'</td>\n",
       "      <td>05 39 26.3686</td>\n",
       "      <td>+47 12 56.476</td>\n",
       "      <td>b'2018yCat.1345....0G'</td>\n",
       "      <td>3.786043</td>\n",
       "      <td>b''</td>\n",
       "      <td></td>\n",
       "      <td>b''</td>\n",
       "      <td>b''</td>\n",
       "      <td>37.5649</td>\n",
       "      <td>...</td>\n",
       "      <td>0.031</td>\n",
       "      <td>b'Vega'</td>\n",
       "      <td>b'2003yCat.2246....0C'</td>\n",
       "      <td>11.956</td>\n",
       "      <td>0.023</td>\n",
       "      <td>b'Vega'</td>\n",
       "      <td>b'2003yCat.2246....0C'</td>\n",
       "      <td>b'PM*'</td>\n",
       "      <td></td>\n",
       "      <td>NaN</td>\n",
       "    </tr>\n",
       "    <tr>\n",
       "      <th>252</th>\n",
       "      <td>b'SDSS J081506.29+652158.4'</td>\n",
       "      <td>08 15 06.3261</td>\n",
       "      <td>+65 21 58.752</td>\n",
       "      <td>b'2018yCat.1345....0G'</td>\n",
       "      <td>2.173365</td>\n",
       "      <td>b''</td>\n",
       "      <td></td>\n",
       "      <td>b''</td>\n",
       "      <td>b''</td>\n",
       "      <td>26.4456</td>\n",
       "      <td>...</td>\n",
       "      <td>NaN</td>\n",
       "      <td>b''</td>\n",
       "      <td>b''</td>\n",
       "      <td>NaN</td>\n",
       "      <td>NaN</td>\n",
       "      <td>b''</td>\n",
       "      <td>b''</td>\n",
       "      <td>b'Candidate_brownD*'</td>\n",
       "      <td></td>\n",
       "      <td>NaN</td>\n",
       "    </tr>\n",
       "    <tr>\n",
       "      <th>253</th>\n",
       "      <td>b'G 226-38'</td>\n",
       "      <td>16 55 17.4680</td>\n",
       "      <td>+62 24 45.653</td>\n",
       "      <td>b'2018yCat.1345....0G'</td>\n",
       "      <td>3.752364</td>\n",
       "      <td>b''</td>\n",
       "      <td></td>\n",
       "      <td>b''</td>\n",
       "      <td>b''</td>\n",
       "      <td>25.1326</td>\n",
       "      <td>...</td>\n",
       "      <td>0.026</td>\n",
       "      <td>b'Vega'</td>\n",
       "      <td>b'2003yCat.2246....0C'</td>\n",
       "      <td>9.432</td>\n",
       "      <td>0.020</td>\n",
       "      <td>b'Vega'</td>\n",
       "      <td>b'2003yCat.2246....0C'</td>\n",
       "      <td>b'PM*'</td>\n",
       "      <td></td>\n",
       "      <td>NaN</td>\n",
       "    </tr>\n",
       "    <tr>\n",
       "      <th>254</th>\n",
       "      <td>b'2MASS J14573061+1102015'</td>\n",
       "      <td>14 57 30.6078</td>\n",
       "      <td>+11 02 01.566</td>\n",
       "      <td>b'2018yCat.1345....0G'</td>\n",
       "      <td>5.801834</td>\n",
       "      <td>b''</td>\n",
       "      <td></td>\n",
       "      <td>b''</td>\n",
       "      <td>b''</td>\n",
       "      <td>19.9070</td>\n",
       "      <td>...</td>\n",
       "      <td>0.027</td>\n",
       "      <td>b'Vega'</td>\n",
       "      <td>b'2003yCat.2246....0C'</td>\n",
       "      <td>11.641</td>\n",
       "      <td>0.024</td>\n",
       "      <td>b'Vega'</td>\n",
       "      <td>b'2003yCat.2246....0C'</td>\n",
       "      <td>b'PM*'</td>\n",
       "      <td></td>\n",
       "      <td>NaN</td>\n",
       "    </tr>\n",
       "    <tr>\n",
       "      <th>255</th>\n",
       "      <td>b'2MASS J08151407+1030117'</td>\n",
       "      <td>08 15 14.0934</td>\n",
       "      <td>+10 30 11.637</td>\n",
       "      <td>b'2018yCat.1345....0G'</td>\n",
       "      <td>1.937642</td>\n",
       "      <td>b'M7'</td>\n",
       "      <td>2008AJ....136.1290R</td>\n",
       "      <td>b'M7'</td>\n",
       "      <td>b'2008AJ....136.1290R'</td>\n",
       "      <td>38.9129</td>\n",
       "      <td>...</td>\n",
       "      <td>0.030</td>\n",
       "      <td>b'Vega'</td>\n",
       "      <td>b'2003yCat.2246....0C'</td>\n",
       "      <td>11.334</td>\n",
       "      <td>0.023</td>\n",
       "      <td>b'Vega'</td>\n",
       "      <td>b'2003yCat.2246....0C'</td>\n",
       "      <td>b'low-mass*'</td>\n",
       "      <td></td>\n",
       "      <td>0.0</td>\n",
       "    </tr>\n",
       "  </tbody>\n",
       "</table>\n",
       "<p>256 rows × 83 columns</p>\n",
       "</div>"
      ],
      "text/plain": [
       "                          MAIN_ID             RA            DEC  \\\n",
       "0                     b'G 202-60'  16 34 25.3540  +47 50 28.351   \n",
       "1       b'DENIS J162601.3-063926'  16 26 01.3376  -06 39 26.074   \n",
       "2                   b'LP  271-25'  14 28 43.2272  +33 10 39.245   \n",
       "3      b'2MASS J16154245+0546400'  16 15 42.4562  +05 46 40.065   \n",
       "4                   b'LP  791-18'  11 02 45.9543  -16 24 22.285   \n",
       "..                            ...            ...            ...   \n",
       "251  b'WISEA J053926.39+471254.3'  05 39 26.3686  +47 12 56.476   \n",
       "252   b'SDSS J081506.29+652158.4'  08 15 06.3261  +65 21 58.752   \n",
       "253                   b'G 226-38'  16 55 17.4680  +62 24 45.653   \n",
       "254    b'2MASS J14573061+1102015'  14 57 30.6078  +11 02 01.566   \n",
       "255    b'2MASS J08151407+1030117'  08 15 14.0934  +10 30 11.637   \n",
       "\n",
       "                COO_BIBCODE  DISTANCE_RESULT MK_Spectral_type  \\\n",
       "0    b'2018yCat.1345....0G'         3.581848        b'M4.5Ve'   \n",
       "1    b'2018yCat.1345....0G'         5.030805              b''   \n",
       "2    b'2018yCat.1345....0G'         2.863849         b'M9.1V'   \n",
       "3    b'2018yCat.1345....0G'         8.373846            b'M9'   \n",
       "4    b'2018yCat.1345....0G'         0.715823              b''   \n",
       "..                      ...              ...              ...   \n",
       "251  b'2018yCat.1345....0G'         3.786043              b''   \n",
       "252  b'2018yCat.1345....0G'         2.173365              b''   \n",
       "253  b'2018yCat.1345....0G'         3.752364              b''   \n",
       "254  b'2018yCat.1345....0G'         5.801834              b''   \n",
       "255  b'2018yCat.1345....0G'         1.937642            b'M7'   \n",
       "\n",
       "              MK_bibcode    SP_TYPE              SP_BIBCODE  PLX_VALUE  ...  \\\n",
       "0    2003AJ....126.3007R  b'M4.5Ve'  b'2003AJ....126.3007R'    39.9035  ...   \n",
       "1                               b''                     b''    43.9336  ...   \n",
       "2    2014ApJ...794..143B    b'M9Ve'  b'2005PASP..117..676R'    90.9962  ...   \n",
       "3    2008AJ....136.1290R      b'M9'  b'2007AJ....133.2258S'    56.0884  ...   \n",
       "4                               b''                     b''    37.7177  ...   \n",
       "..                   ...        ...                     ...        ...  ...   \n",
       "251                             b''                     b''    37.5649  ...   \n",
       "252                             b''                     b''    26.4456  ...   \n",
       "253                             b''                     b''    25.1326  ...   \n",
       "254                             b''                     b''    19.9070  ...   \n",
       "255  2008AJ....136.1290R      b'M7'  b'2008AJ....136.1290R'    38.9129  ...   \n",
       "\n",
       "     FLUX_ERROR_H FLUX_SYSTEM_H          FLUX_BIBCODE_H  FLUX_K  FLUX_ERROR_K  \\\n",
       "0           0.019       b'Vega'  b'2003yCat.2246....0C'   9.862         0.014   \n",
       "1           0.023       b'Vega'  b'2003yCat.2246....0C'  11.846         0.024   \n",
       "2           0.029       b'Vega'  b'2003yCat.2246....0C'  10.744         0.024   \n",
       "3           0.030       b'Vega'  b'2003yCat.2246....0C'  11.741         0.022   \n",
       "4           0.022       b'Vega'  b'2003yCat.2246....0C'  10.644         0.023   \n",
       "..            ...           ...                     ...     ...           ...   \n",
       "251         0.031       b'Vega'  b'2003yCat.2246....0C'  11.956         0.023   \n",
       "252           NaN           b''                     b''     NaN           NaN   \n",
       "253         0.026       b'Vega'  b'2003yCat.2246....0C'   9.432         0.020   \n",
       "254         0.027       b'Vega'  b'2003yCat.2246....0C'  11.641         0.024   \n",
       "255         0.030       b'Vega'  b'2003yCat.2246....0C'  11.334         0.023   \n",
       "\n",
       "     FLUX_SYSTEM_K          FLUX_BIBCODE_K                 OTYPE FLAG  \\\n",
       "0          b'Vega'  b'2003yCat.2246....0C'                b'PM*'        \n",
       "1          b'Vega'  b'2003yCat.2246....0C'                b'PM*'        \n",
       "2          b'Vega'  b'2003yCat.2246....0C'          b'low-mass*'        \n",
       "3          b'Vega'  b'2003yCat.2246....0C'          b'low-mass*'        \n",
       "4          b'Vega'  b'2003yCat.2246....0C'               b'Star'        \n",
       "..             ...                     ...                   ...  ...   \n",
       "251        b'Vega'  b'2003yCat.2246....0C'                b'PM*'        \n",
       "252            b''                     b''  b'Candidate_brownD*'        \n",
       "253        b'Vega'  b'2003yCat.2246....0C'                b'PM*'        \n",
       "254        b'Vega'  b'2003yCat.2246....0C'                b'PM*'        \n",
       "255        b'Vega'  b'2003yCat.2246....0C'          b'low-mass*'        \n",
       "\n",
       "     DIFF_SPT  \n",
       "0         0.5  \n",
       "1         NaN  \n",
       "2         0.9  \n",
       "3         1.0  \n",
       "4         NaN  \n",
       "..        ...  \n",
       "251       NaN  \n",
       "252       NaN  \n",
       "253       NaN  \n",
       "254       NaN  \n",
       "255       0.0  \n",
       "\n",
       "[256 rows x 83 columns]"
      ]
     },
     "execution_count": 12,
     "metadata": {},
     "output_type": "execute_result"
    }
   ],
   "source": [
    "diff_spt(raw, False)"
   ]
  },
  {
   "cell_type": "code",
   "execution_count": 13,
   "metadata": {},
   "outputs": [
    {
     "data": {
      "text/html": [
       "<div>\n",
       "<style scoped>\n",
       "    .dataframe tbody tr th:only-of-type {\n",
       "        vertical-align: middle;\n",
       "    }\n",
       "\n",
       "    .dataframe tbody tr th {\n",
       "        vertical-align: top;\n",
       "    }\n",
       "\n",
       "    .dataframe thead th {\n",
       "        text-align: right;\n",
       "    }\n",
       "</style>\n",
       "<table border=\"1\" class=\"dataframe\">\n",
       "  <thead>\n",
       "    <tr style=\"text-align: right;\">\n",
       "      <th></th>\n",
       "      <th>MAIN_ID</th>\n",
       "      <th>RA</th>\n",
       "      <th>DEC</th>\n",
       "      <th>COO_BIBCODE</th>\n",
       "      <th>DISTANCE_RESULT</th>\n",
       "      <th>MK_Spectral_type</th>\n",
       "      <th>MK_bibcode</th>\n",
       "      <th>SP_TYPE</th>\n",
       "      <th>SP_BIBCODE</th>\n",
       "      <th>PLX_VALUE</th>\n",
       "      <th>...</th>\n",
       "      <th>FLUX_ERROR_H</th>\n",
       "      <th>FLUX_SYSTEM_H</th>\n",
       "      <th>FLUX_BIBCODE_H</th>\n",
       "      <th>FLUX_K</th>\n",
       "      <th>FLUX_ERROR_K</th>\n",
       "      <th>FLUX_SYSTEM_K</th>\n",
       "      <th>FLUX_BIBCODE_K</th>\n",
       "      <th>OTYPE</th>\n",
       "      <th>FLAG</th>\n",
       "      <th>DIFF_SPT</th>\n",
       "    </tr>\n",
       "  </thead>\n",
       "  <tbody>\n",
       "    <tr>\n",
       "      <th>0</th>\n",
       "      <td>b'G 202-60'</td>\n",
       "      <td>16 34 25.3540</td>\n",
       "      <td>+47 50 28.351</td>\n",
       "      <td>b'2018yCat.1345....0G'</td>\n",
       "      <td>3.581848</td>\n",
       "      <td>b'M4.5Ve'</td>\n",
       "      <td>2003AJ....126.3007R</td>\n",
       "      <td>b'M4.5Ve'</td>\n",
       "      <td>b'2003AJ....126.3007R'</td>\n",
       "      <td>39.9035</td>\n",
       "      <td>...</td>\n",
       "      <td>0.019</td>\n",
       "      <td>b'Vega'</td>\n",
       "      <td>b'2003yCat.2246....0C'</td>\n",
       "      <td>9.862</td>\n",
       "      <td>0.014</td>\n",
       "      <td>b'Vega'</td>\n",
       "      <td>b'2003yCat.2246....0C'</td>\n",
       "      <td>b'PM*'</td>\n",
       "      <td></td>\n",
       "      <td>0.5</td>\n",
       "    </tr>\n",
       "    <tr>\n",
       "      <th>2</th>\n",
       "      <td>b'LP  271-25'</td>\n",
       "      <td>14 28 43.2272</td>\n",
       "      <td>+33 10 39.245</td>\n",
       "      <td>b'2018yCat.1345....0G'</td>\n",
       "      <td>2.863849</td>\n",
       "      <td>b'M9.1V'</td>\n",
       "      <td>2014ApJ...794..143B</td>\n",
       "      <td>b'M9Ve'</td>\n",
       "      <td>b'2005PASP..117..676R'</td>\n",
       "      <td>90.9962</td>\n",
       "      <td>...</td>\n",
       "      <td>0.029</td>\n",
       "      <td>b'Vega'</td>\n",
       "      <td>b'2003yCat.2246....0C'</td>\n",
       "      <td>10.744</td>\n",
       "      <td>0.024</td>\n",
       "      <td>b'Vega'</td>\n",
       "      <td>b'2003yCat.2246....0C'</td>\n",
       "      <td>b'low-mass*'</td>\n",
       "      <td></td>\n",
       "      <td>0.9</td>\n",
       "    </tr>\n",
       "    <tr>\n",
       "      <th>3</th>\n",
       "      <td>b'2MASS J16154245+0546400'</td>\n",
       "      <td>16 15 42.4562</td>\n",
       "      <td>+05 46 40.065</td>\n",
       "      <td>b'2018yCat.1345....0G'</td>\n",
       "      <td>8.373846</td>\n",
       "      <td>b'M9'</td>\n",
       "      <td>2008AJ....136.1290R</td>\n",
       "      <td>b'M9'</td>\n",
       "      <td>b'2007AJ....133.2258S'</td>\n",
       "      <td>56.0884</td>\n",
       "      <td>...</td>\n",
       "      <td>0.030</td>\n",
       "      <td>b'Vega'</td>\n",
       "      <td>b'2003yCat.2246....0C'</td>\n",
       "      <td>11.741</td>\n",
       "      <td>0.022</td>\n",
       "      <td>b'Vega'</td>\n",
       "      <td>b'2003yCat.2246....0C'</td>\n",
       "      <td>b'low-mass*'</td>\n",
       "      <td></td>\n",
       "      <td>1.0</td>\n",
       "    </tr>\n",
       "    <tr>\n",
       "      <th>8</th>\n",
       "      <td>b'LP  370-26'</td>\n",
       "      <td>09 29 11.0784</td>\n",
       "      <td>+25 58 09.277</td>\n",
       "      <td>b'2018yCat.1345....0G'</td>\n",
       "      <td>1.658604</td>\n",
       "      <td>b'M5.0'</td>\n",
       "      <td>2005A&amp;A...442..211S</td>\n",
       "      <td>b'M5.0'</td>\n",
       "      <td>b'2008MNRAS.384..150L'</td>\n",
       "      <td>56.7136</td>\n",
       "      <td>...</td>\n",
       "      <td>0.023</td>\n",
       "      <td>b'Vega'</td>\n",
       "      <td>b'2003yCat.2246....0C'</td>\n",
       "      <td>9.958</td>\n",
       "      <td>0.018</td>\n",
       "      <td>b'Vega'</td>\n",
       "      <td>b'2003yCat.2246....0C'</td>\n",
       "      <td>b'PM*'</td>\n",
       "      <td></td>\n",
       "      <td>1.0</td>\n",
       "    </tr>\n",
       "    <tr>\n",
       "      <th>10</th>\n",
       "      <td>b'LP  606-35'</td>\n",
       "      <td>09 02 06.9104</td>\n",
       "      <td>+00 33 19.437</td>\n",
       "      <td>b'2018yCat.1345....0G'</td>\n",
       "      <td>1.413396</td>\n",
       "      <td>b'M6.5'</td>\n",
       "      <td>1993ApJ...406..701K</td>\n",
       "      <td>b'M6V'</td>\n",
       "      <td>b'1991ApJS...77..417K'</td>\n",
       "      <td>46.0133</td>\n",
       "      <td>...</td>\n",
       "      <td>0.023</td>\n",
       "      <td>b'Vega'</td>\n",
       "      <td>b'2003yCat.2246....0C'</td>\n",
       "      <td>11.161</td>\n",
       "      <td>0.021</td>\n",
       "      <td>b'Vega'</td>\n",
       "      <td>b'2003yCat.2246....0C'</td>\n",
       "      <td>b'low-mass*'</td>\n",
       "      <td></td>\n",
       "      <td>3.0</td>\n",
       "    </tr>\n",
       "    <tr>\n",
       "      <th>...</th>\n",
       "      <td>...</td>\n",
       "      <td>...</td>\n",
       "      <td>...</td>\n",
       "      <td>...</td>\n",
       "      <td>...</td>\n",
       "      <td>...</td>\n",
       "      <td>...</td>\n",
       "      <td>...</td>\n",
       "      <td>...</td>\n",
       "      <td>...</td>\n",
       "      <td>...</td>\n",
       "      <td>...</td>\n",
       "      <td>...</td>\n",
       "      <td>...</td>\n",
       "      <td>...</td>\n",
       "      <td>...</td>\n",
       "      <td>...</td>\n",
       "      <td>...</td>\n",
       "      <td>...</td>\n",
       "      <td>...</td>\n",
       "      <td>...</td>\n",
       "    </tr>\n",
       "    <tr>\n",
       "      <th>241</th>\n",
       "      <td>b'NLTT 29567'</td>\n",
       "      <td>12 05 36.3649</td>\n",
       "      <td>+56 23 45.439</td>\n",
       "      <td>b'2018yCat.1345....0G'</td>\n",
       "      <td>3.061821</td>\n",
       "      <td>b'M5V'</td>\n",
       "      <td>2014AJ....147...20N</td>\n",
       "      <td>b'M5V'</td>\n",
       "      <td>b'2014AJ....147...20N'</td>\n",
       "      <td>49.9263</td>\n",
       "      <td>...</td>\n",
       "      <td>0.023</td>\n",
       "      <td>b'Vega'</td>\n",
       "      <td>b'2003yCat.2246....0C'</td>\n",
       "      <td>9.847</td>\n",
       "      <td>0.019</td>\n",
       "      <td>b'Vega'</td>\n",
       "      <td>b'2003yCat.2246....0C'</td>\n",
       "      <td>b'PM*'</td>\n",
       "      <td></td>\n",
       "      <td>0.0</td>\n",
       "    </tr>\n",
       "    <tr>\n",
       "      <th>242</th>\n",
       "      <td>b'LSPM J0746+2000'</td>\n",
       "      <td>07 46 42.4953</td>\n",
       "      <td>+20 00 32.612</td>\n",
       "      <td>b'2003AJ....125..984M'</td>\n",
       "      <td>7.139007</td>\n",
       "      <td>b'L0.5'</td>\n",
       "      <td>2011ApJS..197...19K</td>\n",
       "      <td>b'L0+L1.5'</td>\n",
       "      <td>b'2017ApJS..231...15D'</td>\n",
       "      <td>80.9000</td>\n",
       "      <td>...</td>\n",
       "      <td>0.022</td>\n",
       "      <td>b'Vega'</td>\n",
       "      <td>b'2003yCat.2246....0C'</td>\n",
       "      <td>10.468</td>\n",
       "      <td>0.022</td>\n",
       "      <td>b'Vega'</td>\n",
       "      <td>b'2003yCat.2246....0C'</td>\n",
       "      <td>b'brownD*'</td>\n",
       "      <td></td>\n",
       "      <td>8.5</td>\n",
       "    </tr>\n",
       "    <tr>\n",
       "      <th>243</th>\n",
       "      <td>b'CTI 170958.5+275905'</td>\n",
       "      <td>17 10 28.2848</td>\n",
       "      <td>+27 58 09.846</td>\n",
       "      <td>b'2018yCat.1345....0G'</td>\n",
       "      <td>3.867914</td>\n",
       "      <td>b'M5.5V'</td>\n",
       "      <td>1994ApJS...94..749K</td>\n",
       "      <td>b'M5.5V'</td>\n",
       "      <td>b'1994ApJS...94..749K'</td>\n",
       "      <td>42.7861</td>\n",
       "      <td>...</td>\n",
       "      <td>0.022</td>\n",
       "      <td>b'Vega'</td>\n",
       "      <td>b'2003yCat.2246....0C'</td>\n",
       "      <td>10.939</td>\n",
       "      <td>0.018</td>\n",
       "      <td>b'Vega'</td>\n",
       "      <td>b'2003yCat.2246....0C'</td>\n",
       "      <td>b'PM*'</td>\n",
       "      <td></td>\n",
       "      <td>1.5</td>\n",
       "    </tr>\n",
       "    <tr>\n",
       "      <th>245</th>\n",
       "      <td>b'LP  401-10'</td>\n",
       "      <td>22 54 11.1784</td>\n",
       "      <td>+25 27 56.618</td>\n",
       "      <td>b'2018yCat.1345....0G'</td>\n",
       "      <td>2.446647</td>\n",
       "      <td>b'M5.5e'</td>\n",
       "      <td>2002AJ....123.2828C</td>\n",
       "      <td>b'M5.5Ve'</td>\n",
       "      <td>b'2003AJ....126.3007R'</td>\n",
       "      <td>43.1294</td>\n",
       "      <td>...</td>\n",
       "      <td>0.022</td>\n",
       "      <td>b'Vega'</td>\n",
       "      <td>b'2003yCat.2246....0C'</td>\n",
       "      <td>10.685</td>\n",
       "      <td>0.017</td>\n",
       "      <td>b'Vega'</td>\n",
       "      <td>b'2003yCat.2246....0C'</td>\n",
       "      <td>b'PM*'</td>\n",
       "      <td></td>\n",
       "      <td>1.5</td>\n",
       "    </tr>\n",
       "    <tr>\n",
       "      <th>255</th>\n",
       "      <td>b'2MASS J08151407+1030117'</td>\n",
       "      <td>08 15 14.0934</td>\n",
       "      <td>+10 30 11.637</td>\n",
       "      <td>b'2018yCat.1345....0G'</td>\n",
       "      <td>1.937642</td>\n",
       "      <td>b'M7'</td>\n",
       "      <td>2008AJ....136.1290R</td>\n",
       "      <td>b'M7'</td>\n",
       "      <td>b'2008AJ....136.1290R'</td>\n",
       "      <td>38.9129</td>\n",
       "      <td>...</td>\n",
       "      <td>0.030</td>\n",
       "      <td>b'Vega'</td>\n",
       "      <td>b'2003yCat.2246....0C'</td>\n",
       "      <td>11.334</td>\n",
       "      <td>0.023</td>\n",
       "      <td>b'Vega'</td>\n",
       "      <td>b'2003yCat.2246....0C'</td>\n",
       "      <td>b'low-mass*'</td>\n",
       "      <td></td>\n",
       "      <td>0.0</td>\n",
       "    </tr>\n",
       "  </tbody>\n",
       "</table>\n",
       "<p>88 rows × 83 columns</p>\n",
       "</div>"
      ],
      "text/plain": [
       "                        MAIN_ID             RA            DEC  \\\n",
       "0                   b'G 202-60'  16 34 25.3540  +47 50 28.351   \n",
       "2                 b'LP  271-25'  14 28 43.2272  +33 10 39.245   \n",
       "3    b'2MASS J16154245+0546400'  16 15 42.4562  +05 46 40.065   \n",
       "8                 b'LP  370-26'  09 29 11.0784  +25 58 09.277   \n",
       "10                b'LP  606-35'  09 02 06.9104  +00 33 19.437   \n",
       "..                          ...            ...            ...   \n",
       "241               b'NLTT 29567'  12 05 36.3649  +56 23 45.439   \n",
       "242          b'LSPM J0746+2000'  07 46 42.4953  +20 00 32.612   \n",
       "243      b'CTI 170958.5+275905'  17 10 28.2848  +27 58 09.846   \n",
       "245               b'LP  401-10'  22 54 11.1784  +25 27 56.618   \n",
       "255  b'2MASS J08151407+1030117'  08 15 14.0934  +10 30 11.637   \n",
       "\n",
       "                COO_BIBCODE  DISTANCE_RESULT MK_Spectral_type  \\\n",
       "0    b'2018yCat.1345....0G'         3.581848        b'M4.5Ve'   \n",
       "2    b'2018yCat.1345....0G'         2.863849         b'M9.1V'   \n",
       "3    b'2018yCat.1345....0G'         8.373846            b'M9'   \n",
       "8    b'2018yCat.1345....0G'         1.658604          b'M5.0'   \n",
       "10   b'2018yCat.1345....0G'         1.413396          b'M6.5'   \n",
       "..                      ...              ...              ...   \n",
       "241  b'2018yCat.1345....0G'         3.061821           b'M5V'   \n",
       "242  b'2003AJ....125..984M'         7.139007          b'L0.5'   \n",
       "243  b'2018yCat.1345....0G'         3.867914         b'M5.5V'   \n",
       "245  b'2018yCat.1345....0G'         2.446647         b'M5.5e'   \n",
       "255  b'2018yCat.1345....0G'         1.937642            b'M7'   \n",
       "\n",
       "              MK_bibcode     SP_TYPE              SP_BIBCODE  PLX_VALUE  ...  \\\n",
       "0    2003AJ....126.3007R   b'M4.5Ve'  b'2003AJ....126.3007R'    39.9035  ...   \n",
       "2    2014ApJ...794..143B     b'M9Ve'  b'2005PASP..117..676R'    90.9962  ...   \n",
       "3    2008AJ....136.1290R       b'M9'  b'2007AJ....133.2258S'    56.0884  ...   \n",
       "8    2005A&A...442..211S     b'M5.0'  b'2008MNRAS.384..150L'    56.7136  ...   \n",
       "10   1993ApJ...406..701K      b'M6V'  b'1991ApJS...77..417K'    46.0133  ...   \n",
       "..                   ...         ...                     ...        ...  ...   \n",
       "241  2014AJ....147...20N      b'M5V'  b'2014AJ....147...20N'    49.9263  ...   \n",
       "242  2011ApJS..197...19K  b'L0+L1.5'  b'2017ApJS..231...15D'    80.9000  ...   \n",
       "243  1994ApJS...94..749K    b'M5.5V'  b'1994ApJS...94..749K'    42.7861  ...   \n",
       "245  2002AJ....123.2828C   b'M5.5Ve'  b'2003AJ....126.3007R'    43.1294  ...   \n",
       "255  2008AJ....136.1290R       b'M7'  b'2008AJ....136.1290R'    38.9129  ...   \n",
       "\n",
       "     FLUX_ERROR_H FLUX_SYSTEM_H          FLUX_BIBCODE_H  FLUX_K  FLUX_ERROR_K  \\\n",
       "0           0.019       b'Vega'  b'2003yCat.2246....0C'   9.862         0.014   \n",
       "2           0.029       b'Vega'  b'2003yCat.2246....0C'  10.744         0.024   \n",
       "3           0.030       b'Vega'  b'2003yCat.2246....0C'  11.741         0.022   \n",
       "8           0.023       b'Vega'  b'2003yCat.2246....0C'   9.958         0.018   \n",
       "10          0.023       b'Vega'  b'2003yCat.2246....0C'  11.161         0.021   \n",
       "..            ...           ...                     ...     ...           ...   \n",
       "241         0.023       b'Vega'  b'2003yCat.2246....0C'   9.847         0.019   \n",
       "242         0.022       b'Vega'  b'2003yCat.2246....0C'  10.468         0.022   \n",
       "243         0.022       b'Vega'  b'2003yCat.2246....0C'  10.939         0.018   \n",
       "245         0.022       b'Vega'  b'2003yCat.2246....0C'  10.685         0.017   \n",
       "255         0.030       b'Vega'  b'2003yCat.2246....0C'  11.334         0.023   \n",
       "\n",
       "     FLUX_SYSTEM_K          FLUX_BIBCODE_K         OTYPE FLAG  DIFF_SPT  \n",
       "0          b'Vega'  b'2003yCat.2246....0C'        b'PM*'            0.5  \n",
       "2          b'Vega'  b'2003yCat.2246....0C'  b'low-mass*'            0.9  \n",
       "3          b'Vega'  b'2003yCat.2246....0C'  b'low-mass*'            1.0  \n",
       "8          b'Vega'  b'2003yCat.2246....0C'        b'PM*'            1.0  \n",
       "10         b'Vega'  b'2003yCat.2246....0C'  b'low-mass*'            3.0  \n",
       "..             ...                     ...           ...  ...       ...  \n",
       "241        b'Vega'  b'2003yCat.2246....0C'        b'PM*'            0.0  \n",
       "242        b'Vega'  b'2003yCat.2246....0C'    b'brownD*'            8.5  \n",
       "243        b'Vega'  b'2003yCat.2246....0C'        b'PM*'            1.5  \n",
       "245        b'Vega'  b'2003yCat.2246....0C'        b'PM*'            1.5  \n",
       "255        b'Vega'  b'2003yCat.2246....0C'  b'low-mass*'            0.0  \n",
       "\n",
       "[88 rows x 83 columns]"
      ]
     },
     "execution_count": 13,
     "metadata": {},
     "output_type": "execute_result"
    }
   ],
   "source": [
    "raw[raw['DIFF_SPT'].notna()]"
   ]
  },
  {
   "cell_type": "code",
   "execution_count": 14,
   "metadata": {},
   "outputs": [],
   "source": [
    "# rename the columns\n",
    "ionames = pd.read_excel('./Catalogs and columns.xlsx')\n",
    "ionames = ionames[ionames['output name'] != '[drop]'].dropna(how='all') # obtain the input name vs output name\n",
    "new_names = ionames[['input name','output name']].set_index('input name')['output name'].to_dict() # turn the input vs output name into a dictionary for the next step\n",
    "raw.rename(columns=new_names, inplace=True)\n",
    "\n",
    "# identify columns that goes like b'xxx'\n",
    "columns_to_convert = []\n",
    "for i in raw.columns:\n",
    "    if 'b' in str(raw.loc[213, i]): # Manually located 213 b/c that's where one of the new results is and it has byte type entries.\n",
    "        columns_to_convert.append(i)\n",
    "        \n",
    "# decode the 'bytes' to 'string'\n",
    "for index in raw.index:\n",
    "    raw.loc[index, columns_to_convert] = raw.loc[index, columns_to_convert].str.decode('ascii')"
   ]
  },
  {
   "cell_type": "code",
   "execution_count": 15,
   "metadata": {},
   "outputs": [],
   "source": [
    "raw.loc[raw[raw['DIFF_SPT'] > 3].index, 'FLAG'] = '>3'"
   ]
  },
  {
   "cell_type": "code",
   "execution_count": 16,
   "metadata": {},
   "outputs": [],
   "source": [
    "raw['GROUP'] = np.nan\n"
   ]
  },
  {
   "cell_type": "code",
   "execution_count": 17,
   "metadata": {},
   "outputs": [],
   "source": [
    "raw.loc[raw[raw['SIMBAD_SPT'] == ''].index, 'GROUP'] = 'NO SIMBAD SPT'"
   ]
  },
  {
   "cell_type": "code",
   "execution_count": 18,
   "metadata": {},
   "outputs": [],
   "source": [
    "proc = pd.merge(kast, raw, left_index=True, right_index=True, how='outer')"
   ]
  },
  {
   "cell_type": "code",
   "execution_count": 23,
   "metadata": {},
   "outputs": [],
   "source": [
    "proc.to_excel('./kast_catalogV2.xlsx')"
   ]
  },
  {
   "cell_type": "code",
   "execution_count": 22,
   "metadata": {},
   "outputs": [
    {
     "data": {
      "text/html": [
       "<div>\n",
       "<style scoped>\n",
       "    .dataframe tbody tr th:only-of-type {\n",
       "        vertical-align: middle;\n",
       "    }\n",
       "\n",
       "    .dataframe tbody tr th {\n",
       "        vertical-align: top;\n",
       "    }\n",
       "\n",
       "    .dataframe thead th {\n",
       "        text-align: right;\n",
       "    }\n",
       "</style>\n",
       "<table border=\"1\" class=\"dataframe\">\n",
       "  <thead>\n",
       "    <tr style=\"text-align: right;\">\n",
       "      <th></th>\n",
       "      <th>name</th>\n",
       "      <th>filename</th>\n",
       "      <th>tags</th>\n",
       "      <th>RA</th>\n",
       "      <th>DEC</th>\n",
       "      <th>OBSDATE</th>\n",
       "      <th>spt</th>\n",
       "      <th>subtype</th>\n",
       "      <th>spt_chi2</th>\n",
       "      <th>spt_scale</th>\n",
       "      <th>...</th>\n",
       "      <th>SIMBAD_HMAG_SYSTEM</th>\n",
       "      <th>SIMBAD_HMAG_BIBCODE</th>\n",
       "      <th>SIMBAD_KMAG</th>\n",
       "      <th>SIMBAD_KMAG_ERR</th>\n",
       "      <th>SIMBAD_KMAG_SYSTEM</th>\n",
       "      <th>SIMBAD_KMAG_BIBCODE</th>\n",
       "      <th>OTYPE</th>\n",
       "      <th>FLAG</th>\n",
       "      <th>DIFF_SPT</th>\n",
       "      <th>GROUP</th>\n",
       "    </tr>\n",
       "  </thead>\n",
       "  <tbody>\n",
       "    <tr>\n",
       "      <th>13</th>\n",
       "      <td>1735+2634</td>\n",
       "      <td>kastRED_J1735+2634B_20170813.fits</td>\n",
       "      <td>OO, S/N, !</td>\n",
       "      <td>17:35:13</td>\n",
       "      <td>26:34:46</td>\n",
       "      <td>2017-08-13T05:02:20.76</td>\n",
       "      <td>M0.0</td>\n",
       "      <td>0.0</td>\n",
       "      <td>347132.493200</td>\n",
       "      <td>5.180000e-16</td>\n",
       "      <td>...</td>\n",
       "      <td>Vega</td>\n",
       "      <td>2003yCat.2246....0C</td>\n",
       "      <td>10.157</td>\n",
       "      <td>0.020</td>\n",
       "      <td>Vega</td>\n",
       "      <td>2003yCat.2246....0C</td>\n",
       "      <td>low-mass*</td>\n",
       "      <td>&gt;3</td>\n",
       "      <td>7.0</td>\n",
       "      <td>NaN</td>\n",
       "    </tr>\n",
       "    <tr>\n",
       "      <th>21</th>\n",
       "      <td>2254+2527</td>\n",
       "      <td>kastRED_J2254+2527B_20180622.fits</td>\n",
       "      <td>S/N, NO</td>\n",
       "      <td>22:54:11</td>\n",
       "      <td>25:27:57</td>\n",
       "      <td>2018-06-22T10:58:32.19</td>\n",
       "      <td>esdK7.0</td>\n",
       "      <td>-3.0</td>\n",
       "      <td>181743.883700</td>\n",
       "      <td>5.810000e-17</td>\n",
       "      <td>...</td>\n",
       "      <td>Vega</td>\n",
       "      <td>2003yCat.2246....0C</td>\n",
       "      <td>10.685</td>\n",
       "      <td>0.017</td>\n",
       "      <td>Vega</td>\n",
       "      <td>2003yCat.2246....0C</td>\n",
       "      <td>PM*</td>\n",
       "      <td>&gt;3</td>\n",
       "      <td>8.5</td>\n",
       "      <td>NaN</td>\n",
       "    </tr>\n",
       "    <tr>\n",
       "      <th>26</th>\n",
       "      <td>J2352-1100</td>\n",
       "      <td>kastRED_J2352-1100B_20190918.fits</td>\n",
       "      <td>S/N, NO</td>\n",
       "      <td>23:52:05</td>\n",
       "      <td>-11:00:44</td>\n",
       "      <td>2019-09-18T08:27:23.12</td>\n",
       "      <td>M0.0</td>\n",
       "      <td>0.0</td>\n",
       "      <td>9699.560938</td>\n",
       "      <td>1.330000e-16</td>\n",
       "      <td>...</td>\n",
       "      <td>Vega</td>\n",
       "      <td>2003yCat.2246....0C</td>\n",
       "      <td>11.742</td>\n",
       "      <td>0.020</td>\n",
       "      <td>Vega</td>\n",
       "      <td>2003yCat.2246....0C</td>\n",
       "      <td>low-mass*</td>\n",
       "      <td>&gt;3</td>\n",
       "      <td>7.0</td>\n",
       "      <td>NaN</td>\n",
       "    </tr>\n",
       "    <tr>\n",
       "      <th>53</th>\n",
       "      <td>J1448+1554</td>\n",
       "      <td>kastRED_J1448+1554B_20180717.fits</td>\n",
       "      <td>S/N, OO</td>\n",
       "      <td>14:48:03</td>\n",
       "      <td>15:54:15</td>\n",
       "      <td>2018-07-18T05:43:47.93</td>\n",
       "      <td>M0.0</td>\n",
       "      <td>0.0</td>\n",
       "      <td>327213.250200</td>\n",
       "      <td>2.210000e-16</td>\n",
       "      <td>...</td>\n",
       "      <td>Vega</td>\n",
       "      <td>2003yCat.2246....0C</td>\n",
       "      <td>11.475</td>\n",
       "      <td>0.020</td>\n",
       "      <td>Vega</td>\n",
       "      <td>2003yCat.2246....0C</td>\n",
       "      <td>PM*</td>\n",
       "      <td>&gt;3</td>\n",
       "      <td>6.5</td>\n",
       "      <td>NaN</td>\n",
       "    </tr>\n",
       "    <tr>\n",
       "      <th>128</th>\n",
       "      <td>J1314+6622</td>\n",
       "      <td>kastRED_J1314+6622C_20200205.fits</td>\n",
       "      <td>S/N, NO</td>\n",
       "      <td>13:14:24</td>\n",
       "      <td>66:22:33</td>\n",
       "      <td>2020-02-06T11:08:36.76</td>\n",
       "      <td>M0.0</td>\n",
       "      <td>0.0</td>\n",
       "      <td>76425.515700</td>\n",
       "      <td>1.390000e-15</td>\n",
       "      <td>...</td>\n",
       "      <td>Vega</td>\n",
       "      <td>2003yCat.2246....0C</td>\n",
       "      <td>10.508</td>\n",
       "      <td>0.017</td>\n",
       "      <td>Vega</td>\n",
       "      <td>2003yCat.2246....0C</td>\n",
       "      <td>PM*</td>\n",
       "      <td>&gt;3</td>\n",
       "      <td>5.5</td>\n",
       "      <td>NaN</td>\n",
       "    </tr>\n",
       "    <tr>\n",
       "      <th>135</th>\n",
       "      <td>J0815+1030</td>\n",
       "      <td>kastRED_J0815+1030B_20200203.fits</td>\n",
       "      <td>S/N, NO</td>\n",
       "      <td>8:15:14</td>\n",
       "      <td>10:30:13</td>\n",
       "      <td>2020-02-04T06:29:03.88</td>\n",
       "      <td>M0.0</td>\n",
       "      <td>0.0</td>\n",
       "      <td>15959.472420</td>\n",
       "      <td>2.510000e-16</td>\n",
       "      <td>...</td>\n",
       "      <td>Vega</td>\n",
       "      <td>2003yCat.2246....0C</td>\n",
       "      <td>11.334</td>\n",
       "      <td>0.023</td>\n",
       "      <td>Vega</td>\n",
       "      <td>2003yCat.2246....0C</td>\n",
       "      <td>low-mass*</td>\n",
       "      <td>&gt;3</td>\n",
       "      <td>7.0</td>\n",
       "      <td>NaN</td>\n",
       "    </tr>\n",
       "    <tr>\n",
       "      <th>173</th>\n",
       "      <td>J1314+6622</td>\n",
       "      <td>kastRED_J1314+6622B_20200205.fits</td>\n",
       "      <td>S/N, NO</td>\n",
       "      <td>13:14:24</td>\n",
       "      <td>66:22:33</td>\n",
       "      <td>2020-02-06T11:08:36.76</td>\n",
       "      <td>M0.0</td>\n",
       "      <td>0.0</td>\n",
       "      <td>639602.677900</td>\n",
       "      <td>8.340000e-16</td>\n",
       "      <td>...</td>\n",
       "      <td>Vega</td>\n",
       "      <td>2003yCat.2246....0C</td>\n",
       "      <td>10.508</td>\n",
       "      <td>0.017</td>\n",
       "      <td>Vega</td>\n",
       "      <td>2003yCat.2246....0C</td>\n",
       "      <td>PM*</td>\n",
       "      <td>&gt;3</td>\n",
       "      <td>5.5</td>\n",
       "      <td>NaN</td>\n",
       "    </tr>\n",
       "    <tr>\n",
       "      <th>238</th>\n",
       "      <td>J1115+5657</td>\n",
       "      <td>kastRED_J1115+5657_20200206.fits</td>\n",
       "      <td>None</td>\n",
       "      <td>11:11:55</td>\n",
       "      <td>56:57:30</td>\n",
       "      <td>2020-02-07T12:25:53.26</td>\n",
       "      <td>M7.0</td>\n",
       "      <td>7.0</td>\n",
       "      <td>48391.727780</td>\n",
       "      <td>5.830000e-15</td>\n",
       "      <td>...</td>\n",
       "      <td>Vega</td>\n",
       "      <td>2003yCat.2246....0C</td>\n",
       "      <td>11.444</td>\n",
       "      <td>0.021</td>\n",
       "      <td>Vega</td>\n",
       "      <td>2003yCat.2246....0C</td>\n",
       "      <td>PM*</td>\n",
       "      <td>&gt;3</td>\n",
       "      <td>5.0</td>\n",
       "      <td>NaN</td>\n",
       "    </tr>\n",
       "    <tr>\n",
       "      <th>242</th>\n",
       "      <td>J0746+2000</td>\n",
       "      <td>kastRED_J0746+2000B_20200311.fits</td>\n",
       "      <td>lto, S/N, ?</td>\n",
       "      <td>7:46:43</td>\n",
       "      <td>20:00:32</td>\n",
       "      <td>2020-03-12T05:23:36.30</td>\n",
       "      <td>M2.0</td>\n",
       "      <td>2.0</td>\n",
       "      <td>7372.281033</td>\n",
       "      <td>2.410000e-16</td>\n",
       "      <td>...</td>\n",
       "      <td>Vega</td>\n",
       "      <td>2003yCat.2246....0C</td>\n",
       "      <td>10.468</td>\n",
       "      <td>0.022</td>\n",
       "      <td>Vega</td>\n",
       "      <td>2003yCat.2246....0C</td>\n",
       "      <td>brownD*</td>\n",
       "      <td>&gt;3</td>\n",
       "      <td>8.5</td>\n",
       "      <td>NaN</td>\n",
       "    </tr>\n",
       "  </tbody>\n",
       "</table>\n",
       "<p>9 rows × 297 columns</p>\n",
       "</div>"
      ],
      "text/plain": [
       "           name                           filename         tags        RA  \\\n",
       "13    1735+2634  kastRED_J1735+2634B_20170813.fits   OO, S/N, !  17:35:13   \n",
       "21    2254+2527  kastRED_J2254+2527B_20180622.fits      S/N, NO  22:54:11   \n",
       "26   J2352-1100  kastRED_J2352-1100B_20190918.fits      S/N, NO  23:52:05   \n",
       "53   J1448+1554  kastRED_J1448+1554B_20180717.fits      S/N, OO  14:48:03   \n",
       "128  J1314+6622  kastRED_J1314+6622C_20200205.fits      S/N, NO  13:14:24   \n",
       "135  J0815+1030  kastRED_J0815+1030B_20200203.fits      S/N, NO   8:15:14   \n",
       "173  J1314+6622  kastRED_J1314+6622B_20200205.fits      S/N, NO  13:14:24   \n",
       "238  J1115+5657   kastRED_J1115+5657_20200206.fits         None  11:11:55   \n",
       "242  J0746+2000  kastRED_J0746+2000B_20200311.fits  lto, S/N, ?   7:46:43   \n",
       "\n",
       "           DEC                 OBSDATE      spt  subtype       spt_chi2  \\\n",
       "13    26:34:46  2017-08-13T05:02:20.76     M0.0      0.0  347132.493200   \n",
       "21    25:27:57  2018-06-22T10:58:32.19  esdK7.0     -3.0  181743.883700   \n",
       "26   -11:00:44  2019-09-18T08:27:23.12     M0.0      0.0    9699.560938   \n",
       "53    15:54:15  2018-07-18T05:43:47.93     M0.0      0.0  327213.250200   \n",
       "128   66:22:33  2020-02-06T11:08:36.76     M0.0      0.0   76425.515700   \n",
       "135   10:30:13  2020-02-04T06:29:03.88     M0.0      0.0   15959.472420   \n",
       "173   66:22:33  2020-02-06T11:08:36.76     M0.0      0.0  639602.677900   \n",
       "238   56:57:30  2020-02-07T12:25:53.26     M7.0      7.0   48391.727780   \n",
       "242   20:00:32  2020-03-12T05:23:36.30     M2.0      2.0    7372.281033   \n",
       "\n",
       "        spt_scale  ...  SIMBAD_HMAG_SYSTEM  SIMBAD_HMAG_BIBCODE  SIMBAD_KMAG  \\\n",
       "13   5.180000e-16  ...                Vega  2003yCat.2246....0C       10.157   \n",
       "21   5.810000e-17  ...                Vega  2003yCat.2246....0C       10.685   \n",
       "26   1.330000e-16  ...                Vega  2003yCat.2246....0C       11.742   \n",
       "53   2.210000e-16  ...                Vega  2003yCat.2246....0C       11.475   \n",
       "128  1.390000e-15  ...                Vega  2003yCat.2246....0C       10.508   \n",
       "135  2.510000e-16  ...                Vega  2003yCat.2246....0C       11.334   \n",
       "173  8.340000e-16  ...                Vega  2003yCat.2246....0C       10.508   \n",
       "238  5.830000e-15  ...                Vega  2003yCat.2246....0C       11.444   \n",
       "242  2.410000e-16  ...                Vega  2003yCat.2246....0C       10.468   \n",
       "\n",
       "     SIMBAD_KMAG_ERR  SIMBAD_KMAG_SYSTEM  SIMBAD_KMAG_BIBCODE      OTYPE FLAG  \\\n",
       "13             0.020                Vega  2003yCat.2246....0C  low-mass*   >3   \n",
       "21             0.017                Vega  2003yCat.2246....0C        PM*   >3   \n",
       "26             0.020                Vega  2003yCat.2246....0C  low-mass*   >3   \n",
       "53             0.020                Vega  2003yCat.2246....0C        PM*   >3   \n",
       "128            0.017                Vega  2003yCat.2246....0C        PM*   >3   \n",
       "135            0.023                Vega  2003yCat.2246....0C  low-mass*   >3   \n",
       "173            0.017                Vega  2003yCat.2246....0C        PM*   >3   \n",
       "238            0.021                Vega  2003yCat.2246....0C        PM*   >3   \n",
       "242            0.022                Vega  2003yCat.2246....0C    brownD*   >3   \n",
       "\n",
       "     DIFF_SPT  GROUP  \n",
       "13        7.0    NaN  \n",
       "21        8.5    NaN  \n",
       "26        7.0    NaN  \n",
       "53        6.5    NaN  \n",
       "128       5.5    NaN  \n",
       "135       7.0    NaN  \n",
       "173       5.5    NaN  \n",
       "238       5.0    NaN  \n",
       "242       8.5    NaN  \n",
       "\n",
       "[9 rows x 297 columns]"
      ]
     },
     "execution_count": 22,
     "metadata": {},
     "output_type": "execute_result"
    }
   ],
   "source": [
    "proc[proc['FLAG'] == '>3']"
   ]
  },
  {
   "cell_type": "code",
   "execution_count": 6,
   "metadata": {},
   "outputs": [],
   "source": [
    "# WIP"
   ]
  },
  {
   "cell_type": "code",
   "execution_count": 12,
   "metadata": {},
   "outputs": [
    {
     "name": "stdout",
     "output_type": "stream",
     "text": [
      "\n",
      "Retrieving 60 files\n",
      "\n"
     ]
    }
   ],
   "source": [
    "random = splat.getSpectrum(spt='M6')[0]"
   ]
  },
  {
   "cell_type": "code",
   "execution_count": 14,
   "metadata": {},
   "outputs": [
    {
     "data": {
      "image/png": "[encoded data removed]",
      "text/plain": [
       "<Figure size 432x288 with 1 Axes>"
      ]
     },
     "metadata": {
      "needs_background": "light"
     },
     "output_type": "display_data"
    },
    {
     "data": {
      "text/plain": [
       "[<Figure size 432x288 with 1 Axes>]"
      ]
     },
     "execution_count": 14,
     "metadata": {},
     "output_type": "execute_result"
    }
   ],
   "source": [
    "random.plot()"
   ]
  },
  {
   "cell_type": "code",
   "execution_count": null,
   "metadata": {},
   "outputs": [],
   "source": []
  }
 ],
 "metadata": {
  "kernelspec": {
   "display_name": "Python 3",
   "language": "python",
   "name": "python3"
  },
  "language_info": {
   "codemirror_mode": {
    "name": "ipython",
    "version": 3
   },
   "file_extension": ".py",
   "mimetype": "text/x-python",
   "name": "python",
   "nbconvert_exporter": "python",
   "pygments_lexer": "ipython3",
   "version": "3.6.10"
  }
 },
 "nbformat": 4,
 "nbformat_minor": 4
}
